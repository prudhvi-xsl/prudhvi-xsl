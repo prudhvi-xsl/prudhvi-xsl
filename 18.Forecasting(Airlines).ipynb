{
 "cells": [
  {
   "cell_type": "code",
   "execution_count": 1,
   "id": "72d1fcb0",
   "metadata": {
    "ExecuteTime": {
     "end_time": "2023-01-24T13:52:10.005194Z",
     "start_time": "2023-01-24T13:52:07.181932Z"
    }
   },
   "outputs": [],
   "source": [
    "import numpy as np\n",
    "import pandas as pd\n",
    "import seaborn as sns\n",
    "import matplotlib.pyplot as plt\n",
    "import statsmodels.graphics.tsaplots as tsa_plots\n",
    "\n",
    "from pandas import Grouper\n",
    "from statsmodels.tsa.seasonal import seasonal_decompose\n",
    "import statsmodels.formula.api as smf"
   ]
  },
  {
   "cell_type": "code",
   "execution_count": 3,
   "id": "8dbf529f",
   "metadata": {
    "ExecuteTime": {
     "end_time": "2023-01-24T13:54:25.622557Z",
     "start_time": "2023-01-24T13:54:25.598502Z"
    }
   },
   "outputs": [
    {
     "data": {
      "text/html": [
       "<div>\n",
       "<style scoped>\n",
       "    .dataframe tbody tr th:only-of-type {\n",
       "        vertical-align: middle;\n",
       "    }\n",
       "\n",
       "    .dataframe tbody tr th {\n",
       "        vertical-align: top;\n",
       "    }\n",
       "\n",
       "    .dataframe thead th {\n",
       "        text-align: right;\n",
       "    }\n",
       "</style>\n",
       "<table border=\"1\" class=\"dataframe\">\n",
       "  <thead>\n",
       "    <tr style=\"text-align: right;\">\n",
       "      <th></th>\n",
       "      <th>Month</th>\n",
       "      <th>Passengers</th>\n",
       "    </tr>\n",
       "  </thead>\n",
       "  <tbody>\n",
       "    <tr>\n",
       "      <th>0</th>\n",
       "      <td>Jan-95</td>\n",
       "      <td>112</td>\n",
       "    </tr>\n",
       "    <tr>\n",
       "      <th>1</th>\n",
       "      <td>Feb-95</td>\n",
       "      <td>118</td>\n",
       "    </tr>\n",
       "    <tr>\n",
       "      <th>2</th>\n",
       "      <td>Mar-95</td>\n",
       "      <td>132</td>\n",
       "    </tr>\n",
       "    <tr>\n",
       "      <th>3</th>\n",
       "      <td>Apr-95</td>\n",
       "      <td>129</td>\n",
       "    </tr>\n",
       "    <tr>\n",
       "      <th>4</th>\n",
       "      <td>May-95</td>\n",
       "      <td>121</td>\n",
       "    </tr>\n",
       "  </tbody>\n",
       "</table>\n",
       "</div>"
      ],
      "text/plain": [
       "    Month  Passengers\n",
       "0  Jan-95         112\n",
       "1  Feb-95         118\n",
       "2  Mar-95         132\n",
       "3  Apr-95         129\n",
       "4  May-95         121"
      ]
     },
     "execution_count": 3,
     "metadata": {},
     "output_type": "execute_result"
    }
   ],
   "source": [
    "data=pd.read_csv('Downloads/Airlines+Data.csv')\n",
    "data.head()"
   ]
  },
  {
   "cell_type": "markdown",
   "id": "4a18414c",
   "metadata": {},
   "source": [
    "### EDA"
   ]
  },
  {
   "cell_type": "code",
   "execution_count": 4,
   "id": "310b2554",
   "metadata": {
    "ExecuteTime": {
     "end_time": "2023-01-24T13:54:49.328163Z",
     "start_time": "2023-01-24T13:54:49.305852Z"
    }
   },
   "outputs": [
    {
     "name": "stdout",
     "output_type": "stream",
     "text": [
      "<class 'pandas.core.frame.DataFrame'>\n",
      "RangeIndex: 96 entries, 0 to 95\n",
      "Data columns (total 2 columns):\n",
      " #   Column      Non-Null Count  Dtype \n",
      "---  ------      --------------  ----- \n",
      " 0   Month       96 non-null     object\n",
      " 1   Passengers  96 non-null     int64 \n",
      "dtypes: int64(1), object(1)\n",
      "memory usage: 1.6+ KB\n"
     ]
    }
   ],
   "source": [
    "data.info()"
   ]
  },
  {
   "cell_type": "code",
   "execution_count": 5,
   "id": "c8bdb998",
   "metadata": {
    "ExecuteTime": {
     "end_time": "2023-01-24T13:54:58.405341Z",
     "start_time": "2023-01-24T13:54:58.385494Z"
    }
   },
   "outputs": [
    {
     "data": {
      "text/plain": [
       "Month         0\n",
       "Passengers    0\n",
       "dtype: int64"
      ]
     },
     "execution_count": 5,
     "metadata": {},
     "output_type": "execute_result"
    }
   ],
   "source": [
    "data.isna().sum()"
   ]
  },
  {
   "cell_type": "code",
   "execution_count": 6,
   "id": "f19d10ef",
   "metadata": {
    "ExecuteTime": {
     "end_time": "2023-01-24T13:55:13.703823Z",
     "start_time": "2023-01-24T13:55:13.686986Z"
    }
   },
   "outputs": [
    {
     "data": {
      "text/plain": [
       "(0, 2)"
      ]
     },
     "execution_count": 6,
     "metadata": {},
     "output_type": "execute_result"
    }
   ],
   "source": [
    "data[data.duplicated()].shape"
   ]
  },
  {
   "cell_type": "code",
   "execution_count": 7,
   "id": "b774af3b",
   "metadata": {
    "ExecuteTime": {
     "end_time": "2023-01-24T13:55:20.860777Z",
     "start_time": "2023-01-24T13:55:20.838842Z"
    }
   },
   "outputs": [
    {
     "data": {
      "text/html": [
       "<div>\n",
       "<style scoped>\n",
       "    .dataframe tbody tr th:only-of-type {\n",
       "        vertical-align: middle;\n",
       "    }\n",
       "\n",
       "    .dataframe tbody tr th {\n",
       "        vertical-align: top;\n",
       "    }\n",
       "\n",
       "    .dataframe thead th {\n",
       "        text-align: right;\n",
       "    }\n",
       "</style>\n",
       "<table border=\"1\" class=\"dataframe\">\n",
       "  <thead>\n",
       "    <tr style=\"text-align: right;\">\n",
       "      <th></th>\n",
       "      <th>count</th>\n",
       "      <th>mean</th>\n",
       "      <th>std</th>\n",
       "      <th>min</th>\n",
       "      <th>25%</th>\n",
       "      <th>50%</th>\n",
       "      <th>75%</th>\n",
       "      <th>max</th>\n",
       "    </tr>\n",
       "  </thead>\n",
       "  <tbody>\n",
       "    <tr>\n",
       "      <th>Passengers</th>\n",
       "      <td>96.0</td>\n",
       "      <td>213.708333</td>\n",
       "      <td>71.918216</td>\n",
       "      <td>104.0</td>\n",
       "      <td>156.0</td>\n",
       "      <td>200.0</td>\n",
       "      <td>264.75</td>\n",
       "      <td>413.0</td>\n",
       "    </tr>\n",
       "  </tbody>\n",
       "</table>\n",
       "</div>"
      ],
      "text/plain": [
       "            count        mean        std    min    25%    50%     75%    max\n",
       "Passengers   96.0  213.708333  71.918216  104.0  156.0  200.0  264.75  413.0"
      ]
     },
     "execution_count": 7,
     "metadata": {},
     "output_type": "execute_result"
    }
   ],
   "source": [
    "data.describe().T"
   ]
  },
  {
   "cell_type": "code",
   "execution_count": 8,
   "id": "364528a2",
   "metadata": {
    "ExecuteTime": {
     "end_time": "2023-01-24T13:55:28.171996Z",
     "start_time": "2023-01-24T13:55:27.952386Z"
    }
   },
   "outputs": [
    {
     "data": {
      "image/png": "[encoded data removed]",
      "text/plain": [
       "<Figure size 640x480 with 1 Axes>"
      ]
     },
     "metadata": {},
     "output_type": "display_data"
    }
   ],
   "source": [
    "data.plot()\n",
    "plt.show()"
   ]
  },
  {
   "cell_type": "code",
   "execution_count": 9,
   "id": "9345960f",
   "metadata": {
    "ExecuteTime": {
     "end_time": "2023-01-24T13:55:35.718729Z",
     "start_time": "2023-01-24T13:55:35.559663Z"
    }
   },
   "outputs": [
    {
     "data": {
      "image/png": "[encoded data removed]",
      "text/plain": [
       "<Figure size 640x480 with 1 Axes>"
      ]
     },
     "metadata": {},
     "output_type": "display_data"
    }
   ],
   "source": [
    "data.hist()\n",
    "plt.show()"
   ]
  },
  {
   "cell_type": "code",
   "execution_count": 10,
   "id": "e78331c0",
   "metadata": {
    "ExecuteTime": {
     "end_time": "2023-01-24T13:55:42.710985Z",
     "start_time": "2023-01-24T13:55:42.576633Z"
    }
   },
   "outputs": [
    {
     "data": {
      "image/png": "[encoded data removed]",
      "text/plain": [
       "<Figure size 640x480 with 1 Axes>"
      ]
     },
     "metadata": {},
     "output_type": "display_data"
    }
   ],
   "source": [
    "data.plot(kind=\"kde\")\n",
    "plt.show()"
   ]
  },
  {
   "cell_type": "markdown",
   "id": "011de6c1",
   "metadata": {},
   "source": [
    "### Moving Average"
   ]
  },
  {
   "cell_type": "code",
   "execution_count": 11,
   "id": "dcf973f1",
   "metadata": {
    "ExecuteTime": {
     "end_time": "2023-01-24T13:56:10.194658Z",
     "start_time": "2023-01-24T13:56:09.930791Z"
    }
   },
   "outputs": [
    {
     "data": {
      "text/plain": [
       "<matplotlib.legend.Legend at 0x2dd58618550>"
      ]
     },
     "execution_count": 11,
     "metadata": {},
     "output_type": "execute_result"
    },
    {
     "data": {
      "image/png": "[encoded data removed]",
      "text/plain": [
       "<Figure size 1400x800 with 1 Axes>"
      ]
     },
     "metadata": {},
     "output_type": "display_data"
    }
   ],
   "source": [
    "plt.figure(figsize=(14, 8))\n",
    "data.Passengers.plot(label=\"org\")\n",
    "for i in range(2, 20, 4):\n",
    "    data[\"Passengers\"].rolling(i).mean().plot(label=str(i))\n",
    "plt.legend(loc=\"best\")"
   ]
  },
  {
   "cell_type": "markdown",
   "id": "0f9af776",
   "metadata": {},
   "source": [
    "### Time series decomposition plot"
   ]
  },
  {
   "cell_type": "code",
   "execution_count": 12,
   "id": "4186f242",
   "metadata": {
    "ExecuteTime": {
     "end_time": "2023-01-24T13:56:53.772180Z",
     "start_time": "2023-01-24T13:56:53.444914Z"
    }
   },
   "outputs": [
    {
     "data": {
      "image/png": "[encoded data removed]",
      "text/plain": [
       "<Figure size 640x480 with 4 Axes>"
      ]
     },
     "metadata": {},
     "output_type": "display_data"
    }
   ],
   "source": [
    "decompose_ts_add = seasonal_decompose(data.Passengers,period=12, model=\"multiplicative\")\n",
    "decompose_ts_add.plot()\n",
    "plt.show()"
   ]
  },
  {
   "cell_type": "markdown",
   "id": "db982935",
   "metadata": {},
   "source": [
    "### ACF plots and PACF plots"
   ]
  },
  {
   "cell_type": "code",
   "execution_count": 13,
   "id": "8c22016b",
   "metadata": {
    "ExecuteTime": {
     "end_time": "2023-01-24T13:57:16.692975Z",
     "start_time": "2023-01-24T13:57:16.379188Z"
    }
   },
   "outputs": [
    {
     "name": "stderr",
     "output_type": "stream",
     "text": [
      "C:\\Users\\golla\\anaconda3\\lib\\site-packages\\statsmodels\\graphics\\tsaplots.py:348: FutureWarning: The default method 'yw' can produce PACF values outside of the [-1,1] interval. After 0.13, the default will change tounadjusted Yule-Walker ('ywm'). You can use this method now by setting method='ywm'.\n",
      "  warnings.warn(\n"
     ]
    },
    {
     "data": {
      "image/png": "[encoded data removed]",
      "text/plain": [
       "<Figure size 640x480 with 1 Axes>"
      ]
     },
     "metadata": {},
     "output_type": "display_data"
    },
    {
     "data": {
      "image/png": "[encoded data removed]",
      "text/plain": [
       "<Figure size 640x480 with 1 Axes>"
      ]
     },
     "metadata": {},
     "output_type": "display_data"
    }
   ],
   "source": [
    "tsa_plots.plot_acf(data.Passengers,lags=12)\n",
    "tsa_plots.plot_pacf(data.Passengers,lags=12)\n",
    "plt.show()"
   ]
  },
  {
   "cell_type": "markdown",
   "id": "3d17330d",
   "metadata": {},
   "source": [
    "### Data Preprocessing"
   ]
  },
  {
   "cell_type": "code",
   "execution_count": 14,
   "id": "48147adb",
   "metadata": {
    "ExecuteTime": {
     "end_time": "2023-01-24T13:58:02.481343Z",
     "start_time": "2023-01-24T13:58:02.475609Z"
    }
   },
   "outputs": [],
   "source": [
    "months = ['Jan','Feb','Mar','Apr','May','Jun','Jul','Aug','Sep','Oct','Nov','Dec']\n",
    "p = data[\"Month\"][0]\n",
    "p[0:3]\n",
    "data['months'] = 0"
   ]
  },
  {
   "cell_type": "code",
   "execution_count": 15,
   "id": "5603b49a",
   "metadata": {
    "ExecuteTime": {
     "end_time": "2023-01-24T13:58:10.858573Z",
     "start_time": "2023-01-24T13:58:10.837235Z"
    }
   },
   "outputs": [
    {
     "name": "stderr",
     "output_type": "stream",
     "text": [
      "C:\\Users\\golla\\AppData\\Local\\Temp\\ipykernel_23716\\2832826083.py:3: SettingWithCopyWarning: \n",
      "A value is trying to be set on a copy of a slice from a DataFrame\n",
      "\n",
      "See the caveats in the documentation: https://pandas.pydata.org/pandas-docs/stable/user_guide/indexing.html#returning-a-view-versus-a-copy\n",
      "  data['months'][i]= p[0:3]\n"
     ]
    }
   ],
   "source": [
    "for i in range(96):\n",
    "    p = data[\"Month\"][i]\n",
    "    data['months'][i]= p[0:3]"
   ]
  },
  {
   "cell_type": "code",
   "execution_count": 16,
   "id": "f956c433",
   "metadata": {
    "ExecuteTime": {
     "end_time": "2023-01-24T13:58:31.911829Z",
     "start_time": "2023-01-24T13:58:31.882312Z"
    }
   },
   "outputs": [
    {
     "data": {
      "text/html": [
       "<div>\n",
       "<style scoped>\n",
       "    .dataframe tbody tr th:only-of-type {\n",
       "        vertical-align: middle;\n",
       "    }\n",
       "\n",
       "    .dataframe tbody tr th {\n",
       "        vertical-align: top;\n",
       "    }\n",
       "\n",
       "    .dataframe thead th {\n",
       "        text-align: right;\n",
       "    }\n",
       "</style>\n",
       "<table border=\"1\" class=\"dataframe\">\n",
       "  <thead>\n",
       "    <tr style=\"text-align: right;\">\n",
       "      <th></th>\n",
       "      <th>Month</th>\n",
       "      <th>Passengers</th>\n",
       "      <th>months</th>\n",
       "      <th>Apr</th>\n",
       "      <th>Aug</th>\n",
       "      <th>Dec</th>\n",
       "      <th>Feb</th>\n",
       "      <th>Jan</th>\n",
       "      <th>Jul</th>\n",
       "      <th>Jun</th>\n",
       "      <th>Mar</th>\n",
       "      <th>May</th>\n",
       "      <th>Nov</th>\n",
       "      <th>Oct</th>\n",
       "      <th>Sep</th>\n",
       "    </tr>\n",
       "  </thead>\n",
       "  <tbody>\n",
       "    <tr>\n",
       "      <th>0</th>\n",
       "      <td>Jan-95</td>\n",
       "      <td>112</td>\n",
       "      <td>Jan</td>\n",
       "      <td>0</td>\n",
       "      <td>0</td>\n",
       "      <td>0</td>\n",
       "      <td>0</td>\n",
       "      <td>1</td>\n",
       "      <td>0</td>\n",
       "      <td>0</td>\n",
       "      <td>0</td>\n",
       "      <td>0</td>\n",
       "      <td>0</td>\n",
       "      <td>0</td>\n",
       "      <td>0</td>\n",
       "    </tr>\n",
       "    <tr>\n",
       "      <th>1</th>\n",
       "      <td>Feb-95</td>\n",
       "      <td>118</td>\n",
       "      <td>Feb</td>\n",
       "      <td>0</td>\n",
       "      <td>0</td>\n",
       "      <td>0</td>\n",
       "      <td>1</td>\n",
       "      <td>0</td>\n",
       "      <td>0</td>\n",
       "      <td>0</td>\n",
       "      <td>0</td>\n",
       "      <td>0</td>\n",
       "      <td>0</td>\n",
       "      <td>0</td>\n",
       "      <td>0</td>\n",
       "    </tr>\n",
       "    <tr>\n",
       "      <th>2</th>\n",
       "      <td>Mar-95</td>\n",
       "      <td>132</td>\n",
       "      <td>Mar</td>\n",
       "      <td>0</td>\n",
       "      <td>0</td>\n",
       "      <td>0</td>\n",
       "      <td>0</td>\n",
       "      <td>0</td>\n",
       "      <td>0</td>\n",
       "      <td>0</td>\n",
       "      <td>1</td>\n",
       "      <td>0</td>\n",
       "      <td>0</td>\n",
       "      <td>0</td>\n",
       "      <td>0</td>\n",
       "    </tr>\n",
       "    <tr>\n",
       "      <th>3</th>\n",
       "      <td>Apr-95</td>\n",
       "      <td>129</td>\n",
       "      <td>Apr</td>\n",
       "      <td>1</td>\n",
       "      <td>0</td>\n",
       "      <td>0</td>\n",
       "      <td>0</td>\n",
       "      <td>0</td>\n",
       "      <td>0</td>\n",
       "      <td>0</td>\n",
       "      <td>0</td>\n",
       "      <td>0</td>\n",
       "      <td>0</td>\n",
       "      <td>0</td>\n",
       "      <td>0</td>\n",
       "    </tr>\n",
       "    <tr>\n",
       "      <th>4</th>\n",
       "      <td>May-95</td>\n",
       "      <td>121</td>\n",
       "      <td>May</td>\n",
       "      <td>0</td>\n",
       "      <td>0</td>\n",
       "      <td>0</td>\n",
       "      <td>0</td>\n",
       "      <td>0</td>\n",
       "      <td>0</td>\n",
       "      <td>0</td>\n",
       "      <td>0</td>\n",
       "      <td>1</td>\n",
       "      <td>0</td>\n",
       "      <td>0</td>\n",
       "      <td>0</td>\n",
       "    </tr>\n",
       "    <tr>\n",
       "      <th>...</th>\n",
       "      <td>...</td>\n",
       "      <td>...</td>\n",
       "      <td>...</td>\n",
       "      <td>...</td>\n",
       "      <td>...</td>\n",
       "      <td>...</td>\n",
       "      <td>...</td>\n",
       "      <td>...</td>\n",
       "      <td>...</td>\n",
       "      <td>...</td>\n",
       "      <td>...</td>\n",
       "      <td>...</td>\n",
       "      <td>...</td>\n",
       "      <td>...</td>\n",
       "      <td>...</td>\n",
       "    </tr>\n",
       "    <tr>\n",
       "      <th>91</th>\n",
       "      <td>Aug-02</td>\n",
       "      <td>405</td>\n",
       "      <td>Aug</td>\n",
       "      <td>0</td>\n",
       "      <td>1</td>\n",
       "      <td>0</td>\n",
       "      <td>0</td>\n",
       "      <td>0</td>\n",
       "      <td>0</td>\n",
       "      <td>0</td>\n",
       "      <td>0</td>\n",
       "      <td>0</td>\n",
       "      <td>0</td>\n",
       "      <td>0</td>\n",
       "      <td>0</td>\n",
       "    </tr>\n",
       "    <tr>\n",
       "      <th>92</th>\n",
       "      <td>Sep-02</td>\n",
       "      <td>355</td>\n",
       "      <td>Sep</td>\n",
       "      <td>0</td>\n",
       "      <td>0</td>\n",
       "      <td>0</td>\n",
       "      <td>0</td>\n",
       "      <td>0</td>\n",
       "      <td>0</td>\n",
       "      <td>0</td>\n",
       "      <td>0</td>\n",
       "      <td>0</td>\n",
       "      <td>0</td>\n",
       "      <td>0</td>\n",
       "      <td>1</td>\n",
       "    </tr>\n",
       "    <tr>\n",
       "      <th>93</th>\n",
       "      <td>Oct-02</td>\n",
       "      <td>306</td>\n",
       "      <td>Oct</td>\n",
       "      <td>0</td>\n",
       "      <td>0</td>\n",
       "      <td>0</td>\n",
       "      <td>0</td>\n",
       "      <td>0</td>\n",
       "      <td>0</td>\n",
       "      <td>0</td>\n",
       "      <td>0</td>\n",
       "      <td>0</td>\n",
       "      <td>0</td>\n",
       "      <td>1</td>\n",
       "      <td>0</td>\n",
       "    </tr>\n",
       "    <tr>\n",
       "      <th>94</th>\n",
       "      <td>Nov-02</td>\n",
       "      <td>271</td>\n",
       "      <td>Nov</td>\n",
       "      <td>0</td>\n",
       "      <td>0</td>\n",
       "      <td>0</td>\n",
       "      <td>0</td>\n",
       "      <td>0</td>\n",
       "      <td>0</td>\n",
       "      <td>0</td>\n",
       "      <td>0</td>\n",
       "      <td>0</td>\n",
       "      <td>1</td>\n",
       "      <td>0</td>\n",
       "      <td>0</td>\n",
       "    </tr>\n",
       "    <tr>\n",
       "      <th>95</th>\n",
       "      <td>Dec-02</td>\n",
       "      <td>306</td>\n",
       "      <td>Dec</td>\n",
       "      <td>0</td>\n",
       "      <td>0</td>\n",
       "      <td>1</td>\n",
       "      <td>0</td>\n",
       "      <td>0</td>\n",
       "      <td>0</td>\n",
       "      <td>0</td>\n",
       "      <td>0</td>\n",
       "      <td>0</td>\n",
       "      <td>0</td>\n",
       "      <td>0</td>\n",
       "      <td>0</td>\n",
       "    </tr>\n",
       "  </tbody>\n",
       "</table>\n",
       "<p>96 rows × 15 columns</p>\n",
       "</div>"
      ],
      "text/plain": [
       "     Month  Passengers months  Apr  Aug  Dec  Feb  Jan  Jul  Jun  Mar  May  \\\n",
       "0   Jan-95         112    Jan    0    0    0    0    1    0    0    0    0   \n",
       "1   Feb-95         118    Feb    0    0    0    1    0    0    0    0    0   \n",
       "2   Mar-95         132    Mar    0    0    0    0    0    0    0    1    0   \n",
       "3   Apr-95         129    Apr    1    0    0    0    0    0    0    0    0   \n",
       "4   May-95         121    May    0    0    0    0    0    0    0    0    1   \n",
       "..     ...         ...    ...  ...  ...  ...  ...  ...  ...  ...  ...  ...   \n",
       "91  Aug-02         405    Aug    0    1    0    0    0    0    0    0    0   \n",
       "92  Sep-02         355    Sep    0    0    0    0    0    0    0    0    0   \n",
       "93  Oct-02         306    Oct    0    0    0    0    0    0    0    0    0   \n",
       "94  Nov-02         271    Nov    0    0    0    0    0    0    0    0    0   \n",
       "95  Dec-02         306    Dec    0    0    1    0    0    0    0    0    0   \n",
       "\n",
       "    Nov  Oct  Sep  \n",
       "0     0    0    0  \n",
       "1     0    0    0  \n",
       "2     0    0    0  \n",
       "3     0    0    0  \n",
       "4     0    0    0  \n",
       "..  ...  ...  ...  \n",
       "91    0    0    0  \n",
       "92    0    0    1  \n",
       "93    0    1    0  \n",
       "94    1    0    0  \n",
       "95    0    0    0  \n",
       "\n",
       "[96 rows x 15 columns]"
      ]
     },
     "execution_count": 16,
     "metadata": {},
     "output_type": "execute_result"
    }
   ],
   "source": [
    "month_dummies = pd.DataFrame(pd.get_dummies(data['months']))\n",
    "data1 = pd.concat([data, month_dummies],axis = 1)\n",
    "data1"
   ]
  },
  {
   "cell_type": "code",
   "execution_count": 17,
   "id": "21da5cdd",
   "metadata": {
    "ExecuteTime": {
     "end_time": "2023-01-24T13:58:45.709048Z",
     "start_time": "2023-01-24T13:58:45.687291Z"
    }
   },
   "outputs": [],
   "source": [
    "data1[\"t\"] = np.arange(1,97)\n",
    "data1[\"t_squared\"] = data1[\"t\"]*data1[\"t\"]\n",
    "data1[\"log_Passengers\"] = np.log(data1[\"Passengers\"])"
   ]
  },
  {
   "cell_type": "code",
   "execution_count": 18,
   "id": "d7cd0e28",
   "metadata": {
    "ExecuteTime": {
     "end_time": "2023-01-24T13:58:53.979229Z",
     "start_time": "2023-01-24T13:58:53.969587Z"
    }
   },
   "outputs": [
    {
     "data": {
      "text/plain": [
       "Index(['Month', 'Passengers', 'months', 'Apr', 'Aug', 'Dec', 'Feb', 'Jan',\n",
       "       'Jul', 'Jun', 'Mar', 'May', 'Nov', 'Oct', 'Sep', 't', 't_squared',\n",
       "       'log_Passengers'],\n",
       "      dtype='object')"
      ]
     },
     "execution_count": 18,
     "metadata": {},
     "output_type": "execute_result"
    }
   ],
   "source": [
    "data1.columns"
   ]
  },
  {
   "cell_type": "code",
   "execution_count": 19,
   "id": "5d9fd0d2",
   "metadata": {
    "ExecuteTime": {
     "end_time": "2023-01-24T13:59:01.179858Z",
     "start_time": "2023-01-24T13:59:01.159684Z"
    }
   },
   "outputs": [
    {
     "data": {
      "text/html": [
       "<div>\n",
       "<style scoped>\n",
       "    .dataframe tbody tr th:only-of-type {\n",
       "        vertical-align: middle;\n",
       "    }\n",
       "\n",
       "    .dataframe tbody tr th {\n",
       "        vertical-align: top;\n",
       "    }\n",
       "\n",
       "    .dataframe thead th {\n",
       "        text-align: right;\n",
       "    }\n",
       "</style>\n",
       "<table border=\"1\" class=\"dataframe\">\n",
       "  <thead>\n",
       "    <tr style=\"text-align: right;\">\n",
       "      <th></th>\n",
       "      <th>Month</th>\n",
       "      <th>Passengers</th>\n",
       "      <th>months</th>\n",
       "      <th>Apr</th>\n",
       "      <th>Aug</th>\n",
       "      <th>Dec</th>\n",
       "      <th>Feb</th>\n",
       "      <th>Jan</th>\n",
       "      <th>Jul</th>\n",
       "      <th>Jun</th>\n",
       "      <th>Mar</th>\n",
       "      <th>May</th>\n",
       "      <th>Nov</th>\n",
       "      <th>Oct</th>\n",
       "      <th>Sep</th>\n",
       "      <th>t</th>\n",
       "      <th>t_squared</th>\n",
       "      <th>log_Passengers</th>\n",
       "    </tr>\n",
       "  </thead>\n",
       "  <tbody>\n",
       "    <tr>\n",
       "      <th>0</th>\n",
       "      <td>Jan-95</td>\n",
       "      <td>112</td>\n",
       "      <td>Jan</td>\n",
       "      <td>0</td>\n",
       "      <td>0</td>\n",
       "      <td>0</td>\n",
       "      <td>0</td>\n",
       "      <td>1</td>\n",
       "      <td>0</td>\n",
       "      <td>0</td>\n",
       "      <td>0</td>\n",
       "      <td>0</td>\n",
       "      <td>0</td>\n",
       "      <td>0</td>\n",
       "      <td>0</td>\n",
       "      <td>1</td>\n",
       "      <td>1</td>\n",
       "      <td>4.718499</td>\n",
       "    </tr>\n",
       "    <tr>\n",
       "      <th>1</th>\n",
       "      <td>Feb-95</td>\n",
       "      <td>118</td>\n",
       "      <td>Feb</td>\n",
       "      <td>0</td>\n",
       "      <td>0</td>\n",
       "      <td>0</td>\n",
       "      <td>1</td>\n",
       "      <td>0</td>\n",
       "      <td>0</td>\n",
       "      <td>0</td>\n",
       "      <td>0</td>\n",
       "      <td>0</td>\n",
       "      <td>0</td>\n",
       "      <td>0</td>\n",
       "      <td>0</td>\n",
       "      <td>2</td>\n",
       "      <td>4</td>\n",
       "      <td>4.770685</td>\n",
       "    </tr>\n",
       "    <tr>\n",
       "      <th>2</th>\n",
       "      <td>Mar-95</td>\n",
       "      <td>132</td>\n",
       "      <td>Mar</td>\n",
       "      <td>0</td>\n",
       "      <td>0</td>\n",
       "      <td>0</td>\n",
       "      <td>0</td>\n",
       "      <td>0</td>\n",
       "      <td>0</td>\n",
       "      <td>0</td>\n",
       "      <td>1</td>\n",
       "      <td>0</td>\n",
       "      <td>0</td>\n",
       "      <td>0</td>\n",
       "      <td>0</td>\n",
       "      <td>3</td>\n",
       "      <td>9</td>\n",
       "      <td>4.882802</td>\n",
       "    </tr>\n",
       "    <tr>\n",
       "      <th>3</th>\n",
       "      <td>Apr-95</td>\n",
       "      <td>129</td>\n",
       "      <td>Apr</td>\n",
       "      <td>1</td>\n",
       "      <td>0</td>\n",
       "      <td>0</td>\n",
       "      <td>0</td>\n",
       "      <td>0</td>\n",
       "      <td>0</td>\n",
       "      <td>0</td>\n",
       "      <td>0</td>\n",
       "      <td>0</td>\n",
       "      <td>0</td>\n",
       "      <td>0</td>\n",
       "      <td>0</td>\n",
       "      <td>4</td>\n",
       "      <td>16</td>\n",
       "      <td>4.859812</td>\n",
       "    </tr>\n",
       "    <tr>\n",
       "      <th>4</th>\n",
       "      <td>May-95</td>\n",
       "      <td>121</td>\n",
       "      <td>May</td>\n",
       "      <td>0</td>\n",
       "      <td>0</td>\n",
       "      <td>0</td>\n",
       "      <td>0</td>\n",
       "      <td>0</td>\n",
       "      <td>0</td>\n",
       "      <td>0</td>\n",
       "      <td>0</td>\n",
       "      <td>1</td>\n",
       "      <td>0</td>\n",
       "      <td>0</td>\n",
       "      <td>0</td>\n",
       "      <td>5</td>\n",
       "      <td>25</td>\n",
       "      <td>4.795791</td>\n",
       "    </tr>\n",
       "  </tbody>\n",
       "</table>\n",
       "</div>"
      ],
      "text/plain": [
       "    Month  Passengers months  Apr  Aug  Dec  Feb  Jan  Jul  Jun  Mar  May  \\\n",
       "0  Jan-95         112    Jan    0    0    0    0    1    0    0    0    0   \n",
       "1  Feb-95         118    Feb    0    0    0    1    0    0    0    0    0   \n",
       "2  Mar-95         132    Mar    0    0    0    0    0    0    0    1    0   \n",
       "3  Apr-95         129    Apr    1    0    0    0    0    0    0    0    0   \n",
       "4  May-95         121    May    0    0    0    0    0    0    0    0    1   \n",
       "\n",
       "   Nov  Oct  Sep  t  t_squared  log_Passengers  \n",
       "0    0    0    0  1          1        4.718499  \n",
       "1    0    0    0  2          4        4.770685  \n",
       "2    0    0    0  3          9        4.882802  \n",
       "3    0    0    0  4         16        4.859812  \n",
       "4    0    0    0  5         25        4.795791  "
      ]
     },
     "execution_count": 19,
     "metadata": {},
     "output_type": "execute_result"
    }
   ],
   "source": [
    "data1.head()"
   ]
  },
  {
   "cell_type": "code",
   "execution_count": 20,
   "id": "4663b9f9",
   "metadata": {
    "ExecuteTime": {
     "end_time": "2023-01-24T13:59:13.346841Z",
     "start_time": "2023-01-24T13:59:13.329005Z"
    }
   },
   "outputs": [
    {
     "data": {
      "text/html": [
       "<div>\n",
       "<style scoped>\n",
       "    .dataframe tbody tr th:only-of-type {\n",
       "        vertical-align: middle;\n",
       "    }\n",
       "\n",
       "    .dataframe tbody tr th {\n",
       "        vertical-align: top;\n",
       "    }\n",
       "\n",
       "    .dataframe thead th {\n",
       "        text-align: right;\n",
       "    }\n",
       "</style>\n",
       "<table border=\"1\" class=\"dataframe\">\n",
       "  <thead>\n",
       "    <tr style=\"text-align: right;\">\n",
       "      <th></th>\n",
       "      <th>Month</th>\n",
       "      <th>Passengers</th>\n",
       "      <th>months</th>\n",
       "      <th>Apr</th>\n",
       "      <th>Aug</th>\n",
       "      <th>Dec</th>\n",
       "      <th>Feb</th>\n",
       "      <th>Jan</th>\n",
       "      <th>Jul</th>\n",
       "      <th>Jun</th>\n",
       "      <th>Mar</th>\n",
       "      <th>May</th>\n",
       "      <th>Nov</th>\n",
       "      <th>Oct</th>\n",
       "      <th>Sep</th>\n",
       "      <th>t</th>\n",
       "      <th>t_squared</th>\n",
       "      <th>log_Passengers</th>\n",
       "    </tr>\n",
       "  </thead>\n",
       "  <tbody>\n",
       "    <tr>\n",
       "      <th>91</th>\n",
       "      <td>Aug-02</td>\n",
       "      <td>405</td>\n",
       "      <td>Aug</td>\n",
       "      <td>0</td>\n",
       "      <td>1</td>\n",
       "      <td>0</td>\n",
       "      <td>0</td>\n",
       "      <td>0</td>\n",
       "      <td>0</td>\n",
       "      <td>0</td>\n",
       "      <td>0</td>\n",
       "      <td>0</td>\n",
       "      <td>0</td>\n",
       "      <td>0</td>\n",
       "      <td>0</td>\n",
       "      <td>92</td>\n",
       "      <td>8464</td>\n",
       "      <td>6.003887</td>\n",
       "    </tr>\n",
       "    <tr>\n",
       "      <th>92</th>\n",
       "      <td>Sep-02</td>\n",
       "      <td>355</td>\n",
       "      <td>Sep</td>\n",
       "      <td>0</td>\n",
       "      <td>0</td>\n",
       "      <td>0</td>\n",
       "      <td>0</td>\n",
       "      <td>0</td>\n",
       "      <td>0</td>\n",
       "      <td>0</td>\n",
       "      <td>0</td>\n",
       "      <td>0</td>\n",
       "      <td>0</td>\n",
       "      <td>0</td>\n",
       "      <td>1</td>\n",
       "      <td>93</td>\n",
       "      <td>8649</td>\n",
       "      <td>5.872118</td>\n",
       "    </tr>\n",
       "    <tr>\n",
       "      <th>93</th>\n",
       "      <td>Oct-02</td>\n",
       "      <td>306</td>\n",
       "      <td>Oct</td>\n",
       "      <td>0</td>\n",
       "      <td>0</td>\n",
       "      <td>0</td>\n",
       "      <td>0</td>\n",
       "      <td>0</td>\n",
       "      <td>0</td>\n",
       "      <td>0</td>\n",
       "      <td>0</td>\n",
       "      <td>0</td>\n",
       "      <td>0</td>\n",
       "      <td>1</td>\n",
       "      <td>0</td>\n",
       "      <td>94</td>\n",
       "      <td>8836</td>\n",
       "      <td>5.723585</td>\n",
       "    </tr>\n",
       "    <tr>\n",
       "      <th>94</th>\n",
       "      <td>Nov-02</td>\n",
       "      <td>271</td>\n",
       "      <td>Nov</td>\n",
       "      <td>0</td>\n",
       "      <td>0</td>\n",
       "      <td>0</td>\n",
       "      <td>0</td>\n",
       "      <td>0</td>\n",
       "      <td>0</td>\n",
       "      <td>0</td>\n",
       "      <td>0</td>\n",
       "      <td>0</td>\n",
       "      <td>1</td>\n",
       "      <td>0</td>\n",
       "      <td>0</td>\n",
       "      <td>95</td>\n",
       "      <td>9025</td>\n",
       "      <td>5.602119</td>\n",
       "    </tr>\n",
       "    <tr>\n",
       "      <th>95</th>\n",
       "      <td>Dec-02</td>\n",
       "      <td>306</td>\n",
       "      <td>Dec</td>\n",
       "      <td>0</td>\n",
       "      <td>0</td>\n",
       "      <td>1</td>\n",
       "      <td>0</td>\n",
       "      <td>0</td>\n",
       "      <td>0</td>\n",
       "      <td>0</td>\n",
       "      <td>0</td>\n",
       "      <td>0</td>\n",
       "      <td>0</td>\n",
       "      <td>0</td>\n",
       "      <td>0</td>\n",
       "      <td>96</td>\n",
       "      <td>9216</td>\n",
       "      <td>5.723585</td>\n",
       "    </tr>\n",
       "  </tbody>\n",
       "</table>\n",
       "</div>"
      ],
      "text/plain": [
       "     Month  Passengers months  Apr  Aug  Dec  Feb  Jan  Jul  Jun  Mar  May  \\\n",
       "91  Aug-02         405    Aug    0    1    0    0    0    0    0    0    0   \n",
       "92  Sep-02         355    Sep    0    0    0    0    0    0    0    0    0   \n",
       "93  Oct-02         306    Oct    0    0    0    0    0    0    0    0    0   \n",
       "94  Nov-02         271    Nov    0    0    0    0    0    0    0    0    0   \n",
       "95  Dec-02         306    Dec    0    0    1    0    0    0    0    0    0   \n",
       "\n",
       "    Nov  Oct  Sep   t  t_squared  log_Passengers  \n",
       "91    0    0    0  92       8464        6.003887  \n",
       "92    0    0    1  93       8649        5.872118  \n",
       "93    0    1    0  94       8836        5.723585  \n",
       "94    1    0    0  95       9025        5.602119  \n",
       "95    0    0    0  96       9216        5.723585  "
      ]
     },
     "execution_count": 20,
     "metadata": {},
     "output_type": "execute_result"
    }
   ],
   "source": [
    "data1.tail()"
   ]
  },
  {
   "cell_type": "code",
   "execution_count": 21,
   "id": "bfc99274",
   "metadata": {
    "ExecuteTime": {
     "end_time": "2023-01-24T13:59:21.404809Z",
     "start_time": "2023-01-24T13:59:21.369759Z"
    }
   },
   "outputs": [
    {
     "data": {
      "text/html": [
       "<div>\n",
       "<style scoped>\n",
       "    .dataframe tbody tr th:only-of-type {\n",
       "        vertical-align: middle;\n",
       "    }\n",
       "\n",
       "    .dataframe tbody tr th {\n",
       "        vertical-align: top;\n",
       "    }\n",
       "\n",
       "    .dataframe thead th {\n",
       "        text-align: right;\n",
       "    }\n",
       "</style>\n",
       "<table border=\"1\" class=\"dataframe\">\n",
       "  <thead>\n",
       "    <tr style=\"text-align: right;\">\n",
       "      <th></th>\n",
       "      <th>Month</th>\n",
       "      <th>Passengers</th>\n",
       "      <th>months</th>\n",
       "      <th>Apr</th>\n",
       "      <th>Aug</th>\n",
       "      <th>Dec</th>\n",
       "      <th>Feb</th>\n",
       "      <th>Jan</th>\n",
       "      <th>Jul</th>\n",
       "      <th>Jun</th>\n",
       "      <th>Mar</th>\n",
       "      <th>May</th>\n",
       "      <th>Nov</th>\n",
       "      <th>Oct</th>\n",
       "      <th>Sep</th>\n",
       "      <th>t</th>\n",
       "      <th>t_squared</th>\n",
       "      <th>log_Passengers</th>\n",
       "      <th>Date</th>\n",
       "    </tr>\n",
       "  </thead>\n",
       "  <tbody>\n",
       "    <tr>\n",
       "      <th>0</th>\n",
       "      <td>Jan-95</td>\n",
       "      <td>112</td>\n",
       "      <td>Jan</td>\n",
       "      <td>0</td>\n",
       "      <td>0</td>\n",
       "      <td>0</td>\n",
       "      <td>0</td>\n",
       "      <td>1</td>\n",
       "      <td>0</td>\n",
       "      <td>0</td>\n",
       "      <td>0</td>\n",
       "      <td>0</td>\n",
       "      <td>0</td>\n",
       "      <td>0</td>\n",
       "      <td>0</td>\n",
       "      <td>1</td>\n",
       "      <td>1</td>\n",
       "      <td>4.718499</td>\n",
       "      <td>1995-01-01</td>\n",
       "    </tr>\n",
       "    <tr>\n",
       "      <th>1</th>\n",
       "      <td>Feb-95</td>\n",
       "      <td>118</td>\n",
       "      <td>Feb</td>\n",
       "      <td>0</td>\n",
       "      <td>0</td>\n",
       "      <td>0</td>\n",
       "      <td>1</td>\n",
       "      <td>0</td>\n",
       "      <td>0</td>\n",
       "      <td>0</td>\n",
       "      <td>0</td>\n",
       "      <td>0</td>\n",
       "      <td>0</td>\n",
       "      <td>0</td>\n",
       "      <td>0</td>\n",
       "      <td>2</td>\n",
       "      <td>4</td>\n",
       "      <td>4.770685</td>\n",
       "      <td>1995-02-01</td>\n",
       "    </tr>\n",
       "    <tr>\n",
       "      <th>2</th>\n",
       "      <td>Mar-95</td>\n",
       "      <td>132</td>\n",
       "      <td>Mar</td>\n",
       "      <td>0</td>\n",
       "      <td>0</td>\n",
       "      <td>0</td>\n",
       "      <td>0</td>\n",
       "      <td>0</td>\n",
       "      <td>0</td>\n",
       "      <td>0</td>\n",
       "      <td>1</td>\n",
       "      <td>0</td>\n",
       "      <td>0</td>\n",
       "      <td>0</td>\n",
       "      <td>0</td>\n",
       "      <td>3</td>\n",
       "      <td>9</td>\n",
       "      <td>4.882802</td>\n",
       "      <td>1995-03-01</td>\n",
       "    </tr>\n",
       "    <tr>\n",
       "      <th>3</th>\n",
       "      <td>Apr-95</td>\n",
       "      <td>129</td>\n",
       "      <td>Apr</td>\n",
       "      <td>1</td>\n",
       "      <td>0</td>\n",
       "      <td>0</td>\n",
       "      <td>0</td>\n",
       "      <td>0</td>\n",
       "      <td>0</td>\n",
       "      <td>0</td>\n",
       "      <td>0</td>\n",
       "      <td>0</td>\n",
       "      <td>0</td>\n",
       "      <td>0</td>\n",
       "      <td>0</td>\n",
       "      <td>4</td>\n",
       "      <td>16</td>\n",
       "      <td>4.859812</td>\n",
       "      <td>1995-04-01</td>\n",
       "    </tr>\n",
       "    <tr>\n",
       "      <th>4</th>\n",
       "      <td>May-95</td>\n",
       "      <td>121</td>\n",
       "      <td>May</td>\n",
       "      <td>0</td>\n",
       "      <td>0</td>\n",
       "      <td>0</td>\n",
       "      <td>0</td>\n",
       "      <td>0</td>\n",
       "      <td>0</td>\n",
       "      <td>0</td>\n",
       "      <td>0</td>\n",
       "      <td>1</td>\n",
       "      <td>0</td>\n",
       "      <td>0</td>\n",
       "      <td>0</td>\n",
       "      <td>5</td>\n",
       "      <td>25</td>\n",
       "      <td>4.795791</td>\n",
       "      <td>1995-05-01</td>\n",
       "    </tr>\n",
       "  </tbody>\n",
       "</table>\n",
       "</div>"
      ],
      "text/plain": [
       "    Month  Passengers months  Apr  Aug  Dec  Feb  Jan  Jul  Jun  Mar  May  \\\n",
       "0  Jan-95         112    Jan    0    0    0    0    1    0    0    0    0   \n",
       "1  Feb-95         118    Feb    0    0    0    1    0    0    0    0    0   \n",
       "2  Mar-95         132    Mar    0    0    0    0    0    0    0    1    0   \n",
       "3  Apr-95         129    Apr    1    0    0    0    0    0    0    0    0   \n",
       "4  May-95         121    May    0    0    0    0    0    0    0    0    1   \n",
       "\n",
       "   Nov  Oct  Sep  t  t_squared  log_Passengers       Date  \n",
       "0    0    0    0  1          1        4.718499 1995-01-01  \n",
       "1    0    0    0  2          4        4.770685 1995-02-01  \n",
       "2    0    0    0  3          9        4.882802 1995-03-01  \n",
       "3    0    0    0  4         16        4.859812 1995-04-01  \n",
       "4    0    0    0  5         25        4.795791 1995-05-01  "
      ]
     },
     "execution_count": 21,
     "metadata": {},
     "output_type": "execute_result"
    }
   ],
   "source": [
    "data1[\"Date\"] = pd.to_datetime(data1.Month, format=\"%b-%y\")\n",
    "data1.head()"
   ]
  },
  {
   "cell_type": "code",
   "execution_count": 22,
   "id": "14b4489b",
   "metadata": {
    "ExecuteTime": {
     "end_time": "2023-01-24T13:59:29.682766Z",
     "start_time": "2023-01-24T13:59:29.662180Z"
    }
   },
   "outputs": [
    {
     "data": {
      "text/html": [
       "<div>\n",
       "<style scoped>\n",
       "    .dataframe tbody tr th:only-of-type {\n",
       "        vertical-align: middle;\n",
       "    }\n",
       "\n",
       "    .dataframe tbody tr th {\n",
       "        vertical-align: top;\n",
       "    }\n",
       "\n",
       "    .dataframe thead th {\n",
       "        text-align: right;\n",
       "    }\n",
       "</style>\n",
       "<table border=\"1\" class=\"dataframe\">\n",
       "  <thead>\n",
       "    <tr style=\"text-align: right;\">\n",
       "      <th></th>\n",
       "      <th>Month</th>\n",
       "      <th>Passengers</th>\n",
       "      <th>months</th>\n",
       "      <th>Apr</th>\n",
       "      <th>Aug</th>\n",
       "      <th>Dec</th>\n",
       "      <th>Feb</th>\n",
       "      <th>Jan</th>\n",
       "      <th>Jul</th>\n",
       "      <th>Jun</th>\n",
       "      <th>Mar</th>\n",
       "      <th>May</th>\n",
       "      <th>Nov</th>\n",
       "      <th>Oct</th>\n",
       "      <th>Sep</th>\n",
       "      <th>t</th>\n",
       "      <th>t_squared</th>\n",
       "      <th>log_Passengers</th>\n",
       "      <th>Date</th>\n",
       "      <th>year</th>\n",
       "    </tr>\n",
       "  </thead>\n",
       "  <tbody>\n",
       "    <tr>\n",
       "      <th>0</th>\n",
       "      <td>Jan-95</td>\n",
       "      <td>112</td>\n",
       "      <td>Jan</td>\n",
       "      <td>0</td>\n",
       "      <td>0</td>\n",
       "      <td>0</td>\n",
       "      <td>0</td>\n",
       "      <td>1</td>\n",
       "      <td>0</td>\n",
       "      <td>0</td>\n",
       "      <td>0</td>\n",
       "      <td>0</td>\n",
       "      <td>0</td>\n",
       "      <td>0</td>\n",
       "      <td>0</td>\n",
       "      <td>1</td>\n",
       "      <td>1</td>\n",
       "      <td>4.718499</td>\n",
       "      <td>1995-01-01</td>\n",
       "      <td>1995</td>\n",
       "    </tr>\n",
       "    <tr>\n",
       "      <th>1</th>\n",
       "      <td>Feb-95</td>\n",
       "      <td>118</td>\n",
       "      <td>Feb</td>\n",
       "      <td>0</td>\n",
       "      <td>0</td>\n",
       "      <td>0</td>\n",
       "      <td>1</td>\n",
       "      <td>0</td>\n",
       "      <td>0</td>\n",
       "      <td>0</td>\n",
       "      <td>0</td>\n",
       "      <td>0</td>\n",
       "      <td>0</td>\n",
       "      <td>0</td>\n",
       "      <td>0</td>\n",
       "      <td>2</td>\n",
       "      <td>4</td>\n",
       "      <td>4.770685</td>\n",
       "      <td>1995-02-01</td>\n",
       "      <td>1995</td>\n",
       "    </tr>\n",
       "    <tr>\n",
       "      <th>2</th>\n",
       "      <td>Mar-95</td>\n",
       "      <td>132</td>\n",
       "      <td>Mar</td>\n",
       "      <td>0</td>\n",
       "      <td>0</td>\n",
       "      <td>0</td>\n",
       "      <td>0</td>\n",
       "      <td>0</td>\n",
       "      <td>0</td>\n",
       "      <td>0</td>\n",
       "      <td>1</td>\n",
       "      <td>0</td>\n",
       "      <td>0</td>\n",
       "      <td>0</td>\n",
       "      <td>0</td>\n",
       "      <td>3</td>\n",
       "      <td>9</td>\n",
       "      <td>4.882802</td>\n",
       "      <td>1995-03-01</td>\n",
       "      <td>1995</td>\n",
       "    </tr>\n",
       "    <tr>\n",
       "      <th>3</th>\n",
       "      <td>Apr-95</td>\n",
       "      <td>129</td>\n",
       "      <td>Apr</td>\n",
       "      <td>1</td>\n",
       "      <td>0</td>\n",
       "      <td>0</td>\n",
       "      <td>0</td>\n",
       "      <td>0</td>\n",
       "      <td>0</td>\n",
       "      <td>0</td>\n",
       "      <td>0</td>\n",
       "      <td>0</td>\n",
       "      <td>0</td>\n",
       "      <td>0</td>\n",
       "      <td>0</td>\n",
       "      <td>4</td>\n",
       "      <td>16</td>\n",
       "      <td>4.859812</td>\n",
       "      <td>1995-04-01</td>\n",
       "      <td>1995</td>\n",
       "    </tr>\n",
       "    <tr>\n",
       "      <th>4</th>\n",
       "      <td>May-95</td>\n",
       "      <td>121</td>\n",
       "      <td>May</td>\n",
       "      <td>0</td>\n",
       "      <td>0</td>\n",
       "      <td>0</td>\n",
       "      <td>0</td>\n",
       "      <td>0</td>\n",
       "      <td>0</td>\n",
       "      <td>0</td>\n",
       "      <td>0</td>\n",
       "      <td>1</td>\n",
       "      <td>0</td>\n",
       "      <td>0</td>\n",
       "      <td>0</td>\n",
       "      <td>5</td>\n",
       "      <td>25</td>\n",
       "      <td>4.795791</td>\n",
       "      <td>1995-05-01</td>\n",
       "      <td>1995</td>\n",
       "    </tr>\n",
       "  </tbody>\n",
       "</table>\n",
       "</div>"
      ],
      "text/plain": [
       "    Month  Passengers months  Apr  Aug  Dec  Feb  Jan  Jul  Jun  Mar  May  \\\n",
       "0  Jan-95         112    Jan    0    0    0    0    1    0    0    0    0   \n",
       "1  Feb-95         118    Feb    0    0    0    1    0    0    0    0    0   \n",
       "2  Mar-95         132    Mar    0    0    0    0    0    0    0    1    0   \n",
       "3  Apr-95         129    Apr    1    0    0    0    0    0    0    0    0   \n",
       "4  May-95         121    May    0    0    0    0    0    0    0    0    1   \n",
       "\n",
       "   Nov  Oct  Sep  t  t_squared  log_Passengers       Date  year  \n",
       "0    0    0    0  1          1        4.718499 1995-01-01  1995  \n",
       "1    0    0    0  2          4        4.770685 1995-02-01  1995  \n",
       "2    0    0    0  3          9        4.882802 1995-03-01  1995  \n",
       "3    0    0    0  4         16        4.859812 1995-04-01  1995  \n",
       "4    0    0    0  5         25        4.795791 1995-05-01  1995  "
      ]
     },
     "execution_count": 22,
     "metadata": {},
     "output_type": "execute_result"
    }
   ],
   "source": [
    "data1[\"year\"] = data1.Date.dt.strftime(\"%Y\")\n",
    "data1.head()"
   ]
  },
  {
   "cell_type": "code",
   "execution_count": 23,
   "id": "f4f19498",
   "metadata": {
    "ExecuteTime": {
     "end_time": "2023-01-24T13:59:40.191637Z",
     "start_time": "2023-01-24T13:59:39.753475Z"
    }
   },
   "outputs": [
    {
     "data": {
      "text/plain": [
       "<AxesSubplot: xlabel='months', ylabel='year'>"
      ]
     },
     "execution_count": 23,
     "metadata": {},
     "output_type": "execute_result"
    },
    {
     "data": {
      "image/png": "[encoded data removed]",
      "text/plain": [
       "<Figure size 1500x900 with 2 Axes>"
      ]
     },
     "metadata": {},
     "output_type": "display_data"
    }
   ],
   "source": [
    "plt.figure(figsize=(15,9))\n",
    "heatmap_Y_month = pd.pivot_table(data=data1, values=\"Passengers\", index=\"year\", columns=\"months\", aggfunc=\"mean\", fill_value=0)\n",
    "sns.heatmap(heatmap_Y_month, annot=True, fmt=\"g\")"
   ]
  },
  {
   "cell_type": "code",
   "execution_count": 24,
   "id": "b535f5ca",
   "metadata": {
    "ExecuteTime": {
     "end_time": "2023-01-24T13:59:50.419962Z",
     "start_time": "2023-01-24T13:59:50.063867Z"
    }
   },
   "outputs": [
    {
     "data": {
      "image/png": "[encoded data removed]",
      "text/plain": [
       "<Figure size 1000x800 with 1 Axes>"
      ]
     },
     "metadata": {},
     "output_type": "display_data"
    },
    {
     "data": {
      "image/png": "[encoded data removed]",
      "text/plain": [
       "<Figure size 1000x800 with 1 Axes>"
      ]
     },
     "metadata": {},
     "output_type": "display_data"
    }
   ],
   "source": [
    "plt.figure(figsize=(10,8))\n",
    "plt.subplot(211)\n",
    "sns.boxplot(x=\"months\", y=\"Passengers\", data = data1)\n",
    "plt.show()\n",
    "\n",
    "plt.figure(figsize=(10,8))\n",
    "plt.subplot(212)\n",
    "sns.boxplot(x=\"year\", y=\"Passengers\", data = data1)\n",
    "plt.show()"
   ]
  },
  {
   "cell_type": "code",
   "execution_count": 25,
   "id": "6e677dc7",
   "metadata": {
    "ExecuteTime": {
     "end_time": "2023-01-24T14:00:10.477074Z",
     "start_time": "2023-01-24T14:00:10.163898Z"
    }
   },
   "outputs": [
    {
     "data": {
      "text/plain": [
       "<AxesSubplot: xlabel='year', ylabel='Passengers'>"
      ]
     },
     "execution_count": 25,
     "metadata": {},
     "output_type": "execute_result"
    },
    {
     "data": {
      "image/png": "[encoded data removed]",
      "text/plain": [
       "<Figure size 1200x400 with 1 Axes>"
      ]
     },
     "metadata": {},
     "output_type": "display_data"
    }
   ],
   "source": [
    "plt.figure(figsize=(12,4))\n",
    "sns.lineplot(x=\"year\", y=\"Passengers\", data=data1)"
   ]
  },
  {
   "cell_type": "markdown",
   "id": "56cb8d03",
   "metadata": {},
   "source": [
    "#### From all the above graphs we can say that the airline data has an upward trend with multiplicative seasonality."
   ]
  },
  {
   "cell_type": "markdown",
   "id": "fcbf11bf",
   "metadata": {},
   "source": [
    "### Splitting Data"
   ]
  },
  {
   "cell_type": "code",
   "execution_count": 26,
   "id": "57f4e6d5",
   "metadata": {
    "ExecuteTime": {
     "end_time": "2023-01-24T14:00:49.286942Z",
     "start_time": "2023-01-24T14:00:49.275032Z"
    }
   },
   "outputs": [],
   "source": [
    "Train = data1.head(84)\n",
    "Test = data1.tail(12)"
   ]
  },
  {
   "cell_type": "code",
   "execution_count": 27,
   "id": "95368089",
   "metadata": {
    "ExecuteTime": {
     "end_time": "2023-01-24T14:00:58.986661Z",
     "start_time": "2023-01-24T14:00:58.964742Z"
    }
   },
   "outputs": [
    {
     "data": {
      "text/html": [
       "<div>\n",
       "<style scoped>\n",
       "    .dataframe tbody tr th:only-of-type {\n",
       "        vertical-align: middle;\n",
       "    }\n",
       "\n",
       "    .dataframe tbody tr th {\n",
       "        vertical-align: top;\n",
       "    }\n",
       "\n",
       "    .dataframe thead th {\n",
       "        text-align: right;\n",
       "    }\n",
       "</style>\n",
       "<table border=\"1\" class=\"dataframe\">\n",
       "  <thead>\n",
       "    <tr style=\"text-align: right;\">\n",
       "      <th></th>\n",
       "      <th>Month</th>\n",
       "      <th>Passengers</th>\n",
       "      <th>months</th>\n",
       "      <th>Apr</th>\n",
       "      <th>Aug</th>\n",
       "      <th>Dec</th>\n",
       "      <th>Feb</th>\n",
       "      <th>Jan</th>\n",
       "      <th>Jul</th>\n",
       "      <th>Jun</th>\n",
       "      <th>Mar</th>\n",
       "      <th>May</th>\n",
       "      <th>Nov</th>\n",
       "      <th>Oct</th>\n",
       "      <th>Sep</th>\n",
       "      <th>t</th>\n",
       "      <th>t_squared</th>\n",
       "      <th>log_Passengers</th>\n",
       "      <th>Date</th>\n",
       "      <th>year</th>\n",
       "    </tr>\n",
       "  </thead>\n",
       "  <tbody>\n",
       "    <tr>\n",
       "      <th>0</th>\n",
       "      <td>Jan-95</td>\n",
       "      <td>112</td>\n",
       "      <td>Jan</td>\n",
       "      <td>0</td>\n",
       "      <td>0</td>\n",
       "      <td>0</td>\n",
       "      <td>0</td>\n",
       "      <td>1</td>\n",
       "      <td>0</td>\n",
       "      <td>0</td>\n",
       "      <td>0</td>\n",
       "      <td>0</td>\n",
       "      <td>0</td>\n",
       "      <td>0</td>\n",
       "      <td>0</td>\n",
       "      <td>1</td>\n",
       "      <td>1</td>\n",
       "      <td>4.718499</td>\n",
       "      <td>1995-01-01</td>\n",
       "      <td>1995</td>\n",
       "    </tr>\n",
       "    <tr>\n",
       "      <th>1</th>\n",
       "      <td>Feb-95</td>\n",
       "      <td>118</td>\n",
       "      <td>Feb</td>\n",
       "      <td>0</td>\n",
       "      <td>0</td>\n",
       "      <td>0</td>\n",
       "      <td>1</td>\n",
       "      <td>0</td>\n",
       "      <td>0</td>\n",
       "      <td>0</td>\n",
       "      <td>0</td>\n",
       "      <td>0</td>\n",
       "      <td>0</td>\n",
       "      <td>0</td>\n",
       "      <td>0</td>\n",
       "      <td>2</td>\n",
       "      <td>4</td>\n",
       "      <td>4.770685</td>\n",
       "      <td>1995-02-01</td>\n",
       "      <td>1995</td>\n",
       "    </tr>\n",
       "    <tr>\n",
       "      <th>2</th>\n",
       "      <td>Mar-95</td>\n",
       "      <td>132</td>\n",
       "      <td>Mar</td>\n",
       "      <td>0</td>\n",
       "      <td>0</td>\n",
       "      <td>0</td>\n",
       "      <td>0</td>\n",
       "      <td>0</td>\n",
       "      <td>0</td>\n",
       "      <td>0</td>\n",
       "      <td>1</td>\n",
       "      <td>0</td>\n",
       "      <td>0</td>\n",
       "      <td>0</td>\n",
       "      <td>0</td>\n",
       "      <td>3</td>\n",
       "      <td>9</td>\n",
       "      <td>4.882802</td>\n",
       "      <td>1995-03-01</td>\n",
       "      <td>1995</td>\n",
       "    </tr>\n",
       "    <tr>\n",
       "      <th>3</th>\n",
       "      <td>Apr-95</td>\n",
       "      <td>129</td>\n",
       "      <td>Apr</td>\n",
       "      <td>1</td>\n",
       "      <td>0</td>\n",
       "      <td>0</td>\n",
       "      <td>0</td>\n",
       "      <td>0</td>\n",
       "      <td>0</td>\n",
       "      <td>0</td>\n",
       "      <td>0</td>\n",
       "      <td>0</td>\n",
       "      <td>0</td>\n",
       "      <td>0</td>\n",
       "      <td>0</td>\n",
       "      <td>4</td>\n",
       "      <td>16</td>\n",
       "      <td>4.859812</td>\n",
       "      <td>1995-04-01</td>\n",
       "      <td>1995</td>\n",
       "    </tr>\n",
       "    <tr>\n",
       "      <th>4</th>\n",
       "      <td>May-95</td>\n",
       "      <td>121</td>\n",
       "      <td>May</td>\n",
       "      <td>0</td>\n",
       "      <td>0</td>\n",
       "      <td>0</td>\n",
       "      <td>0</td>\n",
       "      <td>0</td>\n",
       "      <td>0</td>\n",
       "      <td>0</td>\n",
       "      <td>0</td>\n",
       "      <td>1</td>\n",
       "      <td>0</td>\n",
       "      <td>0</td>\n",
       "      <td>0</td>\n",
       "      <td>5</td>\n",
       "      <td>25</td>\n",
       "      <td>4.795791</td>\n",
       "      <td>1995-05-01</td>\n",
       "      <td>1995</td>\n",
       "    </tr>\n",
       "    <tr>\n",
       "      <th>...</th>\n",
       "      <td>...</td>\n",
       "      <td>...</td>\n",
       "      <td>...</td>\n",
       "      <td>...</td>\n",
       "      <td>...</td>\n",
       "      <td>...</td>\n",
       "      <td>...</td>\n",
       "      <td>...</td>\n",
       "      <td>...</td>\n",
       "      <td>...</td>\n",
       "      <td>...</td>\n",
       "      <td>...</td>\n",
       "      <td>...</td>\n",
       "      <td>...</td>\n",
       "      <td>...</td>\n",
       "      <td>...</td>\n",
       "      <td>...</td>\n",
       "      <td>...</td>\n",
       "      <td>...</td>\n",
       "      <td>...</td>\n",
       "    </tr>\n",
       "    <tr>\n",
       "      <th>79</th>\n",
       "      <td>Aug-01</td>\n",
       "      <td>347</td>\n",
       "      <td>Aug</td>\n",
       "      <td>0</td>\n",
       "      <td>1</td>\n",
       "      <td>0</td>\n",
       "      <td>0</td>\n",
       "      <td>0</td>\n",
       "      <td>0</td>\n",
       "      <td>0</td>\n",
       "      <td>0</td>\n",
       "      <td>0</td>\n",
       "      <td>0</td>\n",
       "      <td>0</td>\n",
       "      <td>0</td>\n",
       "      <td>80</td>\n",
       "      <td>6400</td>\n",
       "      <td>5.849325</td>\n",
       "      <td>2001-08-01</td>\n",
       "      <td>2001</td>\n",
       "    </tr>\n",
       "    <tr>\n",
       "      <th>80</th>\n",
       "      <td>Sep-01</td>\n",
       "      <td>312</td>\n",
       "      <td>Sep</td>\n",
       "      <td>0</td>\n",
       "      <td>0</td>\n",
       "      <td>0</td>\n",
       "      <td>0</td>\n",
       "      <td>0</td>\n",
       "      <td>0</td>\n",
       "      <td>0</td>\n",
       "      <td>0</td>\n",
       "      <td>0</td>\n",
       "      <td>0</td>\n",
       "      <td>0</td>\n",
       "      <td>1</td>\n",
       "      <td>81</td>\n",
       "      <td>6561</td>\n",
       "      <td>5.743003</td>\n",
       "      <td>2001-09-01</td>\n",
       "      <td>2001</td>\n",
       "    </tr>\n",
       "    <tr>\n",
       "      <th>81</th>\n",
       "      <td>Oct-01</td>\n",
       "      <td>274</td>\n",
       "      <td>Oct</td>\n",
       "      <td>0</td>\n",
       "      <td>0</td>\n",
       "      <td>0</td>\n",
       "      <td>0</td>\n",
       "      <td>0</td>\n",
       "      <td>0</td>\n",
       "      <td>0</td>\n",
       "      <td>0</td>\n",
       "      <td>0</td>\n",
       "      <td>0</td>\n",
       "      <td>1</td>\n",
       "      <td>0</td>\n",
       "      <td>82</td>\n",
       "      <td>6724</td>\n",
       "      <td>5.613128</td>\n",
       "      <td>2001-10-01</td>\n",
       "      <td>2001</td>\n",
       "    </tr>\n",
       "    <tr>\n",
       "      <th>82</th>\n",
       "      <td>Nov-01</td>\n",
       "      <td>237</td>\n",
       "      <td>Nov</td>\n",
       "      <td>0</td>\n",
       "      <td>0</td>\n",
       "      <td>0</td>\n",
       "      <td>0</td>\n",
       "      <td>0</td>\n",
       "      <td>0</td>\n",
       "      <td>0</td>\n",
       "      <td>0</td>\n",
       "      <td>0</td>\n",
       "      <td>1</td>\n",
       "      <td>0</td>\n",
       "      <td>0</td>\n",
       "      <td>83</td>\n",
       "      <td>6889</td>\n",
       "      <td>5.468060</td>\n",
       "      <td>2001-11-01</td>\n",
       "      <td>2001</td>\n",
       "    </tr>\n",
       "    <tr>\n",
       "      <th>83</th>\n",
       "      <td>Dec-01</td>\n",
       "      <td>278</td>\n",
       "      <td>Dec</td>\n",
       "      <td>0</td>\n",
       "      <td>0</td>\n",
       "      <td>1</td>\n",
       "      <td>0</td>\n",
       "      <td>0</td>\n",
       "      <td>0</td>\n",
       "      <td>0</td>\n",
       "      <td>0</td>\n",
       "      <td>0</td>\n",
       "      <td>0</td>\n",
       "      <td>0</td>\n",
       "      <td>0</td>\n",
       "      <td>84</td>\n",
       "      <td>7056</td>\n",
       "      <td>5.627621</td>\n",
       "      <td>2001-12-01</td>\n",
       "      <td>2001</td>\n",
       "    </tr>\n",
       "  </tbody>\n",
       "</table>\n",
       "<p>84 rows × 20 columns</p>\n",
       "</div>"
      ],
      "text/plain": [
       "     Month  Passengers months  Apr  Aug  Dec  Feb  Jan  Jul  Jun  Mar  May  \\\n",
       "0   Jan-95         112    Jan    0    0    0    0    1    0    0    0    0   \n",
       "1   Feb-95         118    Feb    0    0    0    1    0    0    0    0    0   \n",
       "2   Mar-95         132    Mar    0    0    0    0    0    0    0    1    0   \n",
       "3   Apr-95         129    Apr    1    0    0    0    0    0    0    0    0   \n",
       "4   May-95         121    May    0    0    0    0    0    0    0    0    1   \n",
       "..     ...         ...    ...  ...  ...  ...  ...  ...  ...  ...  ...  ...   \n",
       "79  Aug-01         347    Aug    0    1    0    0    0    0    0    0    0   \n",
       "80  Sep-01         312    Sep    0    0    0    0    0    0    0    0    0   \n",
       "81  Oct-01         274    Oct    0    0    0    0    0    0    0    0    0   \n",
       "82  Nov-01         237    Nov    0    0    0    0    0    0    0    0    0   \n",
       "83  Dec-01         278    Dec    0    0    1    0    0    0    0    0    0   \n",
       "\n",
       "    Nov  Oct  Sep   t  t_squared  log_Passengers       Date  year  \n",
       "0     0    0    0   1          1        4.718499 1995-01-01  1995  \n",
       "1     0    0    0   2          4        4.770685 1995-02-01  1995  \n",
       "2     0    0    0   3          9        4.882802 1995-03-01  1995  \n",
       "3     0    0    0   4         16        4.859812 1995-04-01  1995  \n",
       "4     0    0    0   5         25        4.795791 1995-05-01  1995  \n",
       "..  ...  ...  ...  ..        ...             ...        ...   ...  \n",
       "79    0    0    0  80       6400        5.849325 2001-08-01  2001  \n",
       "80    0    0    1  81       6561        5.743003 2001-09-01  2001  \n",
       "81    0    1    0  82       6724        5.613128 2001-10-01  2001  \n",
       "82    1    0    0  83       6889        5.468060 2001-11-01  2001  \n",
       "83    0    0    0  84       7056        5.627621 2001-12-01  2001  \n",
       "\n",
       "[84 rows x 20 columns]"
      ]
     },
     "execution_count": 27,
     "metadata": {},
     "output_type": "execute_result"
    }
   ],
   "source": [
    "Train"
   ]
  },
  {
   "cell_type": "code",
   "execution_count": 28,
   "id": "ae66fdb9",
   "metadata": {
    "ExecuteTime": {
     "end_time": "2023-01-24T14:01:07.731825Z",
     "start_time": "2023-01-24T14:01:07.708382Z"
    }
   },
   "outputs": [
    {
     "data": {
      "text/html": [
       "<div>\n",
       "<style scoped>\n",
       "    .dataframe tbody tr th:only-of-type {\n",
       "        vertical-align: middle;\n",
       "    }\n",
       "\n",
       "    .dataframe tbody tr th {\n",
       "        vertical-align: top;\n",
       "    }\n",
       "\n",
       "    .dataframe thead th {\n",
       "        text-align: right;\n",
       "    }\n",
       "</style>\n",
       "<table border=\"1\" class=\"dataframe\">\n",
       "  <thead>\n",
       "    <tr style=\"text-align: right;\">\n",
       "      <th></th>\n",
       "      <th>Month</th>\n",
       "      <th>Passengers</th>\n",
       "      <th>months</th>\n",
       "      <th>Apr</th>\n",
       "      <th>Aug</th>\n",
       "      <th>Dec</th>\n",
       "      <th>Feb</th>\n",
       "      <th>Jan</th>\n",
       "      <th>Jul</th>\n",
       "      <th>Jun</th>\n",
       "      <th>Mar</th>\n",
       "      <th>May</th>\n",
       "      <th>Nov</th>\n",
       "      <th>Oct</th>\n",
       "      <th>Sep</th>\n",
       "      <th>t</th>\n",
       "      <th>t_squared</th>\n",
       "      <th>log_Passengers</th>\n",
       "      <th>Date</th>\n",
       "      <th>year</th>\n",
       "    </tr>\n",
       "  </thead>\n",
       "  <tbody>\n",
       "    <tr>\n",
       "      <th>84</th>\n",
       "      <td>Jan-02</td>\n",
       "      <td>284</td>\n",
       "      <td>Jan</td>\n",
       "      <td>0</td>\n",
       "      <td>0</td>\n",
       "      <td>0</td>\n",
       "      <td>0</td>\n",
       "      <td>1</td>\n",
       "      <td>0</td>\n",
       "      <td>0</td>\n",
       "      <td>0</td>\n",
       "      <td>0</td>\n",
       "      <td>0</td>\n",
       "      <td>0</td>\n",
       "      <td>0</td>\n",
       "      <td>85</td>\n",
       "      <td>7225</td>\n",
       "      <td>5.648974</td>\n",
       "      <td>2002-01-01</td>\n",
       "      <td>2002</td>\n",
       "    </tr>\n",
       "    <tr>\n",
       "      <th>85</th>\n",
       "      <td>Feb-02</td>\n",
       "      <td>277</td>\n",
       "      <td>Feb</td>\n",
       "      <td>0</td>\n",
       "      <td>0</td>\n",
       "      <td>0</td>\n",
       "      <td>1</td>\n",
       "      <td>0</td>\n",
       "      <td>0</td>\n",
       "      <td>0</td>\n",
       "      <td>0</td>\n",
       "      <td>0</td>\n",
       "      <td>0</td>\n",
       "      <td>0</td>\n",
       "      <td>0</td>\n",
       "      <td>86</td>\n",
       "      <td>7396</td>\n",
       "      <td>5.624018</td>\n",
       "      <td>2002-02-01</td>\n",
       "      <td>2002</td>\n",
       "    </tr>\n",
       "    <tr>\n",
       "      <th>86</th>\n",
       "      <td>Mar-02</td>\n",
       "      <td>317</td>\n",
       "      <td>Mar</td>\n",
       "      <td>0</td>\n",
       "      <td>0</td>\n",
       "      <td>0</td>\n",
       "      <td>0</td>\n",
       "      <td>0</td>\n",
       "      <td>0</td>\n",
       "      <td>0</td>\n",
       "      <td>1</td>\n",
       "      <td>0</td>\n",
       "      <td>0</td>\n",
       "      <td>0</td>\n",
       "      <td>0</td>\n",
       "      <td>87</td>\n",
       "      <td>7569</td>\n",
       "      <td>5.758902</td>\n",
       "      <td>2002-03-01</td>\n",
       "      <td>2002</td>\n",
       "    </tr>\n",
       "    <tr>\n",
       "      <th>87</th>\n",
       "      <td>Apr-02</td>\n",
       "      <td>313</td>\n",
       "      <td>Apr</td>\n",
       "      <td>1</td>\n",
       "      <td>0</td>\n",
       "      <td>0</td>\n",
       "      <td>0</td>\n",
       "      <td>0</td>\n",
       "      <td>0</td>\n",
       "      <td>0</td>\n",
       "      <td>0</td>\n",
       "      <td>0</td>\n",
       "      <td>0</td>\n",
       "      <td>0</td>\n",
       "      <td>0</td>\n",
       "      <td>88</td>\n",
       "      <td>7744</td>\n",
       "      <td>5.746203</td>\n",
       "      <td>2002-04-01</td>\n",
       "      <td>2002</td>\n",
       "    </tr>\n",
       "    <tr>\n",
       "      <th>88</th>\n",
       "      <td>May-02</td>\n",
       "      <td>318</td>\n",
       "      <td>May</td>\n",
       "      <td>0</td>\n",
       "      <td>0</td>\n",
       "      <td>0</td>\n",
       "      <td>0</td>\n",
       "      <td>0</td>\n",
       "      <td>0</td>\n",
       "      <td>0</td>\n",
       "      <td>0</td>\n",
       "      <td>1</td>\n",
       "      <td>0</td>\n",
       "      <td>0</td>\n",
       "      <td>0</td>\n",
       "      <td>89</td>\n",
       "      <td>7921</td>\n",
       "      <td>5.762051</td>\n",
       "      <td>2002-05-01</td>\n",
       "      <td>2002</td>\n",
       "    </tr>\n",
       "    <tr>\n",
       "      <th>89</th>\n",
       "      <td>Jun-02</td>\n",
       "      <td>374</td>\n",
       "      <td>Jun</td>\n",
       "      <td>0</td>\n",
       "      <td>0</td>\n",
       "      <td>0</td>\n",
       "      <td>0</td>\n",
       "      <td>0</td>\n",
       "      <td>0</td>\n",
       "      <td>1</td>\n",
       "      <td>0</td>\n",
       "      <td>0</td>\n",
       "      <td>0</td>\n",
       "      <td>0</td>\n",
       "      <td>0</td>\n",
       "      <td>90</td>\n",
       "      <td>8100</td>\n",
       "      <td>5.924256</td>\n",
       "      <td>2002-06-01</td>\n",
       "      <td>2002</td>\n",
       "    </tr>\n",
       "    <tr>\n",
       "      <th>90</th>\n",
       "      <td>Jul-02</td>\n",
       "      <td>413</td>\n",
       "      <td>Jul</td>\n",
       "      <td>0</td>\n",
       "      <td>0</td>\n",
       "      <td>0</td>\n",
       "      <td>0</td>\n",
       "      <td>0</td>\n",
       "      <td>1</td>\n",
       "      <td>0</td>\n",
       "      <td>0</td>\n",
       "      <td>0</td>\n",
       "      <td>0</td>\n",
       "      <td>0</td>\n",
       "      <td>0</td>\n",
       "      <td>91</td>\n",
       "      <td>8281</td>\n",
       "      <td>6.023448</td>\n",
       "      <td>2002-07-01</td>\n",
       "      <td>2002</td>\n",
       "    </tr>\n",
       "    <tr>\n",
       "      <th>91</th>\n",
       "      <td>Aug-02</td>\n",
       "      <td>405</td>\n",
       "      <td>Aug</td>\n",
       "      <td>0</td>\n",
       "      <td>1</td>\n",
       "      <td>0</td>\n",
       "      <td>0</td>\n",
       "      <td>0</td>\n",
       "      <td>0</td>\n",
       "      <td>0</td>\n",
       "      <td>0</td>\n",
       "      <td>0</td>\n",
       "      <td>0</td>\n",
       "      <td>0</td>\n",
       "      <td>0</td>\n",
       "      <td>92</td>\n",
       "      <td>8464</td>\n",
       "      <td>6.003887</td>\n",
       "      <td>2002-08-01</td>\n",
       "      <td>2002</td>\n",
       "    </tr>\n",
       "    <tr>\n",
       "      <th>92</th>\n",
       "      <td>Sep-02</td>\n",
       "      <td>355</td>\n",
       "      <td>Sep</td>\n",
       "      <td>0</td>\n",
       "      <td>0</td>\n",
       "      <td>0</td>\n",
       "      <td>0</td>\n",
       "      <td>0</td>\n",
       "      <td>0</td>\n",
       "      <td>0</td>\n",
       "      <td>0</td>\n",
       "      <td>0</td>\n",
       "      <td>0</td>\n",
       "      <td>0</td>\n",
       "      <td>1</td>\n",
       "      <td>93</td>\n",
       "      <td>8649</td>\n",
       "      <td>5.872118</td>\n",
       "      <td>2002-09-01</td>\n",
       "      <td>2002</td>\n",
       "    </tr>\n",
       "    <tr>\n",
       "      <th>93</th>\n",
       "      <td>Oct-02</td>\n",
       "      <td>306</td>\n",
       "      <td>Oct</td>\n",
       "      <td>0</td>\n",
       "      <td>0</td>\n",
       "      <td>0</td>\n",
       "      <td>0</td>\n",
       "      <td>0</td>\n",
       "      <td>0</td>\n",
       "      <td>0</td>\n",
       "      <td>0</td>\n",
       "      <td>0</td>\n",
       "      <td>0</td>\n",
       "      <td>1</td>\n",
       "      <td>0</td>\n",
       "      <td>94</td>\n",
       "      <td>8836</td>\n",
       "      <td>5.723585</td>\n",
       "      <td>2002-10-01</td>\n",
       "      <td>2002</td>\n",
       "    </tr>\n",
       "    <tr>\n",
       "      <th>94</th>\n",
       "      <td>Nov-02</td>\n",
       "      <td>271</td>\n",
       "      <td>Nov</td>\n",
       "      <td>0</td>\n",
       "      <td>0</td>\n",
       "      <td>0</td>\n",
       "      <td>0</td>\n",
       "      <td>0</td>\n",
       "      <td>0</td>\n",
       "      <td>0</td>\n",
       "      <td>0</td>\n",
       "      <td>0</td>\n",
       "      <td>1</td>\n",
       "      <td>0</td>\n",
       "      <td>0</td>\n",
       "      <td>95</td>\n",
       "      <td>9025</td>\n",
       "      <td>5.602119</td>\n",
       "      <td>2002-11-01</td>\n",
       "      <td>2002</td>\n",
       "    </tr>\n",
       "    <tr>\n",
       "      <th>95</th>\n",
       "      <td>Dec-02</td>\n",
       "      <td>306</td>\n",
       "      <td>Dec</td>\n",
       "      <td>0</td>\n",
       "      <td>0</td>\n",
       "      <td>1</td>\n",
       "      <td>0</td>\n",
       "      <td>0</td>\n",
       "      <td>0</td>\n",
       "      <td>0</td>\n",
       "      <td>0</td>\n",
       "      <td>0</td>\n",
       "      <td>0</td>\n",
       "      <td>0</td>\n",
       "      <td>0</td>\n",
       "      <td>96</td>\n",
       "      <td>9216</td>\n",
       "      <td>5.723585</td>\n",
       "      <td>2002-12-01</td>\n",
       "      <td>2002</td>\n",
       "    </tr>\n",
       "  </tbody>\n",
       "</table>\n",
       "</div>"
      ],
      "text/plain": [
       "     Month  Passengers months  Apr  Aug  Dec  Feb  Jan  Jul  Jun  Mar  May  \\\n",
       "84  Jan-02         284    Jan    0    0    0    0    1    0    0    0    0   \n",
       "85  Feb-02         277    Feb    0    0    0    1    0    0    0    0    0   \n",
       "86  Mar-02         317    Mar    0    0    0    0    0    0    0    1    0   \n",
       "87  Apr-02         313    Apr    1    0    0    0    0    0    0    0    0   \n",
       "88  May-02         318    May    0    0    0    0    0    0    0    0    1   \n",
       "89  Jun-02         374    Jun    0    0    0    0    0    0    1    0    0   \n",
       "90  Jul-02         413    Jul    0    0    0    0    0    1    0    0    0   \n",
       "91  Aug-02         405    Aug    0    1    0    0    0    0    0    0    0   \n",
       "92  Sep-02         355    Sep    0    0    0    0    0    0    0    0    0   \n",
       "93  Oct-02         306    Oct    0    0    0    0    0    0    0    0    0   \n",
       "94  Nov-02         271    Nov    0    0    0    0    0    0    0    0    0   \n",
       "95  Dec-02         306    Dec    0    0    1    0    0    0    0    0    0   \n",
       "\n",
       "    Nov  Oct  Sep   t  t_squared  log_Passengers       Date  year  \n",
       "84    0    0    0  85       7225        5.648974 2002-01-01  2002  \n",
       "85    0    0    0  86       7396        5.624018 2002-02-01  2002  \n",
       "86    0    0    0  87       7569        5.758902 2002-03-01  2002  \n",
       "87    0    0    0  88       7744        5.746203 2002-04-01  2002  \n",
       "88    0    0    0  89       7921        5.762051 2002-05-01  2002  \n",
       "89    0    0    0  90       8100        5.924256 2002-06-01  2002  \n",
       "90    0    0    0  91       8281        6.023448 2002-07-01  2002  \n",
       "91    0    0    0  92       8464        6.003887 2002-08-01  2002  \n",
       "92    0    0    1  93       8649        5.872118 2002-09-01  2002  \n",
       "93    0    1    0  94       8836        5.723585 2002-10-01  2002  \n",
       "94    1    0    0  95       9025        5.602119 2002-11-01  2002  \n",
       "95    0    0    0  96       9216        5.723585 2002-12-01  2002  "
      ]
     },
     "execution_count": 28,
     "metadata": {},
     "output_type": "execute_result"
    }
   ],
   "source": [
    "Test"
   ]
  },
  {
   "cell_type": "markdown",
   "id": "52b4487c",
   "metadata": {},
   "source": [
    "### Evaluation Metric RMSE & MAPE"
   ]
  },
  {
   "cell_type": "code",
   "execution_count": 29,
   "id": "cfe1a5b0",
   "metadata": {
    "ExecuteTime": {
     "end_time": "2023-01-24T14:01:40.313649Z",
     "start_time": "2023-01-24T14:01:40.296054Z"
    }
   },
   "outputs": [],
   "source": [
    "def RMSE(pred, org):\n",
    "    temp = np.mean((pred-org)**2)\n",
    "    return np.sqrt(temp)"
   ]
  },
  {
   "cell_type": "code",
   "execution_count": 30,
   "id": "2452d67e",
   "metadata": {
    "ExecuteTime": {
     "end_time": "2023-01-24T14:01:51.416465Z",
     "start_time": "2023-01-24T14:01:51.404433Z"
    }
   },
   "outputs": [],
   "source": [
    "def MAPE(pred, org):\n",
    "    temp = np.abs(((pred-org)/org)*100)\n",
    "    return np.mean(temp)"
   ]
  },
  {
   "cell_type": "markdown",
   "id": "ec955547",
   "metadata": {},
   "source": [
    "### Building and Comparing Multiple Models to find out best model for Forecasting"
   ]
  },
  {
   "cell_type": "markdown",
   "id": "69e83926",
   "metadata": {},
   "source": [
    "### Linear model"
   ]
  },
  {
   "cell_type": "code",
   "execution_count": 31,
   "id": "5fd615e0",
   "metadata": {
    "ExecuteTime": {
     "end_time": "2023-01-24T14:02:30.789816Z",
     "start_time": "2023-01-24T14:02:30.752364Z"
    }
   },
   "outputs": [
    {
     "data": {
      "text/plain": [
       "84    288.419679\n",
       "85    290.562607\n",
       "86    292.705535\n",
       "87    294.848463\n",
       "88    296.991391\n",
       "89    299.134319\n",
       "90    301.277247\n",
       "91    303.420175\n",
       "92    305.563103\n",
       "93    307.706031\n",
       "94    309.848959\n",
       "95    311.991887\n",
       "dtype: float64"
      ]
     },
     "execution_count": 31,
     "metadata": {},
     "output_type": "execute_result"
    }
   ],
   "source": [
    "model_linear = smf.ols(\"Passengers~t\", data=Train).fit()\n",
    "pred_linear = pd.Series(model_linear.predict(pd.DataFrame(Test[\"t\"])))\n",
    "pred_linear"
   ]
  },
  {
   "cell_type": "code",
   "execution_count": 32,
   "id": "2e1a58e9",
   "metadata": {
    "ExecuteTime": {
     "end_time": "2023-01-24T14:02:37.960555Z",
     "start_time": "2023-01-24T14:02:37.951373Z"
    }
   },
   "outputs": [
    {
     "data": {
      "text/plain": [
       "53.19923653480264"
      ]
     },
     "execution_count": 32,
     "metadata": {},
     "output_type": "execute_result"
    }
   ],
   "source": [
    "rmse_linear = RMSE(pred_linear, Test['Passengers'])\n",
    "rmse_linear"
   ]
  },
  {
   "cell_type": "code",
   "execution_count": 33,
   "id": "21d69b74",
   "metadata": {
    "ExecuteTime": {
     "end_time": "2023-01-24T14:02:45.058351Z",
     "start_time": "2023-01-24T14:02:45.043886Z"
    }
   },
   "outputs": [
    {
     "data": {
      "text/plain": [
       "10.787458780263668"
      ]
     },
     "execution_count": 33,
     "metadata": {},
     "output_type": "execute_result"
    }
   ],
   "source": [
    "mape_linear = MAPE(pred_linear, Test['Passengers'])\n",
    "mape_linear"
   ]
  },
  {
   "cell_type": "markdown",
   "id": "8df936b1",
   "metadata": {},
   "source": [
    "### Exponential model"
   ]
  },
  {
   "cell_type": "code",
   "execution_count": 34,
   "id": "4e14c51b",
   "metadata": {
    "ExecuteTime": {
     "end_time": "2023-01-24T14:03:08.823977Z",
     "start_time": "2023-01-24T14:03:08.796751Z"
    }
   },
   "outputs": [
    {
     "data": {
      "text/plain": [
       "84    302.668185\n",
       "85    306.042469\n",
       "86    309.454370\n",
       "87    312.904309\n",
       "88    316.392709\n",
       "89    319.920000\n",
       "90    323.486614\n",
       "91    327.092991\n",
       "92    330.739573\n",
       "93    334.426809\n",
       "94    338.155152\n",
       "95    341.925060\n",
       "dtype: float64"
      ]
     },
     "execution_count": 34,
     "metadata": {},
     "output_type": "execute_result"
    }
   ],
   "source": [
    "model_expo = smf.ols(\"log_Passengers~t\", data=Train).fit()\n",
    "pred_expo = pd.Series(model_expo.predict(pd.DataFrame(Test[\"t\"])))\n",
    "pred_expo = np.exp(pred_expo)\n",
    "pred_expo"
   ]
  },
  {
   "cell_type": "code",
   "execution_count": 35,
   "id": "38333b50",
   "metadata": {
    "ExecuteTime": {
     "end_time": "2023-01-24T14:03:20.703900Z",
     "start_time": "2023-01-24T14:03:20.693913Z"
    }
   },
   "outputs": [
    {
     "data": {
      "text/plain": [
       "46.05736110315608"
      ]
     },
     "execution_count": 35,
     "metadata": {},
     "output_type": "execute_result"
    }
   ],
   "source": [
    "rmse_expo = RMSE(pred_expo, Test['Passengers'])\n",
    "rmse_expo"
   ]
  },
  {
   "cell_type": "code",
   "execution_count": 36,
   "id": "9f9dd068",
   "metadata": {
    "ExecuteTime": {
     "end_time": "2023-01-24T14:03:28.312446Z",
     "start_time": "2023-01-24T14:03:28.304994Z"
    }
   },
   "outputs": [
    {
     "data": {
      "text/plain": [
       "10.665738710883744"
      ]
     },
     "execution_count": 36,
     "metadata": {},
     "output_type": "execute_result"
    }
   ],
   "source": [
    "mape_expo = MAPE(pred_expo, Test['Passengers'])\n",
    "mape_expo"
   ]
  },
  {
   "cell_type": "markdown",
   "id": "bd4680c8",
   "metadata": {},
   "source": [
    "### Quadratic Model"
   ]
  },
  {
   "cell_type": "code",
   "execution_count": 37,
   "id": "a452e3fe",
   "metadata": {
    "ExecuteTime": {
     "end_time": "2023-01-24T14:03:57.293257Z",
     "start_time": "2023-01-24T14:03:57.270139Z"
    }
   },
   "outputs": [
    {
     "data": {
      "text/plain": [
       "84    296.926546\n",
       "85    299.669959\n",
       "86    302.427336\n",
       "87    305.198678\n",
       "88    307.983986\n",
       "89    310.783257\n",
       "90    313.596494\n",
       "91    316.423695\n",
       "92    319.264861\n",
       "93    322.119992\n",
       "94    324.989088\n",
       "95    327.872148\n",
       "dtype: float64"
      ]
     },
     "execution_count": 37,
     "metadata": {},
     "output_type": "execute_result"
    }
   ],
   "source": [
    "model_quad = smf.ols(\"Passengers~t+t_squared\", data=Train).fit()\n",
    "pred_quad = pd.Series(model_quad.predict(pd.DataFrame(Test[[\"t\",\"t_squared\"]])))\n",
    "pred_quad"
   ]
  },
  {
   "cell_type": "code",
   "execution_count": 38,
   "id": "b34d46f7",
   "metadata": {
    "ExecuteTime": {
     "end_time": "2023-01-24T14:04:07.818517Z",
     "start_time": "2023-01-24T14:04:07.810738Z"
    }
   },
   "outputs": [
    {
     "data": {
      "text/plain": [
       "48.05188897933152"
      ]
     },
     "execution_count": 38,
     "metadata": {},
     "output_type": "execute_result"
    }
   ],
   "source": [
    "rmse_quad = RMSE(pred_quad, Test['Passengers'])\n",
    "rmse_quad"
   ]
  },
  {
   "cell_type": "code",
   "execution_count": 39,
   "id": "72ab0fa1",
   "metadata": {
    "ExecuteTime": {
     "end_time": "2023-01-24T14:04:24.870575Z",
     "start_time": "2023-01-24T14:04:24.853926Z"
    }
   },
   "outputs": [
    {
     "data": {
      "text/plain": [
       "10.685102719319682"
      ]
     },
     "execution_count": 39,
     "metadata": {},
     "output_type": "execute_result"
    }
   ],
   "source": [
    "mape_quad = MAPE(pred_quad, Test['Passengers'])\n",
    "mape_quad"
   ]
  },
  {
   "cell_type": "markdown",
   "id": "fc919cdc",
   "metadata": {},
   "source": [
    "### Additive Seasonality"
   ]
  },
  {
   "cell_type": "code",
   "execution_count": 40,
   "id": "9001c712",
   "metadata": {
    "ExecuteTime": {
     "end_time": "2023-01-24T14:04:57.723015Z",
     "start_time": "2023-01-24T14:04:57.670182Z"
    }
   },
   "outputs": [
    {
     "data": {
      "text/plain": [
       "84    169.285714\n",
       "85    170.142857\n",
       "86    197.428571\n",
       "87    191.285714\n",
       "88    190.571429\n",
       "89    214.571429\n",
       "90    239.571429\n",
       "91    238.714286\n",
       "92    213.571429\n",
       "93    188.428571\n",
       "94    165.142857\n",
       "95    189.428571\n",
       "dtype: float64"
      ]
     },
     "execution_count": 40,
     "metadata": {},
     "output_type": "execute_result"
    }
   ],
   "source": [
    "model_add_seas = smf.ols(\"Passengers~Apr+Aug+Dec+Feb+Jan+Jul+Jun+Mar+May+Nov+Oct+Sep\",data=Train).fit()\n",
    "pred_add_seas = pd. Series(model_add_seas.predict(pd.DataFrame(Test[['Apr', 'Aug', 'Dec', 'Feb', 'Jan','Jul', 'Jun', 'Mar', 'May', 'Nov', 'Oct', 'Sep']])))\n",
    "pred_add_seas"
   ]
  },
  {
   "cell_type": "code",
   "execution_count": 41,
   "id": "18c76262",
   "metadata": {
    "ExecuteTime": {
     "end_time": "2023-01-24T14:05:08.717965Z",
     "start_time": "2023-01-24T14:05:08.706077Z"
    }
   },
   "outputs": [
    {
     "data": {
      "text/plain": [
       "132.8197848142182"
      ]
     },
     "execution_count": 41,
     "metadata": {},
     "output_type": "execute_result"
    }
   ],
   "source": [
    "rmse_add_seas = RMSE(pred_add_seas, Test['Passengers'])\n",
    "rmse_add_seas"
   ]
  },
  {
   "cell_type": "code",
   "execution_count": 42,
   "id": "26b3d7da",
   "metadata": {
    "ExecuteTime": {
     "end_time": "2023-01-24T14:05:16.863320Z",
     "start_time": "2023-01-24T14:05:16.852430Z"
    }
   },
   "outputs": [
    {
     "data": {
      "text/plain": [
       "39.7286166868744"
      ]
     },
     "execution_count": 42,
     "metadata": {},
     "output_type": "execute_result"
    }
   ],
   "source": [
    "mape_add_seas = MAPE(pred_add_seas, Test['Passengers'])\n",
    "mape_add_seas"
   ]
  },
  {
   "cell_type": "markdown",
   "id": "bf475507",
   "metadata": {},
   "source": [
    "### Additive Seasonality with Quadratic trend"
   ]
  },
  {
   "cell_type": "code",
   "execution_count": 43,
   "id": "1bdc2d7f",
   "metadata": {
    "ExecuteTime": {
     "end_time": "2023-01-24T14:05:57.677261Z",
     "start_time": "2023-01-24T14:05:57.629785Z"
    }
   },
   "outputs": [
    {
     "data": {
      "text/plain": [
       "84    282.098895\n",
       "85    283.691568\n",
       "86    311.712813\n",
       "87    306.305487\n",
       "88    306.326732\n",
       "89    331.062262\n",
       "90    356.797793\n",
       "91    356.676181\n",
       "92    332.268854\n",
       "93    307.861528\n",
       "94    285.311344\n",
       "95    310.332589\n",
       "dtype: float64"
      ]
     },
     "execution_count": 43,
     "metadata": {},
     "output_type": "execute_result"
    }
   ],
   "source": [
    "model_add_seas_quad = smf.ols(\"Passengers~t+t_squared+Apr+Aug+Dec+Feb+Jan+Jul+Jun+Mar+May+Nov+Oct+Sep\", data=Train).fit()\n",
    "pred_add_seas_quad = pd.Series(model_add_seas_quad.predict(pd.DataFrame(Test[[\"t\",\"t_squared\",'Apr', 'Aug', 'Dec', 'Feb', 'Jan','Jul', 'Jun', 'Mar', 'May', 'Nov', 'Oct', 'Sep']])))\n",
    "pred_add_seas_quad"
   ]
  },
  {
   "cell_type": "code",
   "execution_count": 44,
   "id": "98b56e29",
   "metadata": {
    "ExecuteTime": {
     "end_time": "2023-01-24T14:06:04.942016Z",
     "start_time": "2023-01-24T14:06:04.921240Z"
    }
   },
   "outputs": [
    {
     "data": {
      "text/plain": [
       "26.360817612100178"
      ]
     },
     "execution_count": 44,
     "metadata": {},
     "output_type": "execute_result"
    }
   ],
   "source": [
    "rmse_add_seas_quad = RMSE(pred_add_seas_quad, Test['Passengers'])\n",
    "rmse_add_seas_quad"
   ]
  },
  {
   "cell_type": "code",
   "execution_count": 45,
   "id": "3c56ff2b",
   "metadata": {
    "ExecuteTime": {
     "end_time": "2023-01-24T14:06:11.905998Z",
     "start_time": "2023-01-24T14:06:11.897505Z"
    }
   },
   "outputs": [
    {
     "data": {
      "text/plain": [
       "5.107645277922511"
      ]
     },
     "execution_count": 45,
     "metadata": {},
     "output_type": "execute_result"
    }
   ],
   "source": [
    "mape_add_seas_quad = MAPE(pred_add_seas_quad, Test['Passengers'])\n",
    "mape_add_seas_quad"
   ]
  },
  {
   "cell_type": "markdown",
   "id": "48c5b41e",
   "metadata": {},
   "source": [
    "### Multiplicative Seasonality"
   ]
  },
  {
   "cell_type": "code",
   "execution_count": 46,
   "id": "aebe77c1",
   "metadata": {
    "ExecuteTime": {
     "end_time": "2023-01-24T14:06:46.666519Z",
     "start_time": "2023-01-24T14:06:46.624344Z"
    }
   },
   "outputs": [
    {
     "data": {
      "text/plain": [
       "84    163.250497\n",
       "85    165.816061\n",
       "86    191.568046\n",
       "87    184.843888\n",
       "88    183.056135\n",
       "89    206.057385\n",
       "90    229.388674\n",
       "91    229.474806\n",
       "92    206.155387\n",
       "93    181.480841\n",
       "94    159.081429\n",
       "95    182.749669\n",
       "dtype: float64"
      ]
     },
     "execution_count": 46,
     "metadata": {},
     "output_type": "execute_result"
    }
   ],
   "source": [
    "model_mul_seas = smf.ols(\"log_Passengers~Apr+Aug+Dec+Feb+Jan+Jul+Jun+Mar+May+Nov+Oct+Sep\",data=Train).fit()\n",
    "pred_mul_seas = pd. Series(model_mul_seas.predict(pd.DataFrame(Test[['Apr', 'Aug', 'Dec', 'Feb', 'Jan','Jul', 'Jun', 'Mar', 'May', 'Nov', 'Oct', 'Sep']])))\n",
    "pred_mul_seas = np.exp(pred_mul_seas)\n",
    "pred_mul_seas"
   ]
  },
  {
   "cell_type": "code",
   "execution_count": 47,
   "id": "9c8d6d7e",
   "metadata": {
    "ExecuteTime": {
     "end_time": "2023-01-24T14:06:53.937061Z",
     "start_time": "2023-01-24T14:06:53.927514Z"
    }
   },
   "outputs": [
    {
     "data": {
      "text/plain": [
       "140.06320204708643"
      ]
     },
     "execution_count": 47,
     "metadata": {},
     "output_type": "execute_result"
    }
   ],
   "source": [
    "rmse_mul_seas = RMSE(pred_mul_seas, Test['Passengers'])\n",
    "rmse_mul_seas"
   ]
  },
  {
   "cell_type": "code",
   "execution_count": 49,
   "id": "c36666fc",
   "metadata": {
    "ExecuteTime": {
     "end_time": "2023-01-24T14:07:39.116519Z",
     "start_time": "2023-01-24T14:07:39.102656Z"
    }
   },
   "outputs": [
    {
     "data": {
      "text/plain": [
       "41.87524092918528"
      ]
     },
     "execution_count": 49,
     "metadata": {},
     "output_type": "execute_result"
    }
   ],
   "source": [
    "mape_mul_seas = MAPE(pred_mul_seas, Test['Passengers'])\n",
    "mape_mul_seas"
   ]
  },
  {
   "cell_type": "markdown",
   "id": "c7bd1edd",
   "metadata": {},
   "source": [
    "### Multiplicative Additive Seasonality"
   ]
  },
  {
   "cell_type": "code",
   "execution_count": 50,
   "id": "3f753e92",
   "metadata": {
    "ExecuteTime": {
     "end_time": "2023-01-24T14:07:41.434605Z",
     "start_time": "2023-01-24T14:07:41.377265Z"
    }
   },
   "outputs": [
    {
     "data": {
      "text/plain": [
       "84    279.259237\n",
       "85    283.647937\n",
       "86    327.699745\n",
       "87    316.197279\n",
       "88    313.139118\n",
       "89    352.485470\n",
       "90    392.396393\n",
       "91    392.543731\n",
       "92    352.653113\n",
       "93    310.444392\n",
       "94    272.127554\n",
       "95    312.614872\n",
       "dtype: float64"
      ]
     },
     "execution_count": 50,
     "metadata": {},
     "output_type": "execute_result"
    }
   ],
   "source": [
    "model_mul_add_seas = smf.ols(\"log_Passengers~t+Apr+Aug+Dec+Feb+Jan+Jul+Jun+Mar+May+Nov+Oct+Sep\",data=Train).fit()\n",
    "pred_mul_add_seas = pd.Series(model_mul_add_seas.predict(pd.DataFrame(Test[[\"t\", 'Apr', 'Aug', 'Dec', 'Feb', 'Jan','Jul', 'Jun', 'Mar', 'May', 'Nov', 'Oct', 'Sep']])))\n",
    "pred_mul_add_seas = np.exp(pred_mul_add_seas)\n",
    "pred_mul_add_seas"
   ]
  },
  {
   "cell_type": "code",
   "execution_count": 51,
   "id": "690e882f",
   "metadata": {
    "ExecuteTime": {
     "end_time": "2023-01-24T14:07:51.425171Z",
     "start_time": "2023-01-24T14:07:51.406452Z"
    }
   },
   "outputs": [
    {
     "data": {
      "text/plain": [
       "10.519172544323522"
      ]
     },
     "execution_count": 51,
     "metadata": {},
     "output_type": "execute_result"
    }
   ],
   "source": [
    "rmse_mul_add_seas = RMSE(pred_mul_add_seas, Test['Passengers'])\n",
    "rmse_mul_add_seas"
   ]
  },
  {
   "cell_type": "code",
   "execution_count": 52,
   "id": "86e15baa",
   "metadata": {
    "ExecuteTime": {
     "end_time": "2023-01-24T14:08:02.286649Z",
     "start_time": "2023-01-24T14:08:02.274322Z"
    }
   },
   "outputs": [
    {
     "data": {
      "text/plain": [
       "2.3752408474928735"
      ]
     },
     "execution_count": 52,
     "metadata": {},
     "output_type": "execute_result"
    }
   ],
   "source": [
    "mape_mul_add_seas = MAPE(pred_mul_add_seas, Test['Passengers'])\n",
    "mape_mul_add_seas"
   ]
  },
  {
   "cell_type": "markdown",
   "id": "597f564d",
   "metadata": {},
   "source": [
    "### Building models using Exponential Smoothing"
   ]
  },
  {
   "cell_type": "code",
   "execution_count": 53,
   "id": "aff44187",
   "metadata": {
    "ExecuteTime": {
     "end_time": "2023-01-24T14:08:50.698968Z",
     "start_time": "2023-01-24T14:08:50.535472Z"
    }
   },
   "outputs": [],
   "source": [
    "from statsmodels.tsa.holtwinters import SimpleExpSmoothing\n",
    "from statsmodels.tsa.holtwinters import Holt\n",
    "from statsmodels.tsa.holtwinters import ExponentialSmoothing\n",
    "import warnings\n",
    "warnings.filterwarnings('ignore')"
   ]
  },
  {
   "cell_type": "markdown",
   "id": "d09409f6",
   "metadata": {},
   "source": [
    "### Simple Exponential Method"
   ]
  },
  {
   "cell_type": "code",
   "execution_count": 54,
   "id": "df8ec4f8",
   "metadata": {
    "ExecuteTime": {
     "end_time": "2023-01-24T14:09:29.242616Z",
     "start_time": "2023-01-24T14:09:29.212447Z"
    }
   },
   "outputs": [
    {
     "data": {
      "text/plain": [
       "84    282.369838\n",
       "85    282.369838\n",
       "86    282.369838\n",
       "87    282.369838\n",
       "88    282.369838\n",
       "89    282.369838\n",
       "90    282.369838\n",
       "91    282.369838\n",
       "92    282.369838\n",
       "93    282.369838\n",
       "94    282.369838\n",
       "95    282.369838\n",
       "dtype: float64"
      ]
     },
     "execution_count": 54,
     "metadata": {},
     "output_type": "execute_result"
    }
   ],
   "source": [
    "model_simple_expo = SimpleExpSmoothing(Train[\"Passengers\"]).fit(smoothing_level=0.2)\n",
    "pred_simple_expo = model_simple_expo.predict(start=Test.index[0], end=Test.index[-1])\n",
    "pred_simple_expo"
   ]
  },
  {
   "cell_type": "code",
   "execution_count": 55,
   "id": "be13f079",
   "metadata": {
    "ExecuteTime": {
     "end_time": "2023-01-24T14:09:36.145950Z",
     "start_time": "2023-01-24T14:09:36.124793Z"
    }
   },
   "outputs": [
    {
     "data": {
      "text/plain": [
       "64.84476396990442"
      ]
     },
     "execution_count": 55,
     "metadata": {},
     "output_type": "execute_result"
    }
   ],
   "source": [
    "rmse_simple_expo = RMSE(pred_simple_expo, Test['Passengers'])\n",
    "rmse_simple_expo"
   ]
  },
  {
   "cell_type": "code",
   "execution_count": 56,
   "id": "890e6ce4",
   "metadata": {
    "ExecuteTime": {
     "end_time": "2023-01-24T14:09:43.228407Z",
     "start_time": "2023-01-24T14:09:43.219628Z"
    }
   },
   "outputs": [
    {
     "data": {
      "text/plain": [
       "13.41127474051367"
      ]
     },
     "execution_count": 56,
     "metadata": {},
     "output_type": "execute_result"
    }
   ],
   "source": [
    "mape_simple_expo = MAPE(pred_simple_expo, Test['Passengers'])\n",
    "mape_simple_expo"
   ]
  },
  {
   "cell_type": "markdown",
   "id": "d759b830",
   "metadata": {},
   "source": [
    "### Holt Method"
   ]
  },
  {
   "cell_type": "code",
   "execution_count": 57,
   "id": "774f54ee",
   "metadata": {
    "ExecuteTime": {
     "end_time": "2023-01-24T14:10:07.136033Z",
     "start_time": "2023-01-24T14:10:07.104890Z"
    }
   },
   "outputs": [
    {
     "data": {
      "text/plain": [
       "84    276.907540\n",
       "85    275.815080\n",
       "86    274.722620\n",
       "87    273.630160\n",
       "88    272.537701\n",
       "89    271.445241\n",
       "90    270.352781\n",
       "91    269.260322\n",
       "92    268.167862\n",
       "93    267.075402\n",
       "94    265.982943\n",
       "95    264.890483\n",
       "dtype: float64"
      ]
     },
     "execution_count": 57,
     "metadata": {},
     "output_type": "execute_result"
    }
   ],
   "source": [
    "model_holt = Holt(Train[\"Passengers\"]).fit(smoothing_trend=0.2)\n",
    "pred_holt = model_holt.predict(start=Test.index[0], end=Test.index[-1])\n",
    "pred_holt"
   ]
  },
  {
   "cell_type": "code",
   "execution_count": 58,
   "id": "50aa70e1",
   "metadata": {
    "ExecuteTime": {
     "end_time": "2023-01-24T14:10:14.327981Z",
     "start_time": "2023-01-24T14:10:14.311828Z"
    }
   },
   "outputs": [
    {
     "data": {
      "text/plain": [
       "73.89010108162844"
      ]
     },
     "execution_count": 58,
     "metadata": {},
     "output_type": "execute_result"
    }
   ],
   "source": [
    "rmse_holt = RMSE(pred_holt, Test['Passengers'])\n",
    "rmse_holt"
   ]
  },
  {
   "cell_type": "code",
   "execution_count": 59,
   "id": "8c5ca7b3",
   "metadata": {
    "ExecuteTime": {
     "end_time": "2023-01-24T14:10:21.581077Z",
     "start_time": "2023-01-24T14:10:21.571203Z"
    }
   },
   "outputs": [
    {
     "data": {
      "text/plain": [
       "15.923223940002009"
      ]
     },
     "execution_count": 59,
     "metadata": {},
     "output_type": "execute_result"
    }
   ],
   "source": [
    "mape_holt = MAPE(pred_holt, Test['Passengers'])\n",
    "mape_holt"
   ]
  },
  {
   "cell_type": "markdown",
   "id": "9fcf6551",
   "metadata": {},
   "source": [
    "### Holts Winter exponential smoothing with multiplicative seasonality and additve trend"
   ]
  },
  {
   "cell_type": "code",
   "execution_count": 60,
   "id": "20bd5df7",
   "metadata": {
    "ExecuteTime": {
     "end_time": "2023-01-24T14:11:25.966388Z",
     "start_time": "2023-01-24T14:11:25.821969Z"
    }
   },
   "outputs": [
    {
     "data": {
      "text/plain": [
       "84    281.192302\n",
       "85    278.384307\n",
       "86    322.559454\n",
       "87    312.456280\n",
       "88    311.023751\n",
       "89    348.875136\n",
       "90    389.545671\n",
       "91    384.751046\n",
       "92    341.857666\n",
       "93    300.736649\n",
       "94    262.168059\n",
       "95    299.373019\n",
       "dtype: float64"
      ]
     },
     "execution_count": 60,
     "metadata": {},
     "output_type": "execute_result"
    }
   ],
   "source": [
    "model_holt_expo = ExponentialSmoothing(Train[\"Passengers\"], seasonal=\"mul\", trend=\"add\", seasonal_periods=12).fit()\n",
    "pred_holt_expo = model_holt_expo.predict(start=Test.index[0], end=Test.index[-1])\n",
    "pred_holt_expo"
   ]
  },
  {
   "cell_type": "code",
   "execution_count": 61,
   "id": "1f28ccbe",
   "metadata": {
    "ExecuteTime": {
     "end_time": "2023-01-24T14:11:33.709568Z",
     "start_time": "2023-01-24T14:11:33.690689Z"
    }
   },
   "outputs": [
    {
     "data": {
      "text/plain": [
       "12.920910103618887"
      ]
     },
     "execution_count": 61,
     "metadata": {},
     "output_type": "execute_result"
    }
   ],
   "source": [
    "rmse_holt_expo = RMSE(pred_holt_expo, Test['Passengers'])\n",
    "rmse_holt_expo"
   ]
  },
  {
   "cell_type": "code",
   "execution_count": 62,
   "id": "56def402",
   "metadata": {
    "ExecuteTime": {
     "end_time": "2023-01-24T14:11:40.741933Z",
     "start_time": "2023-01-24T14:11:40.733022Z"
    }
   },
   "outputs": [
    {
     "data": {
      "text/plain": [
       "2.821091342486879"
      ]
     },
     "execution_count": 62,
     "metadata": {},
     "output_type": "execute_result"
    }
   ],
   "source": [
    "mape_holt_expo = MAPE(pred_holt_expo, Test['Passengers'])\n",
    "mape_holt_expo"
   ]
  },
  {
   "cell_type": "markdown",
   "id": "da7194a7",
   "metadata": {},
   "source": [
    "### ARIMA model"
   ]
  },
  {
   "cell_type": "code",
   "execution_count": 63,
   "id": "bdfe74de",
   "metadata": {
    "ExecuteTime": {
     "end_time": "2023-01-24T14:12:10.571597Z",
     "start_time": "2023-01-24T14:12:10.103515Z"
    }
   },
   "outputs": [],
   "source": [
    "from math import sqrt\n",
    "from pandas import read_csv\n",
    "from sklearn.metrics import mean_squared_error\n",
    "from statsmodels.tsa.arima_model import ARIMA"
   ]
  },
  {
   "cell_type": "markdown",
   "id": "457a3331",
   "metadata": {},
   "source": [
    "### Making Data Stationary"
   ]
  },
  {
   "cell_type": "code",
   "execution_count": 64,
   "id": "bf96e126",
   "metadata": {
    "ExecuteTime": {
     "end_time": "2023-01-24T14:12:40.631111Z",
     "start_time": "2023-01-24T14:12:40.590379Z"
    }
   },
   "outputs": [
    {
     "data": {
      "text/html": [
       "<div>\n",
       "<style scoped>\n",
       "    .dataframe tbody tr th:only-of-type {\n",
       "        vertical-align: middle;\n",
       "    }\n",
       "\n",
       "    .dataframe tbody tr th {\n",
       "        vertical-align: top;\n",
       "    }\n",
       "\n",
       "    .dataframe thead th {\n",
       "        text-align: right;\n",
       "    }\n",
       "</style>\n",
       "<table border=\"1\" class=\"dataframe\">\n",
       "  <thead>\n",
       "    <tr style=\"text-align: right;\">\n",
       "      <th></th>\n",
       "      <th>Passengers</th>\n",
       "    </tr>\n",
       "    <tr>\n",
       "      <th>Date</th>\n",
       "      <th></th>\n",
       "    </tr>\n",
       "  </thead>\n",
       "  <tbody>\n",
       "    <tr>\n",
       "      <th>1995-01-01</th>\n",
       "      <td>112</td>\n",
       "    </tr>\n",
       "    <tr>\n",
       "      <th>1995-02-01</th>\n",
       "      <td>118</td>\n",
       "    </tr>\n",
       "    <tr>\n",
       "      <th>1995-03-01</th>\n",
       "      <td>132</td>\n",
       "    </tr>\n",
       "    <tr>\n",
       "      <th>1995-04-01</th>\n",
       "      <td>129</td>\n",
       "    </tr>\n",
       "    <tr>\n",
       "      <th>1995-05-01</th>\n",
       "      <td>121</td>\n",
       "    </tr>\n",
       "  </tbody>\n",
       "</table>\n",
       "</div>"
      ],
      "text/plain": [
       "            Passengers\n",
       "Date                  \n",
       "1995-01-01         112\n",
       "1995-02-01         118\n",
       "1995-03-01         132\n",
       "1995-04-01         129\n",
       "1995-05-01         121"
      ]
     },
     "execution_count": 64,
     "metadata": {},
     "output_type": "execute_result"
    }
   ],
   "source": [
    "data2 = data1[[\"Date\", \"Passengers\"]]\n",
    "data2.to_csv(\"data3.csv\", index=False)\n",
    "series = read_csv(\"data3.csv\", index_col=0)\n",
    "series.head()"
   ]
  },
  {
   "cell_type": "code",
   "execution_count": 65,
   "id": "d6bf4a38",
   "metadata": {
    "ExecuteTime": {
     "end_time": "2023-01-24T14:12:48.263667Z",
     "start_time": "2023-01-24T14:12:48.109119Z"
    }
   },
   "outputs": [
    {
     "data": {
      "text/plain": [
       "<AxesSubplot: xlabel='Date'>"
      ]
     },
     "execution_count": 65,
     "metadata": {},
     "output_type": "execute_result"
    },
    {
     "data": {
      "image/png": "[encoded data removed]",
      "text/plain": [
       "<Figure size 640x480 with 1 Axes>"
      ]
     },
     "metadata": {},
     "output_type": "display_data"
    }
   ],
   "source": [
    "series.plot()"
   ]
  },
  {
   "cell_type": "markdown",
   "id": "8da826a3",
   "metadata": {},
   "source": [
    "### Evaluation of Stationary Data"
   ]
  },
  {
   "cell_type": "code",
   "execution_count": 66,
   "id": "2c07dd9d",
   "metadata": {
    "ExecuteTime": {
     "end_time": "2023-01-24T14:13:38.478521Z",
     "start_time": "2023-01-24T14:13:38.464058Z"
    }
   },
   "outputs": [],
   "source": [
    "from statsmodels.tsa.stattools import adfuller"
   ]
  },
  {
   "cell_type": "code",
   "execution_count": 67,
   "id": "3fb4551f",
   "metadata": {
    "ExecuteTime": {
     "end_time": "2023-01-24T14:13:44.585238Z",
     "start_time": "2023-01-24T14:13:44.568613Z"
    }
   },
   "outputs": [],
   "source": [
    "test_result=adfuller(series['Passengers'])"
   ]
  },
  {
   "cell_type": "markdown",
   "id": "a93ace7e",
   "metadata": {},
   "source": [
    "##### Ho: It is non stationary.\n",
    "H1: It is stationary."
   ]
  },
  {
   "cell_type": "code",
   "execution_count": 68,
   "id": "59b22981",
   "metadata": {
    "ExecuteTime": {
     "end_time": "2023-01-24T14:14:40.045788Z",
     "start_time": "2023-01-24T14:14:40.032080Z"
    }
   },
   "outputs": [],
   "source": [
    "def adfuller_test(Passengers):\n",
    "    result=adfuller(Passengers)\n",
    "    labels = ['ADF Test Statistic','p-value','#Lags Used','Number of Observations Used']\n",
    "    for value,label in zip(result,labels):\n",
    "        print(label+' : '+str(value) )\n",
    "    if result[1] <= 0.05:\n",
    "        print(\"strong evidence against the null hypothesis(Ho), reject the null hypothesis. Data has no unit root and is stationary\")\n",
    "    else:\n",
    "        print(\"weak evidence against null hypothesis, time series has a unit root, indicating it is non-stationary \")"
   ]
  },
  {
   "cell_type": "code",
   "execution_count": 69,
   "id": "b23520c8",
   "metadata": {
    "ExecuteTime": {
     "end_time": "2023-01-24T14:14:52.405923Z",
     "start_time": "2023-01-24T14:14:52.385880Z"
    }
   },
   "outputs": [
    {
     "name": "stdout",
     "output_type": "stream",
     "text": [
      "ADF Test Statistic : 1.3402479596467134\n",
      "p-value : 0.9968250481137263\n",
      "#Lags Used : 12\n",
      "Number of Observations Used : 83\n",
      "weak evidence against null hypothesis, time series has a unit root, indicating it is non-stationary \n"
     ]
    }
   ],
   "source": [
    "adfuller_test(series['Passengers'])"
   ]
  },
  {
   "cell_type": "markdown",
   "id": "780a8768",
   "metadata": {},
   "source": [
    "### Log Transform"
   ]
  },
  {
   "cell_type": "code",
   "execution_count": 70,
   "id": "ac4b42ef",
   "metadata": {
    "ExecuteTime": {
     "end_time": "2023-01-24T14:15:21.961475Z",
     "start_time": "2023-01-24T14:15:21.938381Z"
    }
   },
   "outputs": [
    {
     "data": {
      "text/html": [
       "<div>\n",
       "<style scoped>\n",
       "    .dataframe tbody tr th:only-of-type {\n",
       "        vertical-align: middle;\n",
       "    }\n",
       "\n",
       "    .dataframe tbody tr th {\n",
       "        vertical-align: top;\n",
       "    }\n",
       "\n",
       "    .dataframe thead th {\n",
       "        text-align: right;\n",
       "    }\n",
       "</style>\n",
       "<table border=\"1\" class=\"dataframe\">\n",
       "  <thead>\n",
       "    <tr style=\"text-align: right;\">\n",
       "      <th></th>\n",
       "      <th>Passengers</th>\n",
       "      <th>log_Passengers</th>\n",
       "    </tr>\n",
       "    <tr>\n",
       "      <th>Date</th>\n",
       "      <th></th>\n",
       "      <th></th>\n",
       "    </tr>\n",
       "  </thead>\n",
       "  <tbody>\n",
       "    <tr>\n",
       "      <th>1995-01-01</th>\n",
       "      <td>112</td>\n",
       "      <td>4.718499</td>\n",
       "    </tr>\n",
       "    <tr>\n",
       "      <th>1995-02-01</th>\n",
       "      <td>118</td>\n",
       "      <td>4.770685</td>\n",
       "    </tr>\n",
       "    <tr>\n",
       "      <th>1995-03-01</th>\n",
       "      <td>132</td>\n",
       "      <td>4.882802</td>\n",
       "    </tr>\n",
       "    <tr>\n",
       "      <th>1995-04-01</th>\n",
       "      <td>129</td>\n",
       "      <td>4.859812</td>\n",
       "    </tr>\n",
       "    <tr>\n",
       "      <th>1995-05-01</th>\n",
       "      <td>121</td>\n",
       "      <td>4.795791</td>\n",
       "    </tr>\n",
       "  </tbody>\n",
       "</table>\n",
       "</div>"
      ],
      "text/plain": [
       "            Passengers  log_Passengers\n",
       "Date                                  \n",
       "1995-01-01         112        4.718499\n",
       "1995-02-01         118        4.770685\n",
       "1995-03-01         132        4.882802\n",
       "1995-04-01         129        4.859812\n",
       "1995-05-01         121        4.795791"
      ]
     },
     "execution_count": 70,
     "metadata": {},
     "output_type": "execute_result"
    }
   ],
   "source": [
    "series['log_Passengers'] = np.log(series['Passengers'])\n",
    "series.head()"
   ]
  },
  {
   "cell_type": "code",
   "execution_count": 71,
   "id": "7cf73414",
   "metadata": {
    "ExecuteTime": {
     "end_time": "2023-01-24T14:15:31.884492Z",
     "start_time": "2023-01-24T14:15:31.862577Z"
    }
   },
   "outputs": [
    {
     "name": "stdout",
     "output_type": "stream",
     "text": [
      "ADF Test Statistic : -0.7230267542465436\n",
      "p-value : 0.8406945968114734\n",
      "#Lags Used : 12\n",
      "Number of Observations Used : 83\n",
      "weak evidence against null hypothesis, time series has a unit root, indicating it is non-stationary \n"
     ]
    }
   ],
   "source": [
    "adfuller_test(series['log_Passengers'])"
   ]
  },
  {
   "cell_type": "markdown",
   "id": "28623e8a",
   "metadata": {},
   "source": [
    "### Square Root Transform"
   ]
  },
  {
   "cell_type": "code",
   "execution_count": 72,
   "id": "5ba62b66",
   "metadata": {
    "ExecuteTime": {
     "end_time": "2023-01-24T14:16:03.171791Z",
     "start_time": "2023-01-24T14:16:03.152310Z"
    }
   },
   "outputs": [
    {
     "data": {
      "text/html": [
       "<div>\n",
       "<style scoped>\n",
       "    .dataframe tbody tr th:only-of-type {\n",
       "        vertical-align: middle;\n",
       "    }\n",
       "\n",
       "    .dataframe tbody tr th {\n",
       "        vertical-align: top;\n",
       "    }\n",
       "\n",
       "    .dataframe thead th {\n",
       "        text-align: right;\n",
       "    }\n",
       "</style>\n",
       "<table border=\"1\" class=\"dataframe\">\n",
       "  <thead>\n",
       "    <tr style=\"text-align: right;\">\n",
       "      <th></th>\n",
       "      <th>Passengers</th>\n",
       "      <th>log_Passengers</th>\n",
       "      <th>sqrt_Passengers</th>\n",
       "    </tr>\n",
       "    <tr>\n",
       "      <th>Date</th>\n",
       "      <th></th>\n",
       "      <th></th>\n",
       "      <th></th>\n",
       "    </tr>\n",
       "  </thead>\n",
       "  <tbody>\n",
       "    <tr>\n",
       "      <th>1995-01-01</th>\n",
       "      <td>112</td>\n",
       "      <td>4.718499</td>\n",
       "      <td>10.583005</td>\n",
       "    </tr>\n",
       "    <tr>\n",
       "      <th>1995-02-01</th>\n",
       "      <td>118</td>\n",
       "      <td>4.770685</td>\n",
       "      <td>10.862780</td>\n",
       "    </tr>\n",
       "    <tr>\n",
       "      <th>1995-03-01</th>\n",
       "      <td>132</td>\n",
       "      <td>4.882802</td>\n",
       "      <td>11.489125</td>\n",
       "    </tr>\n",
       "    <tr>\n",
       "      <th>1995-04-01</th>\n",
       "      <td>129</td>\n",
       "      <td>4.859812</td>\n",
       "      <td>11.357817</td>\n",
       "    </tr>\n",
       "    <tr>\n",
       "      <th>1995-05-01</th>\n",
       "      <td>121</td>\n",
       "      <td>4.795791</td>\n",
       "      <td>11.000000</td>\n",
       "    </tr>\n",
       "  </tbody>\n",
       "</table>\n",
       "</div>"
      ],
      "text/plain": [
       "            Passengers  log_Passengers  sqrt_Passengers\n",
       "Date                                                   \n",
       "1995-01-01         112        4.718499        10.583005\n",
       "1995-02-01         118        4.770685        10.862780\n",
       "1995-03-01         132        4.882802        11.489125\n",
       "1995-04-01         129        4.859812        11.357817\n",
       "1995-05-01         121        4.795791        11.000000"
      ]
     },
     "execution_count": 72,
     "metadata": {},
     "output_type": "execute_result"
    }
   ],
   "source": [
    "series['sqrt_Passengers'] = np.sqrt(series['Passengers'])\n",
    "series.head()"
   ]
  },
  {
   "cell_type": "code",
   "execution_count": 73,
   "id": "1afeb53d",
   "metadata": {
    "ExecuteTime": {
     "end_time": "2023-01-24T14:16:11.166735Z",
     "start_time": "2023-01-24T14:16:11.152447Z"
    }
   },
   "outputs": [
    {
     "name": "stdout",
     "output_type": "stream",
     "text": [
      "ADF Test Statistic : 0.45143464312623055\n",
      "p-value : 0.9833197981745518\n",
      "#Lags Used : 12\n",
      "Number of Observations Used : 83\n",
      "weak evidence against null hypothesis, time series has a unit root, indicating it is non-stationary \n"
     ]
    }
   ],
   "source": [
    "adfuller_test(series['sqrt_Passengers'])"
   ]
  },
  {
   "cell_type": "markdown",
   "id": "de5a9bac",
   "metadata": {},
   "source": [
    "### Combination of SQRT and LOG Transform"
   ]
  },
  {
   "cell_type": "code",
   "execution_count": 74,
   "id": "c99151f5",
   "metadata": {
    "ExecuteTime": {
     "end_time": "2023-01-24T14:16:56.084739Z",
     "start_time": "2023-01-24T14:16:56.056700Z"
    }
   },
   "outputs": [
    {
     "data": {
      "text/html": [
       "<div>\n",
       "<style scoped>\n",
       "    .dataframe tbody tr th:only-of-type {\n",
       "        vertical-align: middle;\n",
       "    }\n",
       "\n",
       "    .dataframe tbody tr th {\n",
       "        vertical-align: top;\n",
       "    }\n",
       "\n",
       "    .dataframe thead th {\n",
       "        text-align: right;\n",
       "    }\n",
       "</style>\n",
       "<table border=\"1\" class=\"dataframe\">\n",
       "  <thead>\n",
       "    <tr style=\"text-align: right;\">\n",
       "      <th></th>\n",
       "      <th>Passengers</th>\n",
       "      <th>log_Passengers</th>\n",
       "      <th>sqrt_Passengers</th>\n",
       "      <th>comb_Passengers</th>\n",
       "    </tr>\n",
       "    <tr>\n",
       "      <th>Date</th>\n",
       "      <th></th>\n",
       "      <th></th>\n",
       "      <th></th>\n",
       "      <th></th>\n",
       "    </tr>\n",
       "  </thead>\n",
       "  <tbody>\n",
       "    <tr>\n",
       "      <th>1995-01-01</th>\n",
       "      <td>112</td>\n",
       "      <td>4.718499</td>\n",
       "      <td>10.583005</td>\n",
       "      <td>2.172211</td>\n",
       "    </tr>\n",
       "    <tr>\n",
       "      <th>1995-02-01</th>\n",
       "      <td>118</td>\n",
       "      <td>4.770685</td>\n",
       "      <td>10.862780</td>\n",
       "      <td>2.184190</td>\n",
       "    </tr>\n",
       "    <tr>\n",
       "      <th>1995-03-01</th>\n",
       "      <td>132</td>\n",
       "      <td>4.882802</td>\n",
       "      <td>11.489125</td>\n",
       "      <td>2.209706</td>\n",
       "    </tr>\n",
       "    <tr>\n",
       "      <th>1995-04-01</th>\n",
       "      <td>129</td>\n",
       "      <td>4.859812</td>\n",
       "      <td>11.357817</td>\n",
       "      <td>2.204498</td>\n",
       "    </tr>\n",
       "    <tr>\n",
       "      <th>1995-05-01</th>\n",
       "      <td>121</td>\n",
       "      <td>4.795791</td>\n",
       "      <td>11.000000</td>\n",
       "      <td>2.189929</td>\n",
       "    </tr>\n",
       "  </tbody>\n",
       "</table>\n",
       "</div>"
      ],
      "text/plain": [
       "            Passengers  log_Passengers  sqrt_Passengers  comb_Passengers\n",
       "Date                                                                    \n",
       "1995-01-01         112        4.718499        10.583005         2.172211\n",
       "1995-02-01         118        4.770685        10.862780         2.184190\n",
       "1995-03-01         132        4.882802        11.489125         2.209706\n",
       "1995-04-01         129        4.859812        11.357817         2.204498\n",
       "1995-05-01         121        4.795791        11.000000         2.189929"
      ]
     },
     "execution_count": 74,
     "metadata": {},
     "output_type": "execute_result"
    }
   ],
   "source": [
    "from numpy import sqrt\n",
    "from numpy import log\n",
    "\n",
    "series['comb_Passengers'] = sqrt(log(series['Passengers']))\n",
    "series.head()"
   ]
  },
  {
   "cell_type": "code",
   "execution_count": 75,
   "id": "5f861aec",
   "metadata": {
    "ExecuteTime": {
     "end_time": "2023-01-24T14:17:04.104051Z",
     "start_time": "2023-01-24T14:17:04.078222Z"
    }
   },
   "outputs": [
    {
     "name": "stdout",
     "output_type": "stream",
     "text": [
      "ADF Test Statistic : -0.9550105347323845\n",
      "p-value : 0.7693176662249079\n",
      "#Lags Used : 12\n",
      "Number of Observations Used : 83\n",
      "weak evidence against null hypothesis, time series has a unit root, indicating it is non-stationary \n"
     ]
    }
   ],
   "source": [
    "adfuller_test(series['comb_Passengers'])"
   ]
  },
  {
   "cell_type": "markdown",
   "id": "3f2a5217",
   "metadata": {},
   "source": [
    "### Differencing"
   ]
  },
  {
   "cell_type": "code",
   "execution_count": 76,
   "id": "0840cf06",
   "metadata": {
    "ExecuteTime": {
     "end_time": "2023-01-24T14:28:12.807280Z",
     "start_time": "2023-01-24T14:28:12.790232Z"
    }
   },
   "outputs": [
    {
     "data": {
      "text/html": [
       "<div>\n",
       "<style scoped>\n",
       "    .dataframe tbody tr th:only-of-type {\n",
       "        vertical-align: middle;\n",
       "    }\n",
       "\n",
       "    .dataframe tbody tr th {\n",
       "        vertical-align: top;\n",
       "    }\n",
       "\n",
       "    .dataframe thead th {\n",
       "        text-align: right;\n",
       "    }\n",
       "</style>\n",
       "<table border=\"1\" class=\"dataframe\">\n",
       "  <thead>\n",
       "    <tr style=\"text-align: right;\">\n",
       "      <th></th>\n",
       "      <th>Passengers</th>\n",
       "      <th>log_Passengers</th>\n",
       "      <th>sqrt_Passengers</th>\n",
       "      <th>comb_Passengers</th>\n",
       "      <th>Seasonal_Difference</th>\n",
       "    </tr>\n",
       "    <tr>\n",
       "      <th>Date</th>\n",
       "      <th></th>\n",
       "      <th></th>\n",
       "      <th></th>\n",
       "      <th></th>\n",
       "      <th></th>\n",
       "    </tr>\n",
       "  </thead>\n",
       "  <tbody>\n",
       "    <tr>\n",
       "      <th>1995-01-01</th>\n",
       "      <td>112</td>\n",
       "      <td>4.718499</td>\n",
       "      <td>10.583005</td>\n",
       "      <td>2.172211</td>\n",
       "      <td>NaN</td>\n",
       "    </tr>\n",
       "    <tr>\n",
       "      <th>1995-02-01</th>\n",
       "      <td>118</td>\n",
       "      <td>4.770685</td>\n",
       "      <td>10.862780</td>\n",
       "      <td>2.184190</td>\n",
       "      <td>NaN</td>\n",
       "    </tr>\n",
       "    <tr>\n",
       "      <th>1995-03-01</th>\n",
       "      <td>132</td>\n",
       "      <td>4.882802</td>\n",
       "      <td>11.489125</td>\n",
       "      <td>2.209706</td>\n",
       "      <td>NaN</td>\n",
       "    </tr>\n",
       "    <tr>\n",
       "      <th>1995-04-01</th>\n",
       "      <td>129</td>\n",
       "      <td>4.859812</td>\n",
       "      <td>11.357817</td>\n",
       "      <td>2.204498</td>\n",
       "      <td>NaN</td>\n",
       "    </tr>\n",
       "    <tr>\n",
       "      <th>1995-05-01</th>\n",
       "      <td>121</td>\n",
       "      <td>4.795791</td>\n",
       "      <td>11.000000</td>\n",
       "      <td>2.189929</td>\n",
       "      <td>NaN</td>\n",
       "    </tr>\n",
       "    <tr>\n",
       "      <th>1995-06-01</th>\n",
       "      <td>135</td>\n",
       "      <td>4.905275</td>\n",
       "      <td>11.618950</td>\n",
       "      <td>2.214785</td>\n",
       "      <td>NaN</td>\n",
       "    </tr>\n",
       "    <tr>\n",
       "      <th>1995-07-01</th>\n",
       "      <td>148</td>\n",
       "      <td>4.997212</td>\n",
       "      <td>12.165525</td>\n",
       "      <td>2.235445</td>\n",
       "      <td>NaN</td>\n",
       "    </tr>\n",
       "    <tr>\n",
       "      <th>1995-08-01</th>\n",
       "      <td>148</td>\n",
       "      <td>4.997212</td>\n",
       "      <td>12.165525</td>\n",
       "      <td>2.235445</td>\n",
       "      <td>NaN</td>\n",
       "    </tr>\n",
       "    <tr>\n",
       "      <th>1995-09-01</th>\n",
       "      <td>136</td>\n",
       "      <td>4.912655</td>\n",
       "      <td>11.661904</td>\n",
       "      <td>2.216451</td>\n",
       "      <td>NaN</td>\n",
       "    </tr>\n",
       "    <tr>\n",
       "      <th>1995-10-01</th>\n",
       "      <td>119</td>\n",
       "      <td>4.779123</td>\n",
       "      <td>10.908712</td>\n",
       "      <td>2.186121</td>\n",
       "      <td>NaN</td>\n",
       "    </tr>\n",
       "    <tr>\n",
       "      <th>1995-11-01</th>\n",
       "      <td>104</td>\n",
       "      <td>4.644391</td>\n",
       "      <td>10.198039</td>\n",
       "      <td>2.155085</td>\n",
       "      <td>NaN</td>\n",
       "    </tr>\n",
       "    <tr>\n",
       "      <th>1995-12-01</th>\n",
       "      <td>118</td>\n",
       "      <td>4.770685</td>\n",
       "      <td>10.862780</td>\n",
       "      <td>2.184190</td>\n",
       "      <td>NaN</td>\n",
       "    </tr>\n",
       "    <tr>\n",
       "      <th>1996-01-01</th>\n",
       "      <td>115</td>\n",
       "      <td>4.744932</td>\n",
       "      <td>10.723805</td>\n",
       "      <td>2.178287</td>\n",
       "      <td>3.0</td>\n",
       "    </tr>\n",
       "    <tr>\n",
       "      <th>1996-02-01</th>\n",
       "      <td>126</td>\n",
       "      <td>4.836282</td>\n",
       "      <td>11.224972</td>\n",
       "      <td>2.199155</td>\n",
       "      <td>8.0</td>\n",
       "    </tr>\n",
       "  </tbody>\n",
       "</table>\n",
       "</div>"
      ],
      "text/plain": [
       "            Passengers  log_Passengers  sqrt_Passengers  comb_Passengers  \\\n",
       "Date                                                                       \n",
       "1995-01-01         112        4.718499        10.583005         2.172211   \n",
       "1995-02-01         118        4.770685        10.862780         2.184190   \n",
       "1995-03-01         132        4.882802        11.489125         2.209706   \n",
       "1995-04-01         129        4.859812        11.357817         2.204498   \n",
       "1995-05-01         121        4.795791        11.000000         2.189929   \n",
       "1995-06-01         135        4.905275        11.618950         2.214785   \n",
       "1995-07-01         148        4.997212        12.165525         2.235445   \n",
       "1995-08-01         148        4.997212        12.165525         2.235445   \n",
       "1995-09-01         136        4.912655        11.661904         2.216451   \n",
       "1995-10-01         119        4.779123        10.908712         2.186121   \n",
       "1995-11-01         104        4.644391        10.198039         2.155085   \n",
       "1995-12-01         118        4.770685        10.862780         2.184190   \n",
       "1996-01-01         115        4.744932        10.723805         2.178287   \n",
       "1996-02-01         126        4.836282        11.224972         2.199155   \n",
       "\n",
       "            Seasonal_Difference  \n",
       "Date                             \n",
       "1995-01-01                  NaN  \n",
       "1995-02-01                  NaN  \n",
       "1995-03-01                  NaN  \n",
       "1995-04-01                  NaN  \n",
       "1995-05-01                  NaN  \n",
       "1995-06-01                  NaN  \n",
       "1995-07-01                  NaN  \n",
       "1995-08-01                  NaN  \n",
       "1995-09-01                  NaN  \n",
       "1995-10-01                  NaN  \n",
       "1995-11-01                  NaN  \n",
       "1995-12-01                  NaN  \n",
       "1996-01-01                  3.0  \n",
       "1996-02-01                  8.0  "
      ]
     },
     "execution_count": 76,
     "metadata": {},
     "output_type": "execute_result"
    }
   ],
   "source": [
    "series['Seasonal_Difference']=series['Passengers']-series['Passengers'].shift(12)\n",
    "series.head(14)"
   ]
  },
  {
   "cell_type": "code",
   "execution_count": 77,
   "id": "ee5bf4cc",
   "metadata": {
    "ExecuteTime": {
     "end_time": "2023-01-24T14:28:22.350324Z",
     "start_time": "2023-01-24T14:28:22.329059Z"
    }
   },
   "outputs": [
    {
     "name": "stdout",
     "output_type": "stream",
     "text": [
      "ADF Test Statistic : -2.690004383862317\n",
      "p-value : 0.07578397625851747\n",
      "#Lags Used : 1\n",
      "Number of Observations Used : 82\n",
      "weak evidence against null hypothesis, time series has a unit root, indicating it is non-stationary \n"
     ]
    }
   ],
   "source": [
    "adfuller_test(series['Seasonal_Difference'].dropna())"
   ]
  },
  {
   "cell_type": "markdown",
   "id": "ff67a7db",
   "metadata": {},
   "source": [
    "### Combination of SQRT Transform with Differencing"
   ]
  },
  {
   "cell_type": "code",
   "execution_count": 78,
   "id": "50a4f7df",
   "metadata": {
    "ExecuteTime": {
     "end_time": "2023-01-24T14:28:46.078031Z",
     "start_time": "2023-01-24T14:28:46.052737Z"
    }
   },
   "outputs": [
    {
     "data": {
      "text/html": [
       "<div>\n",
       "<style scoped>\n",
       "    .dataframe tbody tr th:only-of-type {\n",
       "        vertical-align: middle;\n",
       "    }\n",
       "\n",
       "    .dataframe tbody tr th {\n",
       "        vertical-align: top;\n",
       "    }\n",
       "\n",
       "    .dataframe thead th {\n",
       "        text-align: right;\n",
       "    }\n",
       "</style>\n",
       "<table border=\"1\" class=\"dataframe\">\n",
       "  <thead>\n",
       "    <tr style=\"text-align: right;\">\n",
       "      <th></th>\n",
       "      <th>Passengers</th>\n",
       "      <th>log_Passengers</th>\n",
       "      <th>sqrt_Passengers</th>\n",
       "      <th>comb_Passengers</th>\n",
       "      <th>Seasonal_Difference</th>\n",
       "      <th>sqrt_Passengers_Difference</th>\n",
       "    </tr>\n",
       "    <tr>\n",
       "      <th>Date</th>\n",
       "      <th></th>\n",
       "      <th></th>\n",
       "      <th></th>\n",
       "      <th></th>\n",
       "      <th></th>\n",
       "      <th></th>\n",
       "    </tr>\n",
       "  </thead>\n",
       "  <tbody>\n",
       "    <tr>\n",
       "      <th>1995-01-01</th>\n",
       "      <td>112</td>\n",
       "      <td>4.718499</td>\n",
       "      <td>10.583005</td>\n",
       "      <td>2.172211</td>\n",
       "      <td>NaN</td>\n",
       "      <td>NaN</td>\n",
       "    </tr>\n",
       "    <tr>\n",
       "      <th>1995-02-01</th>\n",
       "      <td>118</td>\n",
       "      <td>4.770685</td>\n",
       "      <td>10.862780</td>\n",
       "      <td>2.184190</td>\n",
       "      <td>NaN</td>\n",
       "      <td>NaN</td>\n",
       "    </tr>\n",
       "    <tr>\n",
       "      <th>1995-03-01</th>\n",
       "      <td>132</td>\n",
       "      <td>4.882802</td>\n",
       "      <td>11.489125</td>\n",
       "      <td>2.209706</td>\n",
       "      <td>NaN</td>\n",
       "      <td>NaN</td>\n",
       "    </tr>\n",
       "    <tr>\n",
       "      <th>1995-04-01</th>\n",
       "      <td>129</td>\n",
       "      <td>4.859812</td>\n",
       "      <td>11.357817</td>\n",
       "      <td>2.204498</td>\n",
       "      <td>NaN</td>\n",
       "      <td>NaN</td>\n",
       "    </tr>\n",
       "    <tr>\n",
       "      <th>1995-05-01</th>\n",
       "      <td>121</td>\n",
       "      <td>4.795791</td>\n",
       "      <td>11.000000</td>\n",
       "      <td>2.189929</td>\n",
       "      <td>NaN</td>\n",
       "      <td>NaN</td>\n",
       "    </tr>\n",
       "    <tr>\n",
       "      <th>1995-06-01</th>\n",
       "      <td>135</td>\n",
       "      <td>4.905275</td>\n",
       "      <td>11.618950</td>\n",
       "      <td>2.214785</td>\n",
       "      <td>NaN</td>\n",
       "      <td>NaN</td>\n",
       "    </tr>\n",
       "    <tr>\n",
       "      <th>1995-07-01</th>\n",
       "      <td>148</td>\n",
       "      <td>4.997212</td>\n",
       "      <td>12.165525</td>\n",
       "      <td>2.235445</td>\n",
       "      <td>NaN</td>\n",
       "      <td>NaN</td>\n",
       "    </tr>\n",
       "    <tr>\n",
       "      <th>1995-08-01</th>\n",
       "      <td>148</td>\n",
       "      <td>4.997212</td>\n",
       "      <td>12.165525</td>\n",
       "      <td>2.235445</td>\n",
       "      <td>NaN</td>\n",
       "      <td>NaN</td>\n",
       "    </tr>\n",
       "    <tr>\n",
       "      <th>1995-09-01</th>\n",
       "      <td>136</td>\n",
       "      <td>4.912655</td>\n",
       "      <td>11.661904</td>\n",
       "      <td>2.216451</td>\n",
       "      <td>NaN</td>\n",
       "      <td>NaN</td>\n",
       "    </tr>\n",
       "    <tr>\n",
       "      <th>1995-10-01</th>\n",
       "      <td>119</td>\n",
       "      <td>4.779123</td>\n",
       "      <td>10.908712</td>\n",
       "      <td>2.186121</td>\n",
       "      <td>NaN</td>\n",
       "      <td>NaN</td>\n",
       "    </tr>\n",
       "    <tr>\n",
       "      <th>1995-11-01</th>\n",
       "      <td>104</td>\n",
       "      <td>4.644391</td>\n",
       "      <td>10.198039</td>\n",
       "      <td>2.155085</td>\n",
       "      <td>NaN</td>\n",
       "      <td>NaN</td>\n",
       "    </tr>\n",
       "    <tr>\n",
       "      <th>1995-12-01</th>\n",
       "      <td>118</td>\n",
       "      <td>4.770685</td>\n",
       "      <td>10.862780</td>\n",
       "      <td>2.184190</td>\n",
       "      <td>NaN</td>\n",
       "      <td>NaN</td>\n",
       "    </tr>\n",
       "    <tr>\n",
       "      <th>1996-01-01</th>\n",
       "      <td>115</td>\n",
       "      <td>4.744932</td>\n",
       "      <td>10.723805</td>\n",
       "      <td>2.178287</td>\n",
       "      <td>3.0</td>\n",
       "      <td>0.140800</td>\n",
       "    </tr>\n",
       "    <tr>\n",
       "      <th>1996-02-01</th>\n",
       "      <td>126</td>\n",
       "      <td>4.836282</td>\n",
       "      <td>11.224972</td>\n",
       "      <td>2.199155</td>\n",
       "      <td>8.0</td>\n",
       "      <td>0.362192</td>\n",
       "    </tr>\n",
       "  </tbody>\n",
       "</table>\n",
       "</div>"
      ],
      "text/plain": [
       "            Passengers  log_Passengers  sqrt_Passengers  comb_Passengers  \\\n",
       "Date                                                                       \n",
       "1995-01-01         112        4.718499        10.583005         2.172211   \n",
       "1995-02-01         118        4.770685        10.862780         2.184190   \n",
       "1995-03-01         132        4.882802        11.489125         2.209706   \n",
       "1995-04-01         129        4.859812        11.357817         2.204498   \n",
       "1995-05-01         121        4.795791        11.000000         2.189929   \n",
       "1995-06-01         135        4.905275        11.618950         2.214785   \n",
       "1995-07-01         148        4.997212        12.165525         2.235445   \n",
       "1995-08-01         148        4.997212        12.165525         2.235445   \n",
       "1995-09-01         136        4.912655        11.661904         2.216451   \n",
       "1995-10-01         119        4.779123        10.908712         2.186121   \n",
       "1995-11-01         104        4.644391        10.198039         2.155085   \n",
       "1995-12-01         118        4.770685        10.862780         2.184190   \n",
       "1996-01-01         115        4.744932        10.723805         2.178287   \n",
       "1996-02-01         126        4.836282        11.224972         2.199155   \n",
       "\n",
       "            Seasonal_Difference  sqrt_Passengers_Difference  \n",
       "Date                                                         \n",
       "1995-01-01                  NaN                         NaN  \n",
       "1995-02-01                  NaN                         NaN  \n",
       "1995-03-01                  NaN                         NaN  \n",
       "1995-04-01                  NaN                         NaN  \n",
       "1995-05-01                  NaN                         NaN  \n",
       "1995-06-01                  NaN                         NaN  \n",
       "1995-07-01                  NaN                         NaN  \n",
       "1995-08-01                  NaN                         NaN  \n",
       "1995-09-01                  NaN                         NaN  \n",
       "1995-10-01                  NaN                         NaN  \n",
       "1995-11-01                  NaN                         NaN  \n",
       "1995-12-01                  NaN                         NaN  \n",
       "1996-01-01                  3.0                    0.140800  \n",
       "1996-02-01                  8.0                    0.362192  "
      ]
     },
     "execution_count": 78,
     "metadata": {},
     "output_type": "execute_result"
    }
   ],
   "source": [
    "series['sqrt_Passengers_Difference']=series['sqrt_Passengers']-series['sqrt_Passengers'].shift(12)\n",
    "series.head(14)"
   ]
  },
  {
   "cell_type": "code",
   "execution_count": 79,
   "id": "49755e3b",
   "metadata": {
    "ExecuteTime": {
     "end_time": "2023-01-24T14:28:56.179227Z",
     "start_time": "2023-01-24T14:28:56.154613Z"
    }
   },
   "outputs": [
    {
     "name": "stdout",
     "output_type": "stream",
     "text": [
      "ADF Test Statistic : -2.9183278734455844\n",
      "p-value : 0.04325785016386703\n",
      "#Lags Used : 1\n",
      "Number of Observations Used : 82\n",
      "strong evidence against the null hypothesis(Ho), reject the null hypothesis. Data has no unit root and is stationary\n"
     ]
    }
   ],
   "source": [
    "adfuller_test(series['sqrt_Passengers_Difference'].dropna())"
   ]
  },
  {
   "cell_type": "code",
   "execution_count": 80,
   "id": "6e817d65",
   "metadata": {
    "ExecuteTime": {
     "end_time": "2023-01-24T14:29:06.153970Z",
     "start_time": "2023-01-24T14:29:05.646907Z"
    }
   },
   "outputs": [
    {
     "data": {
      "image/png": "[encoded data removed]",
      "text/plain": [
       "<Figure size 640x480 with 1 Axes>"
      ]
     },
     "metadata": {},
     "output_type": "display_data"
    }
   ],
   "source": [
    "plt.plot(series['sqrt_Passengers_Difference'])\n",
    "plt.show()"
   ]
  },
  {
   "cell_type": "markdown",
   "id": "078133af",
   "metadata": {},
   "source": [
    "### Splitting Data"
   ]
  },
  {
   "cell_type": "code",
   "execution_count": 81,
   "id": "ea1f41ec",
   "metadata": {
    "ExecuteTime": {
     "end_time": "2023-01-24T14:29:38.122603Z",
     "start_time": "2023-01-24T14:29:38.097442Z"
    }
   },
   "outputs": [
    {
     "name": "stdout",
     "output_type": "stream",
     "text": [
      "dataset 84, validation 12\n"
     ]
    }
   ],
   "source": [
    "series1 = read_csv(\"data3.csv\", index_col=0)\n",
    "split_point = len(series1)-12\n",
    "dataset, validation = series1[0:split_point], series1[split_point:]\n",
    "print(\"dataset %d, validation %d\" % (len(dataset), len(validation)))"
   ]
  },
  {
   "cell_type": "code",
   "execution_count": 82,
   "id": "e47906e3",
   "metadata": {
    "ExecuteTime": {
     "end_time": "2023-01-24T14:29:45.954971Z",
     "start_time": "2023-01-24T14:29:45.929417Z"
    }
   },
   "outputs": [],
   "source": [
    "dataset.to_csv(\"dataset.csv\", header=False)\n",
    "validation.to_csv(\"validation.csv\", header=False)"
   ]
  },
  {
   "cell_type": "markdown",
   "id": "5a0e65e3",
   "metadata": {},
   "source": [
    "### Persistence BAse model"
   ]
  },
  {
   "cell_type": "code",
   "execution_count": 84,
   "id": "0ddd443a",
   "metadata": {
    "ExecuteTime": {
     "end_time": "2023-01-24T14:30:21.967177Z",
     "start_time": "2023-01-24T14:30:21.949844Z"
    }
   },
   "outputs": [],
   "source": [
    "train = read_csv(\"dataset.csv\", header=None, index_col=0, parse_dates=True, squeeze=True)\n",
    "X = train.values\n",
    "X = X.astype(\"float32\")\n",
    "train_size = int(len(X) * 0.50)\n",
    "train, test = X[0:train_size], X[train_size:]"
   ]
  },
  {
   "cell_type": "code",
   "execution_count": 85,
   "id": "d4514dc1",
   "metadata": {
    "ExecuteTime": {
     "end_time": "2023-01-24T14:30:31.030738Z",
     "start_time": "2023-01-24T14:30:31.017382Z"
    }
   },
   "outputs": [
    {
     "name": "stdout",
     "output_type": "stream",
     "text": [
      ">Predicted=218.000, Expected=230.000\n",
      ">Predicted=230.000, Expected=242.000\n",
      ">Predicted=242.000, Expected=209.000\n",
      ">Predicted=209.000, Expected=191.000\n",
      ">Predicted=191.000, Expected=172.000\n",
      ">Predicted=172.000, Expected=194.000\n",
      ">Predicted=194.000, Expected=196.000\n",
      ">Predicted=196.000, Expected=196.000\n",
      ">Predicted=196.000, Expected=236.000\n",
      ">Predicted=236.000, Expected=235.000\n",
      ">Predicted=235.000, Expected=229.000\n",
      ">Predicted=229.000, Expected=243.000\n",
      ">Predicted=243.000, Expected=264.000\n",
      ">Predicted=264.000, Expected=272.000\n",
      ">Predicted=272.000, Expected=237.000\n",
      ">Predicted=237.000, Expected=211.000\n",
      ">Predicted=211.000, Expected=180.000\n",
      ">Predicted=180.000, Expected=201.000\n",
      ">Predicted=201.000, Expected=204.000\n",
      ">Predicted=204.000, Expected=188.000\n",
      ">Predicted=188.000, Expected=235.000\n",
      ">Predicted=235.000, Expected=227.000\n",
      ">Predicted=227.000, Expected=234.000\n",
      ">Predicted=234.000, Expected=264.000\n",
      ">Predicted=264.000, Expected=302.000\n",
      ">Predicted=302.000, Expected=293.000\n",
      ">Predicted=293.000, Expected=259.000\n",
      ">Predicted=259.000, Expected=229.000\n",
      ">Predicted=229.000, Expected=203.000\n",
      ">Predicted=203.000, Expected=229.000\n",
      ">Predicted=229.000, Expected=242.000\n",
      ">Predicted=242.000, Expected=233.000\n",
      ">Predicted=233.000, Expected=267.000\n",
      ">Predicted=267.000, Expected=269.000\n",
      ">Predicted=269.000, Expected=270.000\n",
      ">Predicted=270.000, Expected=315.000\n",
      ">Predicted=315.000, Expected=364.000\n",
      ">Predicted=364.000, Expected=347.000\n",
      ">Predicted=347.000, Expected=312.000\n",
      ">Predicted=312.000, Expected=274.000\n",
      ">Predicted=274.000, Expected=237.000\n",
      ">Predicted=237.000, Expected=278.000\n",
      "RMSE: 26.029\n"
     ]
    }
   ],
   "source": [
    "history = [X for X in train]\n",
    "predictions = list()\n",
    "\n",
    "for i in range (len(test)):\n",
    "    yhat = history[-1]\n",
    "    predictions.append(yhat)\n",
    "    \n",
    "    obs = test[i]\n",
    "    history.append(obs) \n",
    "    print(\">Predicted=%.3f, Expected=%.3f\" % (yhat, obs))\n",
    "        \n",
    "rmse = sqrt(mean_squared_error(test, predictions))\n",
    "print(\"RMSE: %.3f\" % rmse)"
   ]
  },
  {
   "cell_type": "markdown",
   "id": "618a7668",
   "metadata": {},
   "source": [
    "### ARIMA Hyparameters"
   ]
  },
  {
   "cell_type": "code",
   "execution_count": 86,
   "id": "b7315da0",
   "metadata": {
    "ExecuteTime": {
     "end_time": "2023-01-24T14:31:13.553129Z",
     "start_time": "2023-01-24T14:31:13.538692Z"
    }
   },
   "outputs": [],
   "source": [
    "def evaluate_arima_model(X, arima_order):\n",
    "    X = X.astype(\"float32\")\n",
    "    train_size = int(len(X) * 0.50)\n",
    "    train, test = X[0:train_size], X[train_size:]\n",
    "    \n",
    "    history = [X for X in train]\n",
    "    predictions = list()\n",
    "    \n",
    "    for t in range(len(test)):\n",
    "        model = ARIMA(history, order=arima_order)\n",
    "        model_fit = model.fit(disp=0)\n",
    "        yhat = model_fit.forecast()[0]\n",
    "        predictions.append(yhat)\n",
    "        history.append(test[t])\n",
    "    rmse = sqrt(mean_squared_error(test, predictions))\n",
    "    return rmse"
   ]
  },
  {
   "cell_type": "markdown",
   "id": "99fb9a82",
   "metadata": {},
   "source": [
    "### Grid Search for p,d,q values"
   ]
  },
  {
   "cell_type": "code",
   "execution_count": 87,
   "id": "cdeaa497",
   "metadata": {
    "ExecuteTime": {
     "end_time": "2023-01-24T14:31:47.439089Z",
     "start_time": "2023-01-24T14:31:47.425627Z"
    }
   },
   "outputs": [],
   "source": [
    "def evaluate_models(dataset, p_values, d_values, q_values):\n",
    "    dataset = dataset.astype(\"float32\")\n",
    "    best_score, best_cfg = float(\"inf\"), None\n",
    "    for p in p_values:\n",
    "        for d in d_values:\n",
    "            for q in q_values:\n",
    "                order = (p, d, q)\n",
    "                try:\n",
    "                    rmse = evaluate_arima_model(train, order)\n",
    "                    if rmse < best_score:\n",
    "                        best_score, best_cfg = rmse, order\n",
    "                    print(\"ARIMA%S RMSE=%.3f\" % (order, rmse))\n",
    "                except:\n",
    "                    continue\n",
    "    print(\"Best ARIMA%s RMSE=%.3f\" % (best_cfg, best_score))"
   ]
  },
  {
   "cell_type": "code",
   "execution_count": 88,
   "id": "c7bedc0c",
   "metadata": {
    "ExecuteTime": {
     "end_time": "2023-01-24T14:32:00.175533Z",
     "start_time": "2023-01-24T14:32:00.118294Z"
    }
   },
   "outputs": [
    {
     "name": "stdout",
     "output_type": "stream",
     "text": [
      "Best ARIMANone RMSE=inf\n"
     ]
    }
   ],
   "source": [
    "train = read_csv('dataset.csv', header=None, index_col=0, parse_dates=True, squeeze=True)\n",
    "p_values = range(0, 5)\n",
    "d_values = range(0, 5)\n",
    "q_values = range(0, 5)\n",
    "evaluate_models(train.values, p_values, d_values, q_values)"
   ]
  },
  {
   "cell_type": "markdown",
   "id": "ad94333e",
   "metadata": {},
   "source": [
    "### Build Model based on the optimized values "
   ]
  },
  {
   "cell_type": "code",
   "execution_count": 101,
   "id": "2e968b62",
   "metadata": {
    "ExecuteTime": {
     "end_time": "2023-01-24T14:41:26.708869Z",
     "start_time": "2023-01-24T14:41:26.687314Z"
    }
   },
   "outputs": [],
   "source": [
    "train = read_csv('dataset.csv', header=None, index_col=0, parse_dates=True, squeeze=True)\n",
    "df = train.values\n",
    "df = df.astype(\"float32\")\n",
    "test = read_csv('validation.csv', header=None, index_col=0, parse_dates=True, squeeze=True)"
   ]
  },
  {
   "cell_type": "code",
   "execution_count": 105,
   "id": "cfe0e214",
   "metadata": {
    "ExecuteTime": {
     "end_time": "2023-01-24T14:43:03.202878Z",
     "start_time": "2023-01-24T14:43:03.091086Z"
    }
   },
   "outputs": [
    {
     "data": {
      "text/plain": [
       "295.33620844517617"
      ]
     },
     "execution_count": 105,
     "metadata": {},
     "output_type": "execute_result"
    }
   ],
   "source": [
    "from statsmodels.tsa.arima.model import ARIMA\n",
    "model_arima = ARIMA(df, order=(0, 1, 4)).fit()\n",
    "forecast = model_arima.forecast(steps=12)[0]\n",
    "forecast"
   ]
  },
  {
   "cell_type": "code",
   "execution_count": 106,
   "id": "2baae491",
   "metadata": {
    "ExecuteTime": {
     "end_time": "2023-01-24T14:43:06.258540Z",
     "start_time": "2023-01-24T14:43:06.250103Z"
    }
   },
   "outputs": [
    {
     "data": {
      "text/plain": [
       "18.33620844517617"
      ]
     },
     "execution_count": 106,
     "metadata": {},
     "output_type": "execute_result"
    }
   ],
   "source": [
    "rmse_arima = RMSE(forecast, test[1])\n",
    "rmse_arima"
   ]
  },
  {
   "cell_type": "code",
   "execution_count": 107,
   "id": "12d08f7b",
   "metadata": {
    "ExecuteTime": {
     "end_time": "2023-01-24T14:43:13.922974Z",
     "start_time": "2023-01-24T14:43:13.902969Z"
    }
   },
   "outputs": [
    {
     "data": {
      "text/plain": [
       "6.619569835803671"
      ]
     },
     "execution_count": 107,
     "metadata": {},
     "output_type": "execute_result"
    }
   ],
   "source": [
    "mape_arima = MAPE(forecast, test[1])\n",
    "mape_arima"
   ]
  },
  {
   "cell_type": "markdown",
   "id": "23eb8bae",
   "metadata": {},
   "source": [
    "### Conclusion"
   ]
  },
  {
   "cell_type": "code",
   "execution_count": 108,
   "id": "08faf6f3",
   "metadata": {
    "ExecuteTime": {
     "end_time": "2023-01-24T14:44:12.308502Z",
     "start_time": "2023-01-24T14:44:12.292006Z"
    }
   },
   "outputs": [],
   "source": [
    "output = pd.DataFrame({\"Models\": pd.Series([\"model_linear\", \"model_expo\", \"model_quad\", \"model_add_seas\", \"model_add_seas_quad\", \"model_mul_seas\", \"model_mul_add_seas\", \"model_simple_expo\", \"model_holt\", \"model_holt_expo\", \"model_arima\"]),\n",
    "                      \"RMSE_values\": pd.Series([rmse_linear, rmse_expo, rmse_quad, rmse_add_seas, rmse_add_seas_quad, rmse_mul_seas, rmse_mul_add_seas, rmse_simple_expo, rmse_holt, rmse_holt_expo, rmse_arima]),\n",
    "                      \"MAPE_values\": pd.Series([mape_linear, mape_expo, mape_quad, mape_add_seas, mape_add_seas_quad, mape_mul_seas, mape_mul_add_seas, mape_simple_expo, mape_holt, mape_holt_expo, mape_arima])})"
   ]
  },
  {
   "cell_type": "code",
   "execution_count": 109,
   "id": "e2e26286",
   "metadata": {
    "ExecuteTime": {
     "end_time": "2023-01-24T14:44:22.036820Z",
     "start_time": "2023-01-24T14:44:22.012423Z"
    }
   },
   "outputs": [
    {
     "data": {
      "text/html": [
       "<div>\n",
       "<style scoped>\n",
       "    .dataframe tbody tr th:only-of-type {\n",
       "        vertical-align: middle;\n",
       "    }\n",
       "\n",
       "    .dataframe tbody tr th {\n",
       "        vertical-align: top;\n",
       "    }\n",
       "\n",
       "    .dataframe thead th {\n",
       "        text-align: right;\n",
       "    }\n",
       "</style>\n",
       "<table border=\"1\" class=\"dataframe\">\n",
       "  <thead>\n",
       "    <tr style=\"text-align: right;\">\n",
       "      <th></th>\n",
       "      <th>Models</th>\n",
       "      <th>RMSE_values</th>\n",
       "      <th>MAPE_values</th>\n",
       "    </tr>\n",
       "  </thead>\n",
       "  <tbody>\n",
       "    <tr>\n",
       "      <th>6</th>\n",
       "      <td>model_mul_add_seas</td>\n",
       "      <td>10.519173</td>\n",
       "      <td>2.375241</td>\n",
       "    </tr>\n",
       "    <tr>\n",
       "      <th>9</th>\n",
       "      <td>model_holt_expo</td>\n",
       "      <td>12.920910</td>\n",
       "      <td>2.821091</td>\n",
       "    </tr>\n",
       "    <tr>\n",
       "      <th>10</th>\n",
       "      <td>model_arima</td>\n",
       "      <td>18.336208</td>\n",
       "      <td>6.619570</td>\n",
       "    </tr>\n",
       "    <tr>\n",
       "      <th>4</th>\n",
       "      <td>model_add_seas_quad</td>\n",
       "      <td>26.360818</td>\n",
       "      <td>5.107645</td>\n",
       "    </tr>\n",
       "    <tr>\n",
       "      <th>1</th>\n",
       "      <td>model_expo</td>\n",
       "      <td>46.057361</td>\n",
       "      <td>10.665739</td>\n",
       "    </tr>\n",
       "    <tr>\n",
       "      <th>2</th>\n",
       "      <td>model_quad</td>\n",
       "      <td>48.051889</td>\n",
       "      <td>10.685103</td>\n",
       "    </tr>\n",
       "    <tr>\n",
       "      <th>0</th>\n",
       "      <td>model_linear</td>\n",
       "      <td>53.199237</td>\n",
       "      <td>10.787459</td>\n",
       "    </tr>\n",
       "    <tr>\n",
       "      <th>7</th>\n",
       "      <td>model_simple_expo</td>\n",
       "      <td>64.844764</td>\n",
       "      <td>13.411275</td>\n",
       "    </tr>\n",
       "    <tr>\n",
       "      <th>8</th>\n",
       "      <td>model_holt</td>\n",
       "      <td>73.890101</td>\n",
       "      <td>15.923224</td>\n",
       "    </tr>\n",
       "    <tr>\n",
       "      <th>3</th>\n",
       "      <td>model_add_seas</td>\n",
       "      <td>132.819785</td>\n",
       "      <td>39.728617</td>\n",
       "    </tr>\n",
       "    <tr>\n",
       "      <th>5</th>\n",
       "      <td>model_mul_seas</td>\n",
       "      <td>140.063202</td>\n",
       "      <td>41.875241</td>\n",
       "    </tr>\n",
       "  </tbody>\n",
       "</table>\n",
       "</div>"
      ],
      "text/plain": [
       "                 Models  RMSE_values  MAPE_values\n",
       "6    model_mul_add_seas    10.519173     2.375241\n",
       "9       model_holt_expo    12.920910     2.821091\n",
       "10          model_arima    18.336208     6.619570\n",
       "4   model_add_seas_quad    26.360818     5.107645\n",
       "1            model_expo    46.057361    10.665739\n",
       "2            model_quad    48.051889    10.685103\n",
       "0          model_linear    53.199237    10.787459\n",
       "7     model_simple_expo    64.844764    13.411275\n",
       "8            model_holt    73.890101    15.923224\n",
       "3        model_add_seas   132.819785    39.728617\n",
       "5        model_mul_seas   140.063202    41.875241"
      ]
     },
     "execution_count": 109,
     "metadata": {},
     "output_type": "execute_result"
    }
   ],
   "source": [
    "output.sort_values([\"RMSE_values\"])"
   ]
  },
  {
   "cell_type": "markdown",
   "id": "98914430",
   "metadata": {},
   "source": [
    "### Observation:\n",
    "Model no 6 - 'model_mul_add_seas' built with 'Multiplicative Additive Seasonality' method gives the best RMSE and MAPE values, hence this is the best model for Forecasting of Airlines Passengers data set."
   ]
  }
 ],
 "metadata": {
  "kernelspec": {
   "display_name": "Python 3 (ipykernel)",
   "language": "python",
   "name": "python3"
  },
  "language_info": {
   "codemirror_mode": {
    "name": "ipython",
    "version": 3
   },
   "file_extension": ".py",
   "mimetype": "text/x-python",
   "name": "python",
   "nbconvert_exporter": "python",
   "pygments_lexer": "ipython3",
   "version": "3.9.16"
  }
 },
 "nbformat": 4,
 "nbformat_minor": 5
}
