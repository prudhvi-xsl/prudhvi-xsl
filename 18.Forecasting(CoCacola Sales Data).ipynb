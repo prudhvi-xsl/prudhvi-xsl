{
 "cells": [
  {
   "cell_type": "code",
   "execution_count": 1,
   "id": "9664553d",
   "metadata": {
    "ExecuteTime": {
     "end_time": "2023-01-24T15:49:25.611618Z",
     "start_time": "2023-01-24T15:49:22.086144Z"
    }
   },
   "outputs": [],
   "source": [
    "import numpy as np\n",
    "import pandas as pd\n",
    "import seaborn as sns\n",
    "import matplotlib.pyplot as plt\n",
    "import statsmodels.graphics.tsaplots as tsa_plots\n",
    "\n",
    "from pandas import Grouper\n",
    "from statsmodels.tsa.seasonal import seasonal_decompose\n",
    "import statsmodels.formula.api as smf\n",
    "\n",
    "import warnings\n",
    "warnings.filterwarnings('ignore')"
   ]
  },
  {
   "cell_type": "code",
   "execution_count": 2,
   "id": "ca271d85",
   "metadata": {
    "ExecuteTime": {
     "end_time": "2023-01-24T15:51:38.760176Z",
     "start_time": "2023-01-24T15:51:38.712086Z"
    }
   },
   "outputs": [
    {
     "data": {
      "text/html": [
       "<div>\n",
       "<style scoped>\n",
       "    .dataframe tbody tr th:only-of-type {\n",
       "        vertical-align: middle;\n",
       "    }\n",
       "\n",
       "    .dataframe tbody tr th {\n",
       "        vertical-align: top;\n",
       "    }\n",
       "\n",
       "    .dataframe thead th {\n",
       "        text-align: right;\n",
       "    }\n",
       "</style>\n",
       "<table border=\"1\" class=\"dataframe\">\n",
       "  <thead>\n",
       "    <tr style=\"text-align: right;\">\n",
       "      <th></th>\n",
       "      <th>Quarter</th>\n",
       "      <th>Sales</th>\n",
       "    </tr>\n",
       "  </thead>\n",
       "  <tbody>\n",
       "    <tr>\n",
       "      <th>0</th>\n",
       "      <td>Q1_86</td>\n",
       "      <td>1734.827000</td>\n",
       "    </tr>\n",
       "    <tr>\n",
       "      <th>1</th>\n",
       "      <td>Q2_86</td>\n",
       "      <td>2244.960999</td>\n",
       "    </tr>\n",
       "    <tr>\n",
       "      <th>2</th>\n",
       "      <td>Q3_86</td>\n",
       "      <td>2533.804993</td>\n",
       "    </tr>\n",
       "    <tr>\n",
       "      <th>3</th>\n",
       "      <td>Q4_86</td>\n",
       "      <td>2154.962997</td>\n",
       "    </tr>\n",
       "    <tr>\n",
       "      <th>4</th>\n",
       "      <td>Q1_87</td>\n",
       "      <td>1547.818996</td>\n",
       "    </tr>\n",
       "  </tbody>\n",
       "</table>\n",
       "</div>"
      ],
      "text/plain": [
       "  Quarter        Sales\n",
       "0   Q1_86  1734.827000\n",
       "1   Q2_86  2244.960999\n",
       "2   Q3_86  2533.804993\n",
       "3   Q4_86  2154.962997\n",
       "4   Q1_87  1547.818996"
      ]
     },
     "execution_count": 2,
     "metadata": {},
     "output_type": "execute_result"
    }
   ],
   "source": [
    "data = pd.read_csv(\"Downloads/CocaCola_Sales_Rawdata.csv\")\n",
    "data.head()"
   ]
  },
  {
   "cell_type": "code",
   "execution_count": 3,
   "id": "d3ca3dab",
   "metadata": {
    "ExecuteTime": {
     "end_time": "2023-01-24T15:51:58.452778Z",
     "start_time": "2023-01-24T15:51:58.412522Z"
    }
   },
   "outputs": [
    {
     "data": {
      "text/html": [
       "<div>\n",
       "<style scoped>\n",
       "    .dataframe tbody tr th:only-of-type {\n",
       "        vertical-align: middle;\n",
       "    }\n",
       "\n",
       "    .dataframe tbody tr th {\n",
       "        vertical-align: top;\n",
       "    }\n",
       "\n",
       "    .dataframe thead th {\n",
       "        text-align: right;\n",
       "    }\n",
       "</style>\n",
       "<table border=\"1\" class=\"dataframe\">\n",
       "  <thead>\n",
       "    <tr style=\"text-align: right;\">\n",
       "      <th></th>\n",
       "      <th>Quarter</th>\n",
       "      <th>Sales</th>\n",
       "      <th>quater</th>\n",
       "    </tr>\n",
       "  </thead>\n",
       "  <tbody>\n",
       "    <tr>\n",
       "      <th>0</th>\n",
       "      <td>Q1_86</td>\n",
       "      <td>1734.827000</td>\n",
       "      <td>Jan-1986</td>\n",
       "    </tr>\n",
       "    <tr>\n",
       "      <th>1</th>\n",
       "      <td>Q2_86</td>\n",
       "      <td>2244.960999</td>\n",
       "      <td>Apr-1986</td>\n",
       "    </tr>\n",
       "    <tr>\n",
       "      <th>2</th>\n",
       "      <td>Q3_86</td>\n",
       "      <td>2533.804993</td>\n",
       "      <td>Jul-1986</td>\n",
       "    </tr>\n",
       "    <tr>\n",
       "      <th>3</th>\n",
       "      <td>Q4_86</td>\n",
       "      <td>2154.962997</td>\n",
       "      <td>Oct-1986</td>\n",
       "    </tr>\n",
       "    <tr>\n",
       "      <th>4</th>\n",
       "      <td>Q1_87</td>\n",
       "      <td>1547.818996</td>\n",
       "      <td>Jan-1987</td>\n",
       "    </tr>\n",
       "  </tbody>\n",
       "</table>\n",
       "</div>"
      ],
      "text/plain": [
       "  Quarter        Sales    quater\n",
       "0   Q1_86  1734.827000  Jan-1986\n",
       "1   Q2_86  2244.960999  Apr-1986\n",
       "2   Q3_86  2533.804993  Jul-1986\n",
       "3   Q4_86  2154.962997  Oct-1986\n",
       "4   Q1_87  1547.818996  Jan-1987"
      ]
     },
     "execution_count": 3,
     "metadata": {},
     "output_type": "execute_result"
    }
   ],
   "source": [
    "temp = data.Quarter.str.replace(r'(Q\\d)_(\\d+)', r'19\\2-\\1')\n",
    "data['quater'] = pd.to_datetime(temp).dt.strftime('%b-%Y')\n",
    "data.head()"
   ]
  },
  {
   "cell_type": "code",
   "execution_count": 4,
   "id": "f8b744ea",
   "metadata": {
    "ExecuteTime": {
     "end_time": "2023-01-24T15:52:10.061183Z",
     "start_time": "2023-01-24T15:52:10.032895Z"
    }
   },
   "outputs": [
    {
     "data": {
      "text/html": [
       "<div>\n",
       "<style scoped>\n",
       "    .dataframe tbody tr th:only-of-type {\n",
       "        vertical-align: middle;\n",
       "    }\n",
       "\n",
       "    .dataframe tbody tr th {\n",
       "        vertical-align: top;\n",
       "    }\n",
       "\n",
       "    .dataframe thead th {\n",
       "        text-align: right;\n",
       "    }\n",
       "</style>\n",
       "<table border=\"1\" class=\"dataframe\">\n",
       "  <thead>\n",
       "    <tr style=\"text-align: right;\">\n",
       "      <th></th>\n",
       "      <th>quater</th>\n",
       "      <th>Sales</th>\n",
       "    </tr>\n",
       "  </thead>\n",
       "  <tbody>\n",
       "    <tr>\n",
       "      <th>0</th>\n",
       "      <td>Jan-1986</td>\n",
       "      <td>1734.827000</td>\n",
       "    </tr>\n",
       "    <tr>\n",
       "      <th>1</th>\n",
       "      <td>Apr-1986</td>\n",
       "      <td>2244.960999</td>\n",
       "    </tr>\n",
       "    <tr>\n",
       "      <th>2</th>\n",
       "      <td>Jul-1986</td>\n",
       "      <td>2533.804993</td>\n",
       "    </tr>\n",
       "    <tr>\n",
       "      <th>3</th>\n",
       "      <td>Oct-1986</td>\n",
       "      <td>2154.962997</td>\n",
       "    </tr>\n",
       "    <tr>\n",
       "      <th>4</th>\n",
       "      <td>Jan-1987</td>\n",
       "      <td>1547.818996</td>\n",
       "    </tr>\n",
       "  </tbody>\n",
       "</table>\n",
       "</div>"
      ],
      "text/plain": [
       "     quater        Sales\n",
       "0  Jan-1986  1734.827000\n",
       "1  Apr-1986  2244.960999\n",
       "2  Jul-1986  2533.804993\n",
       "3  Oct-1986  2154.962997\n",
       "4  Jan-1987  1547.818996"
      ]
     },
     "execution_count": 4,
     "metadata": {},
     "output_type": "execute_result"
    }
   ],
   "source": [
    "data1 = data[[\"quater\", \"Sales\"]]\n",
    "data1.head()"
   ]
  },
  {
   "cell_type": "markdown",
   "id": "d7b1c2f5",
   "metadata": {},
   "source": [
    "### EDA"
   ]
  },
  {
   "cell_type": "code",
   "execution_count": 5,
   "id": "1aac368c",
   "metadata": {
    "ExecuteTime": {
     "end_time": "2023-01-24T15:52:41.900207Z",
     "start_time": "2023-01-24T15:52:41.868436Z"
    }
   },
   "outputs": [
    {
     "name": "stdout",
     "output_type": "stream",
     "text": [
      "<class 'pandas.core.frame.DataFrame'>\n",
      "RangeIndex: 42 entries, 0 to 41\n",
      "Data columns (total 2 columns):\n",
      " #   Column  Non-Null Count  Dtype  \n",
      "---  ------  --------------  -----  \n",
      " 0   quater  42 non-null     object \n",
      " 1   Sales   42 non-null     float64\n",
      "dtypes: float64(1), object(1)\n",
      "memory usage: 800.0+ bytes\n"
     ]
    }
   ],
   "source": [
    "data1.info()"
   ]
  },
  {
   "cell_type": "code",
   "execution_count": 6,
   "id": "65b5a6a1",
   "metadata": {
    "ExecuteTime": {
     "end_time": "2023-01-24T15:52:52.939869Z",
     "start_time": "2023-01-24T15:52:52.923777Z"
    }
   },
   "outputs": [
    {
     "data": {
      "text/plain": [
       "quater    0\n",
       "Sales     0\n",
       "dtype: int64"
      ]
     },
     "execution_count": 6,
     "metadata": {},
     "output_type": "execute_result"
    }
   ],
   "source": [
    "data1.isna().sum()"
   ]
  },
  {
   "cell_type": "code",
   "execution_count": 7,
   "id": "f1aa8bbc",
   "metadata": {
    "ExecuteTime": {
     "end_time": "2023-01-24T15:53:04.032192Z",
     "start_time": "2023-01-24T15:53:04.008028Z"
    }
   },
   "outputs": [
    {
     "data": {
      "text/plain": [
       "(0, 2)"
      ]
     },
     "execution_count": 7,
     "metadata": {},
     "output_type": "execute_result"
    }
   ],
   "source": [
    "data1[data1.duplicated()].shape"
   ]
  },
  {
   "cell_type": "code",
   "execution_count": 8,
   "id": "5186fbe8",
   "metadata": {
    "ExecuteTime": {
     "end_time": "2023-01-24T15:53:16.512486Z",
     "start_time": "2023-01-24T15:53:16.472382Z"
    }
   },
   "outputs": [
    {
     "data": {
      "text/html": [
       "<div>\n",
       "<style scoped>\n",
       "    .dataframe tbody tr th:only-of-type {\n",
       "        vertical-align: middle;\n",
       "    }\n",
       "\n",
       "    .dataframe tbody tr th {\n",
       "        vertical-align: top;\n",
       "    }\n",
       "\n",
       "    .dataframe thead th {\n",
       "        text-align: right;\n",
       "    }\n",
       "</style>\n",
       "<table border=\"1\" class=\"dataframe\">\n",
       "  <thead>\n",
       "    <tr style=\"text-align: right;\">\n",
       "      <th></th>\n",
       "      <th>count</th>\n",
       "      <th>mean</th>\n",
       "      <th>std</th>\n",
       "      <th>min</th>\n",
       "      <th>25%</th>\n",
       "      <th>50%</th>\n",
       "      <th>75%</th>\n",
       "      <th>max</th>\n",
       "    </tr>\n",
       "  </thead>\n",
       "  <tbody>\n",
       "    <tr>\n",
       "      <th>Sales</th>\n",
       "      <td>42.0</td>\n",
       "      <td>2994.353308</td>\n",
       "      <td>977.930896</td>\n",
       "      <td>1547.818996</td>\n",
       "      <td>2159.714247</td>\n",
       "      <td>2782.376999</td>\n",
       "      <td>3609.25</td>\n",
       "      <td>5253.0</td>\n",
       "    </tr>\n",
       "  </tbody>\n",
       "</table>\n",
       "</div>"
      ],
      "text/plain": [
       "       count         mean         std          min          25%          50%  \\\n",
       "Sales   42.0  2994.353308  977.930896  1547.818996  2159.714247  2782.376999   \n",
       "\n",
       "           75%     max  \n",
       "Sales  3609.25  5253.0  "
      ]
     },
     "execution_count": 8,
     "metadata": {},
     "output_type": "execute_result"
    }
   ],
   "source": [
    "data1.describe().T"
   ]
  },
  {
   "cell_type": "code",
   "execution_count": 9,
   "id": "42a2bd5e",
   "metadata": {
    "ExecuteTime": {
     "end_time": "2023-01-24T15:53:27.445474Z",
     "start_time": "2023-01-24T15:53:26.893985Z"
    }
   },
   "outputs": [
    {
     "data": {
      "image/png": "[encoded data removed]",
      "text/plain": [
       "<Figure size 640x480 with 1 Axes>"
      ]
     },
     "metadata": {},
     "output_type": "display_data"
    }
   ],
   "source": [
    "data1.plot()\n",
    "plt.show()"
   ]
  },
  {
   "cell_type": "code",
   "execution_count": 10,
   "id": "61524e8c",
   "metadata": {
    "ExecuteTime": {
     "end_time": "2023-01-24T15:53:37.695582Z",
     "start_time": "2023-01-24T15:53:37.509992Z"
    }
   },
   "outputs": [
    {
     "data": {
      "image/png": "[encoded data removed]",
      "text/plain": [
       "<Figure size 640x480 with 1 Axes>"
      ]
     },
     "metadata": {},
     "output_type": "display_data"
    }
   ],
   "source": [
    "data1.hist()\n",
    "plt.show()"
   ]
  },
  {
   "cell_type": "code",
   "execution_count": 11,
   "id": "dd28dbc5",
   "metadata": {
    "ExecuteTime": {
     "end_time": "2023-01-24T15:53:48.291103Z",
     "start_time": "2023-01-24T15:53:48.102688Z"
    }
   },
   "outputs": [
    {
     "data": {
      "image/png": "[encoded data removed]",
      "text/plain": [
       "<Figure size 640x480 with 1 Axes>"
      ]
     },
     "metadata": {},
     "output_type": "display_data"
    }
   ],
   "source": [
    "data1.plot(kind=\"kde\")\n",
    "plt.show()"
   ]
  },
  {
   "cell_type": "markdown",
   "id": "ff573ded",
   "metadata": {},
   "source": [
    "### Moving Average"
   ]
  },
  {
   "cell_type": "code",
   "execution_count": 12,
   "id": "9c283fb3",
   "metadata": {
    "ExecuteTime": {
     "end_time": "2023-01-24T15:54:13.236715Z",
     "start_time": "2023-01-24T15:54:12.911389Z"
    }
   },
   "outputs": [
    {
     "data": {
      "text/plain": [
       "<matplotlib.legend.Legend at 0x201618bddc0>"
      ]
     },
     "execution_count": 12,
     "metadata": {},
     "output_type": "execute_result"
    },
    {
     "data": {
      "image/png": "[encoded data removed]",
      "text/plain": [
       "<Figure size 1400x800 with 1 Axes>"
      ]
     },
     "metadata": {},
     "output_type": "display_data"
    }
   ],
   "source": [
    "plt.figure(figsize=(14, 8))\n",
    "data1.Sales.plot(label=\"org\")\n",
    "for i in range(2, 20, 4):\n",
    "    data1[\"Sales\"].rolling(i).mean().plot(label=str(i))\n",
    "plt.legend(loc=\"best\")"
   ]
  },
  {
   "cell_type": "markdown",
   "id": "65de772b",
   "metadata": {},
   "source": [
    "### Time series decomposition plot"
   ]
  },
  {
   "cell_type": "code",
   "execution_count": 13,
   "id": "e55bdf0b",
   "metadata": {
    "ExecuteTime": {
     "end_time": "2023-01-24T15:54:43.233281Z",
     "start_time": "2023-01-24T15:54:42.791127Z"
    }
   },
   "outputs": [
    {
     "data": {
      "image/png": "[encoded data removed]",
      "text/plain": [
       "<Figure size 640x480 with 4 Axes>"
      ]
     },
     "metadata": {},
     "output_type": "display_data"
    }
   ],
   "source": [
    "decompose_ts_add = seasonal_decompose(data1.Sales,period=12, model=\"multiplicative\")\n",
    "decompose_ts_add.plot()\n",
    "plt.show()"
   ]
  },
  {
   "cell_type": "markdown",
   "id": "73d0a302",
   "metadata": {},
   "source": [
    "### ACF plots and PACF plots"
   ]
  },
  {
   "cell_type": "code",
   "execution_count": 14,
   "id": "2385eb86",
   "metadata": {
    "ExecuteTime": {
     "end_time": "2023-01-24T15:55:08.105185Z",
     "start_time": "2023-01-24T15:55:07.760214Z"
    }
   },
   "outputs": [
    {
     "data": {
      "image/png": "[encoded data removed]",
      "text/plain": [
       "<Figure size 640x480 with 1 Axes>"
      ]
     },
     "metadata": {},
     "output_type": "display_data"
    },
    {
     "data": {
      "image/png": "[encoded data removed]",
      "text/plain": [
       "<Figure size 640x480 with 1 Axes>"
      ]
     },
     "metadata": {},
     "output_type": "display_data"
    }
   ],
   "source": [
    "tsa_plots.plot_acf(data1.Sales,lags=12)\n",
    "tsa_plots.plot_pacf(data1.Sales,lags=12)\n",
    "plt.show()"
   ]
  },
  {
   "cell_type": "markdown",
   "id": "955b7e14",
   "metadata": {},
   "source": [
    "### Data preprocessing"
   ]
  },
  {
   "cell_type": "code",
   "execution_count": 15,
   "id": "3ea7889b",
   "metadata": {
    "ExecuteTime": {
     "end_time": "2023-01-24T15:56:01.845984Z",
     "start_time": "2023-01-24T15:56:01.830592Z"
    }
   },
   "outputs": [],
   "source": [
    "months = ['Jan','Apr','Jul','Oct']\n",
    "p = data1[\"quater\"][0]\n",
    "p[0:3]\n",
    "data1['months'] = 0"
   ]
  },
  {
   "cell_type": "code",
   "execution_count": 16,
   "id": "15e86cac",
   "metadata": {
    "ExecuteTime": {
     "end_time": "2023-01-24T15:56:10.214264Z",
     "start_time": "2023-01-24T15:56:10.201832Z"
    }
   },
   "outputs": [],
   "source": [
    "for i in range(42):\n",
    "    p = data1[\"quater\"][i]\n",
    "    data1['months'][i]= p[0:3]"
   ]
  },
  {
   "cell_type": "code",
   "execution_count": 17,
   "id": "bce57c6a",
   "metadata": {
    "ExecuteTime": {
     "end_time": "2023-01-24T15:56:18.273601Z",
     "start_time": "2023-01-24T15:56:18.250489Z"
    }
   },
   "outputs": [
    {
     "data": {
      "text/html": [
       "<div>\n",
       "<style scoped>\n",
       "    .dataframe tbody tr th:only-of-type {\n",
       "        vertical-align: middle;\n",
       "    }\n",
       "\n",
       "    .dataframe tbody tr th {\n",
       "        vertical-align: top;\n",
       "    }\n",
       "\n",
       "    .dataframe thead th {\n",
       "        text-align: right;\n",
       "    }\n",
       "</style>\n",
       "<table border=\"1\" class=\"dataframe\">\n",
       "  <thead>\n",
       "    <tr style=\"text-align: right;\">\n",
       "      <th></th>\n",
       "      <th>quater</th>\n",
       "      <th>Sales</th>\n",
       "      <th>months</th>\n",
       "      <th>Apr</th>\n",
       "      <th>Jan</th>\n",
       "      <th>Jul</th>\n",
       "      <th>Oct</th>\n",
       "    </tr>\n",
       "  </thead>\n",
       "  <tbody>\n",
       "    <tr>\n",
       "      <th>0</th>\n",
       "      <td>Jan-1986</td>\n",
       "      <td>1734.827000</td>\n",
       "      <td>Jan</td>\n",
       "      <td>0</td>\n",
       "      <td>1</td>\n",
       "      <td>0</td>\n",
       "      <td>0</td>\n",
       "    </tr>\n",
       "    <tr>\n",
       "      <th>1</th>\n",
       "      <td>Apr-1986</td>\n",
       "      <td>2244.960999</td>\n",
       "      <td>Apr</td>\n",
       "      <td>1</td>\n",
       "      <td>0</td>\n",
       "      <td>0</td>\n",
       "      <td>0</td>\n",
       "    </tr>\n",
       "    <tr>\n",
       "      <th>2</th>\n",
       "      <td>Jul-1986</td>\n",
       "      <td>2533.804993</td>\n",
       "      <td>Jul</td>\n",
       "      <td>0</td>\n",
       "      <td>0</td>\n",
       "      <td>1</td>\n",
       "      <td>0</td>\n",
       "    </tr>\n",
       "    <tr>\n",
       "      <th>3</th>\n",
       "      <td>Oct-1986</td>\n",
       "      <td>2154.962997</td>\n",
       "      <td>Oct</td>\n",
       "      <td>0</td>\n",
       "      <td>0</td>\n",
       "      <td>0</td>\n",
       "      <td>1</td>\n",
       "    </tr>\n",
       "    <tr>\n",
       "      <th>4</th>\n",
       "      <td>Jan-1987</td>\n",
       "      <td>1547.818996</td>\n",
       "      <td>Jan</td>\n",
       "      <td>0</td>\n",
       "      <td>1</td>\n",
       "      <td>0</td>\n",
       "      <td>0</td>\n",
       "    </tr>\n",
       "  </tbody>\n",
       "</table>\n",
       "</div>"
      ],
      "text/plain": [
       "     quater        Sales months  Apr  Jan  Jul  Oct\n",
       "0  Jan-1986  1734.827000    Jan    0    1    0    0\n",
       "1  Apr-1986  2244.960999    Apr    1    0    0    0\n",
       "2  Jul-1986  2533.804993    Jul    0    0    1    0\n",
       "3  Oct-1986  2154.962997    Oct    0    0    0    1\n",
       "4  Jan-1987  1547.818996    Jan    0    1    0    0"
      ]
     },
     "execution_count": 17,
     "metadata": {},
     "output_type": "execute_result"
    }
   ],
   "source": [
    "month_dummies = pd.DataFrame(pd.get_dummies(data1['months']))\n",
    "data1 = pd.concat([data1, month_dummies],axis = 1)\n",
    "data1.head()"
   ]
  },
  {
   "cell_type": "code",
   "execution_count": 18,
   "id": "978d27dc",
   "metadata": {
    "ExecuteTime": {
     "end_time": "2023-01-24T15:56:26.665174Z",
     "start_time": "2023-01-24T15:56:26.640782Z"
    }
   },
   "outputs": [],
   "source": [
    "data1[\"t\"] = np.arange(1,43)\n",
    "data1[\"t_squared\"] = data1[\"t\"]*data1[\"t\"]\n",
    "data1[\"log_Sales\"] = np.log(data1[\"Sales\"])"
   ]
  },
  {
   "cell_type": "code",
   "execution_count": 19,
   "id": "ac1f63c1",
   "metadata": {
    "ExecuteTime": {
     "end_time": "2023-01-24T15:56:35.468361Z",
     "start_time": "2023-01-24T15:56:35.452148Z"
    }
   },
   "outputs": [
    {
     "data": {
      "text/plain": [
       "Index(['quater', 'Sales', 'months', 'Apr', 'Jan', 'Jul', 'Oct', 't',\n",
       "       't_squared', 'log_Sales'],\n",
       "      dtype='object')"
      ]
     },
     "execution_count": 19,
     "metadata": {},
     "output_type": "execute_result"
    }
   ],
   "source": [
    "data1.columns"
   ]
  },
  {
   "cell_type": "code",
   "execution_count": 20,
   "id": "8507da35",
   "metadata": {
    "ExecuteTime": {
     "end_time": "2023-01-24T15:56:47.674379Z",
     "start_time": "2023-01-24T15:56:47.644405Z"
    }
   },
   "outputs": [
    {
     "data": {
      "text/html": [
       "<div>\n",
       "<style scoped>\n",
       "    .dataframe tbody tr th:only-of-type {\n",
       "        vertical-align: middle;\n",
       "    }\n",
       "\n",
       "    .dataframe tbody tr th {\n",
       "        vertical-align: top;\n",
       "    }\n",
       "\n",
       "    .dataframe thead th {\n",
       "        text-align: right;\n",
       "    }\n",
       "</style>\n",
       "<table border=\"1\" class=\"dataframe\">\n",
       "  <thead>\n",
       "    <tr style=\"text-align: right;\">\n",
       "      <th></th>\n",
       "      <th>quater</th>\n",
       "      <th>Sales</th>\n",
       "      <th>months</th>\n",
       "      <th>Apr</th>\n",
       "      <th>Jan</th>\n",
       "      <th>Jul</th>\n",
       "      <th>Oct</th>\n",
       "      <th>t</th>\n",
       "      <th>t_squared</th>\n",
       "      <th>log_Sales</th>\n",
       "    </tr>\n",
       "  </thead>\n",
       "  <tbody>\n",
       "    <tr>\n",
       "      <th>0</th>\n",
       "      <td>Jan-1986</td>\n",
       "      <td>1734.827000</td>\n",
       "      <td>Jan</td>\n",
       "      <td>0</td>\n",
       "      <td>1</td>\n",
       "      <td>0</td>\n",
       "      <td>0</td>\n",
       "      <td>1</td>\n",
       "      <td>1</td>\n",
       "      <td>7.458663</td>\n",
       "    </tr>\n",
       "    <tr>\n",
       "      <th>1</th>\n",
       "      <td>Apr-1986</td>\n",
       "      <td>2244.960999</td>\n",
       "      <td>Apr</td>\n",
       "      <td>1</td>\n",
       "      <td>0</td>\n",
       "      <td>0</td>\n",
       "      <td>0</td>\n",
       "      <td>2</td>\n",
       "      <td>4</td>\n",
       "      <td>7.716443</td>\n",
       "    </tr>\n",
       "    <tr>\n",
       "      <th>2</th>\n",
       "      <td>Jul-1986</td>\n",
       "      <td>2533.804993</td>\n",
       "      <td>Jul</td>\n",
       "      <td>0</td>\n",
       "      <td>0</td>\n",
       "      <td>1</td>\n",
       "      <td>0</td>\n",
       "      <td>3</td>\n",
       "      <td>9</td>\n",
       "      <td>7.837477</td>\n",
       "    </tr>\n",
       "    <tr>\n",
       "      <th>3</th>\n",
       "      <td>Oct-1986</td>\n",
       "      <td>2154.962997</td>\n",
       "      <td>Oct</td>\n",
       "      <td>0</td>\n",
       "      <td>0</td>\n",
       "      <td>0</td>\n",
       "      <td>1</td>\n",
       "      <td>4</td>\n",
       "      <td>16</td>\n",
       "      <td>7.675529</td>\n",
       "    </tr>\n",
       "    <tr>\n",
       "      <th>4</th>\n",
       "      <td>Jan-1987</td>\n",
       "      <td>1547.818996</td>\n",
       "      <td>Jan</td>\n",
       "      <td>0</td>\n",
       "      <td>1</td>\n",
       "      <td>0</td>\n",
       "      <td>0</td>\n",
       "      <td>5</td>\n",
       "      <td>25</td>\n",
       "      <td>7.344602</td>\n",
       "    </tr>\n",
       "  </tbody>\n",
       "</table>\n",
       "</div>"
      ],
      "text/plain": [
       "     quater        Sales months  Apr  Jan  Jul  Oct  t  t_squared  log_Sales\n",
       "0  Jan-1986  1734.827000    Jan    0    1    0    0  1          1   7.458663\n",
       "1  Apr-1986  2244.960999    Apr    1    0    0    0  2          4   7.716443\n",
       "2  Jul-1986  2533.804993    Jul    0    0    1    0  3          9   7.837477\n",
       "3  Oct-1986  2154.962997    Oct    0    0    0    1  4         16   7.675529\n",
       "4  Jan-1987  1547.818996    Jan    0    1    0    0  5         25   7.344602"
      ]
     },
     "execution_count": 20,
     "metadata": {},
     "output_type": "execute_result"
    }
   ],
   "source": [
    "data1.head()"
   ]
  },
  {
   "cell_type": "code",
   "execution_count": 21,
   "id": "697df9c6",
   "metadata": {
    "ExecuteTime": {
     "end_time": "2023-01-24T15:56:56.883195Z",
     "start_time": "2023-01-24T15:56:56.854099Z"
    }
   },
   "outputs": [
    {
     "data": {
      "text/html": [
       "<div>\n",
       "<style scoped>\n",
       "    .dataframe tbody tr th:only-of-type {\n",
       "        vertical-align: middle;\n",
       "    }\n",
       "\n",
       "    .dataframe tbody tr th {\n",
       "        vertical-align: top;\n",
       "    }\n",
       "\n",
       "    .dataframe thead th {\n",
       "        text-align: right;\n",
       "    }\n",
       "</style>\n",
       "<table border=\"1\" class=\"dataframe\">\n",
       "  <thead>\n",
       "    <tr style=\"text-align: right;\">\n",
       "      <th></th>\n",
       "      <th>quater</th>\n",
       "      <th>Sales</th>\n",
       "      <th>months</th>\n",
       "      <th>Apr</th>\n",
       "      <th>Jan</th>\n",
       "      <th>Jul</th>\n",
       "      <th>Oct</th>\n",
       "      <th>t</th>\n",
       "      <th>t_squared</th>\n",
       "      <th>log_Sales</th>\n",
       "    </tr>\n",
       "  </thead>\n",
       "  <tbody>\n",
       "    <tr>\n",
       "      <th>37</th>\n",
       "      <td>Apr-1995</td>\n",
       "      <td>4936.0</td>\n",
       "      <td>Apr</td>\n",
       "      <td>1</td>\n",
       "      <td>0</td>\n",
       "      <td>0</td>\n",
       "      <td>0</td>\n",
       "      <td>38</td>\n",
       "      <td>1444</td>\n",
       "      <td>8.504311</td>\n",
       "    </tr>\n",
       "    <tr>\n",
       "      <th>38</th>\n",
       "      <td>Jul-1995</td>\n",
       "      <td>4895.0</td>\n",
       "      <td>Jul</td>\n",
       "      <td>0</td>\n",
       "      <td>0</td>\n",
       "      <td>1</td>\n",
       "      <td>0</td>\n",
       "      <td>39</td>\n",
       "      <td>1521</td>\n",
       "      <td>8.495970</td>\n",
       "    </tr>\n",
       "    <tr>\n",
       "      <th>39</th>\n",
       "      <td>Oct-1995</td>\n",
       "      <td>4333.0</td>\n",
       "      <td>Oct</td>\n",
       "      <td>0</td>\n",
       "      <td>0</td>\n",
       "      <td>0</td>\n",
       "      <td>1</td>\n",
       "      <td>40</td>\n",
       "      <td>1600</td>\n",
       "      <td>8.374015</td>\n",
       "    </tr>\n",
       "    <tr>\n",
       "      <th>40</th>\n",
       "      <td>Jan-1996</td>\n",
       "      <td>4194.0</td>\n",
       "      <td>Jan</td>\n",
       "      <td>0</td>\n",
       "      <td>1</td>\n",
       "      <td>0</td>\n",
       "      <td>0</td>\n",
       "      <td>41</td>\n",
       "      <td>1681</td>\n",
       "      <td>8.341410</td>\n",
       "    </tr>\n",
       "    <tr>\n",
       "      <th>41</th>\n",
       "      <td>Apr-1996</td>\n",
       "      <td>5253.0</td>\n",
       "      <td>Apr</td>\n",
       "      <td>1</td>\n",
       "      <td>0</td>\n",
       "      <td>0</td>\n",
       "      <td>0</td>\n",
       "      <td>42</td>\n",
       "      <td>1764</td>\n",
       "      <td>8.566555</td>\n",
       "    </tr>\n",
       "  </tbody>\n",
       "</table>\n",
       "</div>"
      ],
      "text/plain": [
       "      quater   Sales months  Apr  Jan  Jul  Oct   t  t_squared  log_Sales\n",
       "37  Apr-1995  4936.0    Apr    1    0    0    0  38       1444   8.504311\n",
       "38  Jul-1995  4895.0    Jul    0    0    1    0  39       1521   8.495970\n",
       "39  Oct-1995  4333.0    Oct    0    0    0    1  40       1600   8.374015\n",
       "40  Jan-1996  4194.0    Jan    0    1    0    0  41       1681   8.341410\n",
       "41  Apr-1996  5253.0    Apr    1    0    0    0  42       1764   8.566555"
      ]
     },
     "execution_count": 21,
     "metadata": {},
     "output_type": "execute_result"
    }
   ],
   "source": [
    "data1.tail()"
   ]
  },
  {
   "cell_type": "code",
   "execution_count": 22,
   "id": "80ea0385",
   "metadata": {
    "ExecuteTime": {
     "end_time": "2023-01-24T15:57:05.506107Z",
     "start_time": "2023-01-24T15:57:05.472711Z"
    }
   },
   "outputs": [
    {
     "data": {
      "text/html": [
       "<div>\n",
       "<style scoped>\n",
       "    .dataframe tbody tr th:only-of-type {\n",
       "        vertical-align: middle;\n",
       "    }\n",
       "\n",
       "    .dataframe tbody tr th {\n",
       "        vertical-align: top;\n",
       "    }\n",
       "\n",
       "    .dataframe thead th {\n",
       "        text-align: right;\n",
       "    }\n",
       "</style>\n",
       "<table border=\"1\" class=\"dataframe\">\n",
       "  <thead>\n",
       "    <tr style=\"text-align: right;\">\n",
       "      <th></th>\n",
       "      <th>quater</th>\n",
       "      <th>Sales</th>\n",
       "      <th>months</th>\n",
       "      <th>Apr</th>\n",
       "      <th>Jan</th>\n",
       "      <th>Jul</th>\n",
       "      <th>Oct</th>\n",
       "      <th>t</th>\n",
       "      <th>t_squared</th>\n",
       "      <th>log_Sales</th>\n",
       "      <th>Date</th>\n",
       "    </tr>\n",
       "  </thead>\n",
       "  <tbody>\n",
       "    <tr>\n",
       "      <th>0</th>\n",
       "      <td>Jan-1986</td>\n",
       "      <td>1734.827000</td>\n",
       "      <td>Jan</td>\n",
       "      <td>0</td>\n",
       "      <td>1</td>\n",
       "      <td>0</td>\n",
       "      <td>0</td>\n",
       "      <td>1</td>\n",
       "      <td>1</td>\n",
       "      <td>7.458663</td>\n",
       "      <td>1986-01-01</td>\n",
       "    </tr>\n",
       "    <tr>\n",
       "      <th>1</th>\n",
       "      <td>Apr-1986</td>\n",
       "      <td>2244.960999</td>\n",
       "      <td>Apr</td>\n",
       "      <td>1</td>\n",
       "      <td>0</td>\n",
       "      <td>0</td>\n",
       "      <td>0</td>\n",
       "      <td>2</td>\n",
       "      <td>4</td>\n",
       "      <td>7.716443</td>\n",
       "      <td>1986-04-01</td>\n",
       "    </tr>\n",
       "    <tr>\n",
       "      <th>2</th>\n",
       "      <td>Jul-1986</td>\n",
       "      <td>2533.804993</td>\n",
       "      <td>Jul</td>\n",
       "      <td>0</td>\n",
       "      <td>0</td>\n",
       "      <td>1</td>\n",
       "      <td>0</td>\n",
       "      <td>3</td>\n",
       "      <td>9</td>\n",
       "      <td>7.837477</td>\n",
       "      <td>1986-07-01</td>\n",
       "    </tr>\n",
       "    <tr>\n",
       "      <th>3</th>\n",
       "      <td>Oct-1986</td>\n",
       "      <td>2154.962997</td>\n",
       "      <td>Oct</td>\n",
       "      <td>0</td>\n",
       "      <td>0</td>\n",
       "      <td>0</td>\n",
       "      <td>1</td>\n",
       "      <td>4</td>\n",
       "      <td>16</td>\n",
       "      <td>7.675529</td>\n",
       "      <td>1986-10-01</td>\n",
       "    </tr>\n",
       "    <tr>\n",
       "      <th>4</th>\n",
       "      <td>Jan-1987</td>\n",
       "      <td>1547.818996</td>\n",
       "      <td>Jan</td>\n",
       "      <td>0</td>\n",
       "      <td>1</td>\n",
       "      <td>0</td>\n",
       "      <td>0</td>\n",
       "      <td>5</td>\n",
       "      <td>25</td>\n",
       "      <td>7.344602</td>\n",
       "      <td>1987-01-01</td>\n",
       "    </tr>\n",
       "  </tbody>\n",
       "</table>\n",
       "</div>"
      ],
      "text/plain": [
       "     quater        Sales months  Apr  Jan  Jul  Oct  t  t_squared  log_Sales  \\\n",
       "0  Jan-1986  1734.827000    Jan    0    1    0    0  1          1   7.458663   \n",
       "1  Apr-1986  2244.960999    Apr    1    0    0    0  2          4   7.716443   \n",
       "2  Jul-1986  2533.804993    Jul    0    0    1    0  3          9   7.837477   \n",
       "3  Oct-1986  2154.962997    Oct    0    0    0    1  4         16   7.675529   \n",
       "4  Jan-1987  1547.818996    Jan    0    1    0    0  5         25   7.344602   \n",
       "\n",
       "        Date  \n",
       "0 1986-01-01  \n",
       "1 1986-04-01  \n",
       "2 1986-07-01  \n",
       "3 1986-10-01  \n",
       "4 1987-01-01  "
      ]
     },
     "execution_count": 22,
     "metadata": {},
     "output_type": "execute_result"
    }
   ],
   "source": [
    "data1[\"Date\"] = pd.to_datetime(data1.quater, format=\"%b-%Y\")\n",
    "data1.head()"
   ]
  },
  {
   "cell_type": "code",
   "execution_count": 23,
   "id": "65d40c6f",
   "metadata": {
    "ExecuteTime": {
     "end_time": "2023-01-24T15:57:14.128097Z",
     "start_time": "2023-01-24T15:57:14.101500Z"
    }
   },
   "outputs": [
    {
     "data": {
      "text/html": [
       "<div>\n",
       "<style scoped>\n",
       "    .dataframe tbody tr th:only-of-type {\n",
       "        vertical-align: middle;\n",
       "    }\n",
       "\n",
       "    .dataframe tbody tr th {\n",
       "        vertical-align: top;\n",
       "    }\n",
       "\n",
       "    .dataframe thead th {\n",
       "        text-align: right;\n",
       "    }\n",
       "</style>\n",
       "<table border=\"1\" class=\"dataframe\">\n",
       "  <thead>\n",
       "    <tr style=\"text-align: right;\">\n",
       "      <th></th>\n",
       "      <th>quater</th>\n",
       "      <th>Sales</th>\n",
       "      <th>months</th>\n",
       "      <th>Apr</th>\n",
       "      <th>Jan</th>\n",
       "      <th>Jul</th>\n",
       "      <th>Oct</th>\n",
       "      <th>t</th>\n",
       "      <th>t_squared</th>\n",
       "      <th>log_Sales</th>\n",
       "      <th>Date</th>\n",
       "      <th>year</th>\n",
       "    </tr>\n",
       "  </thead>\n",
       "  <tbody>\n",
       "    <tr>\n",
       "      <th>0</th>\n",
       "      <td>Jan-1986</td>\n",
       "      <td>1734.827000</td>\n",
       "      <td>Jan</td>\n",
       "      <td>0</td>\n",
       "      <td>1</td>\n",
       "      <td>0</td>\n",
       "      <td>0</td>\n",
       "      <td>1</td>\n",
       "      <td>1</td>\n",
       "      <td>7.458663</td>\n",
       "      <td>1986-01-01</td>\n",
       "      <td>1986</td>\n",
       "    </tr>\n",
       "    <tr>\n",
       "      <th>1</th>\n",
       "      <td>Apr-1986</td>\n",
       "      <td>2244.960999</td>\n",
       "      <td>Apr</td>\n",
       "      <td>1</td>\n",
       "      <td>0</td>\n",
       "      <td>0</td>\n",
       "      <td>0</td>\n",
       "      <td>2</td>\n",
       "      <td>4</td>\n",
       "      <td>7.716443</td>\n",
       "      <td>1986-04-01</td>\n",
       "      <td>1986</td>\n",
       "    </tr>\n",
       "    <tr>\n",
       "      <th>2</th>\n",
       "      <td>Jul-1986</td>\n",
       "      <td>2533.804993</td>\n",
       "      <td>Jul</td>\n",
       "      <td>0</td>\n",
       "      <td>0</td>\n",
       "      <td>1</td>\n",
       "      <td>0</td>\n",
       "      <td>3</td>\n",
       "      <td>9</td>\n",
       "      <td>7.837477</td>\n",
       "      <td>1986-07-01</td>\n",
       "      <td>1986</td>\n",
       "    </tr>\n",
       "    <tr>\n",
       "      <th>3</th>\n",
       "      <td>Oct-1986</td>\n",
       "      <td>2154.962997</td>\n",
       "      <td>Oct</td>\n",
       "      <td>0</td>\n",
       "      <td>0</td>\n",
       "      <td>0</td>\n",
       "      <td>1</td>\n",
       "      <td>4</td>\n",
       "      <td>16</td>\n",
       "      <td>7.675529</td>\n",
       "      <td>1986-10-01</td>\n",
       "      <td>1986</td>\n",
       "    </tr>\n",
       "    <tr>\n",
       "      <th>4</th>\n",
       "      <td>Jan-1987</td>\n",
       "      <td>1547.818996</td>\n",
       "      <td>Jan</td>\n",
       "      <td>0</td>\n",
       "      <td>1</td>\n",
       "      <td>0</td>\n",
       "      <td>0</td>\n",
       "      <td>5</td>\n",
       "      <td>25</td>\n",
       "      <td>7.344602</td>\n",
       "      <td>1987-01-01</td>\n",
       "      <td>1987</td>\n",
       "    </tr>\n",
       "  </tbody>\n",
       "</table>\n",
       "</div>"
      ],
      "text/plain": [
       "     quater        Sales months  Apr  Jan  Jul  Oct  t  t_squared  log_Sales  \\\n",
       "0  Jan-1986  1734.827000    Jan    0    1    0    0  1          1   7.458663   \n",
       "1  Apr-1986  2244.960999    Apr    1    0    0    0  2          4   7.716443   \n",
       "2  Jul-1986  2533.804993    Jul    0    0    1    0  3          9   7.837477   \n",
       "3  Oct-1986  2154.962997    Oct    0    0    0    1  4         16   7.675529   \n",
       "4  Jan-1987  1547.818996    Jan    0    1    0    0  5         25   7.344602   \n",
       "\n",
       "        Date  year  \n",
       "0 1986-01-01  1986  \n",
       "1 1986-04-01  1986  \n",
       "2 1986-07-01  1986  \n",
       "3 1986-10-01  1986  \n",
       "4 1987-01-01  1987  "
      ]
     },
     "execution_count": 23,
     "metadata": {},
     "output_type": "execute_result"
    }
   ],
   "source": [
    "data1[\"year\"] = data1.Date.dt.strftime(\"%Y\")\n",
    "data1.head()"
   ]
  },
  {
   "cell_type": "code",
   "execution_count": 24,
   "id": "69a55a90",
   "metadata": {
    "ExecuteTime": {
     "end_time": "2023-01-24T15:57:22.350511Z",
     "start_time": "2023-01-24T15:57:21.927072Z"
    }
   },
   "outputs": [
    {
     "data": {
      "text/plain": [
       "<AxesSubplot: xlabel='months', ylabel='year'>"
      ]
     },
     "execution_count": 24,
     "metadata": {},
     "output_type": "execute_result"
    },
    {
     "data": {
      "image/png": "[encoded data removed]",
      "text/plain": [
       "<Figure size 1000x800 with 2 Axes>"
      ]
     },
     "metadata": {},
     "output_type": "display_data"
    }
   ],
   "source": [
    "plt.figure(figsize=(10,8))\n",
    "heatmap_Y_month = pd.pivot_table(data=data1, values=\"Sales\", index=\"year\", columns=\"months\", aggfunc=\"mean\", fill_value=0)\n",
    "sns.heatmap(heatmap_Y_month, annot=True, fmt=\"g\")"
   ]
  },
  {
   "cell_type": "code",
   "execution_count": 25,
   "id": "00d060a5",
   "metadata": {
    "ExecuteTime": {
     "end_time": "2023-01-24T15:57:32.329927Z",
     "start_time": "2023-01-24T15:57:31.900826Z"
    }
   },
   "outputs": [
    {
     "data": {
      "image/png": "[encoded data removed]",
      "text/plain": [
       "<Figure size 1000x800 with 1 Axes>"
      ]
     },
     "metadata": {},
     "output_type": "display_data"
    },
    {
     "data": {
      "image/png": "[encoded data removed]",
      "text/plain": [
       "<Figure size 1000x800 with 1 Axes>"
      ]
     },
     "metadata": {},
     "output_type": "display_data"
    }
   ],
   "source": [
    "plt.figure(figsize=(10,8))\n",
    "plt.subplot(211)\n",
    "sns.boxplot(x=\"months\", y=\"Sales\", data = data1)\n",
    "plt.show()\n",
    "\n",
    "plt.figure(figsize=(10,8))\n",
    "plt.subplot(212)\n",
    "sns.boxplot(x=\"year\", y=\"Sales\", data = data1)\n",
    "plt.show()"
   ]
  },
  {
   "cell_type": "code",
   "execution_count": 26,
   "id": "76bec20c",
   "metadata": {
    "ExecuteTime": {
     "end_time": "2023-01-24T15:57:43.972493Z",
     "start_time": "2023-01-24T15:57:43.543114Z"
    }
   },
   "outputs": [
    {
     "data": {
      "text/plain": [
       "<AxesSubplot: xlabel='year', ylabel='Sales'>"
      ]
     },
     "execution_count": 26,
     "metadata": {},
     "output_type": "execute_result"
    },
    {
     "data": {
      "image/png": "[encoded data removed]",
      "text/plain": [
       "<Figure size 1200x400 with 1 Axes>"
      ]
     },
     "metadata": {},
     "output_type": "display_data"
    }
   ],
   "source": [
    "plt.figure(figsize=(12,4))\n",
    "sns.lineplot(x=\"year\", y=\"Sales\", data=data1)"
   ]
  },
  {
   "cell_type": "markdown",
   "id": "4be3d681",
   "metadata": {},
   "source": [
    "#### From all the above graphs we can say that the Cocacola sales data has an upward exponential trend with multiplicative seasonality."
   ]
  },
  {
   "cell_type": "markdown",
   "id": "10ff1753",
   "metadata": {},
   "source": [
    "### Splitting Data"
   ]
  },
  {
   "cell_type": "code",
   "execution_count": 27,
   "id": "ccbecf52",
   "metadata": {
    "ExecuteTime": {
     "end_time": "2023-01-24T15:58:41.438328Z",
     "start_time": "2023-01-24T15:58:41.421671Z"
    }
   },
   "outputs": [],
   "source": [
    "Train = data1.head(38)\n",
    "Test = data1.tail(4)"
   ]
  },
  {
   "cell_type": "markdown",
   "id": "8b68a41c",
   "metadata": {},
   "source": [
    "### Evaluation Metric RMSE & MAPE"
   ]
  },
  {
   "cell_type": "code",
   "execution_count": 28,
   "id": "e85daa03",
   "metadata": {
    "ExecuteTime": {
     "end_time": "2023-01-24T15:59:05.406463Z",
     "start_time": "2023-01-24T15:59:05.391878Z"
    }
   },
   "outputs": [],
   "source": [
    "def RMSE(pred, org):\n",
    "    temp = np.mean((pred-org)**2)\n",
    "    return np.sqrt(temp)"
   ]
  },
  {
   "cell_type": "code",
   "execution_count": 29,
   "id": "b0afddb4",
   "metadata": {
    "ExecuteTime": {
     "end_time": "2023-01-24T15:59:14.006014Z",
     "start_time": "2023-01-24T15:59:13.994141Z"
    }
   },
   "outputs": [],
   "source": [
    "def MAPE(pred, org):\n",
    "    temp = np.abs(((pred-org)/org)*100)\n",
    "    return np.mean(temp)"
   ]
  },
  {
   "cell_type": "markdown",
   "id": "03df352d",
   "metadata": {},
   "source": [
    "#### Building and Comparing Multiple Models to find out best model for Forecasting"
   ]
  },
  {
   "cell_type": "markdown",
   "id": "426c8a06",
   "metadata": {},
   "source": [
    "### Linear model"
   ]
  },
  {
   "cell_type": "code",
   "execution_count": 30,
   "id": "03e96ea9",
   "metadata": {
    "ExecuteTime": {
     "end_time": "2023-01-24T16:00:02.440985Z",
     "start_time": "2023-01-24T16:00:02.404346Z"
    }
   },
   "outputs": [
    {
     "data": {
      "text/plain": [
       "38    4145.466199\n",
       "39    4213.536208\n",
       "40    4281.606217\n",
       "41    4349.676226\n",
       "dtype: float64"
      ]
     },
     "execution_count": 30,
     "metadata": {},
     "output_type": "execute_result"
    }
   ],
   "source": [
    "model_linear = smf.ols(\"Sales~t\", data=Train).fit()\n",
    "pred_linear = pd.Series(model_linear.predict(pd.DataFrame(Test[\"t\"])))\n",
    "pred_linear"
   ]
  },
  {
   "cell_type": "code",
   "execution_count": 31,
   "id": "e25fbdbd",
   "metadata": {
    "ExecuteTime": {
     "end_time": "2023-01-24T16:00:10.141407Z",
     "start_time": "2023-01-24T16:00:10.116124Z"
    }
   },
   "outputs": [
    {
     "data": {
      "text/plain": [
       "591.553295748553"
      ]
     },
     "execution_count": 31,
     "metadata": {},
     "output_type": "execute_result"
    }
   ],
   "source": [
    "rmse_linear = RMSE(pred_linear, Test['Sales'])\n",
    "rmse_linear"
   ]
  },
  {
   "cell_type": "code",
   "execution_count": 32,
   "id": "fa9e50b6",
   "metadata": {
    "ExecuteTime": {
     "end_time": "2023-01-24T16:00:17.420788Z",
     "start_time": "2023-01-24T16:00:17.403697Z"
    }
   },
   "outputs": [
    {
     "data": {
      "text/plain": [
       "9.338622188782889"
      ]
     },
     "execution_count": 32,
     "metadata": {},
     "output_type": "execute_result"
    }
   ],
   "source": [
    "mape_linear = MAPE(pred_linear, Test['Sales'])\n",
    "mape_linear"
   ]
  },
  {
   "cell_type": "markdown",
   "id": "d0fa6ad7",
   "metadata": {},
   "source": [
    "### Exponential model"
   ]
  },
  {
   "cell_type": "code",
   "execution_count": 33,
   "id": "219f6d9e",
   "metadata": {
    "ExecuteTime": {
     "end_time": "2023-01-24T16:00:40.583863Z",
     "start_time": "2023-01-24T16:00:40.559033Z"
    }
   },
   "outputs": [
    {
     "data": {
      "text/plain": [
       "38    4295.822022\n",
       "39    4399.046102\n",
       "40    4504.750549\n",
       "41    4612.994962\n",
       "dtype: float64"
      ]
     },
     "execution_count": 33,
     "metadata": {},
     "output_type": "execute_result"
    }
   ],
   "source": [
    "model_expo = smf.ols(\"log_Sales~t\", data=Train).fit()\n",
    "pred_expo = pd.Series(model_expo.predict(pd.DataFrame(Test[\"t\"])))\n",
    "pred_expo = np.exp(pred_expo)\n",
    "pred_expo"
   ]
  },
  {
   "cell_type": "code",
   "execution_count": 34,
   "id": "6fd353ac",
   "metadata": {
    "ExecuteTime": {
     "end_time": "2023-01-24T16:00:48.987199Z",
     "start_time": "2023-01-24T16:00:48.970664Z"
    }
   },
   "outputs": [
    {
     "data": {
      "text/plain": [
       "466.2479731321014"
      ]
     },
     "execution_count": 34,
     "metadata": {},
     "output_type": "execute_result"
    }
   ],
   "source": [
    "rmse_expo = RMSE(pred_expo, Test['Sales'])\n",
    "rmse_expo"
   ]
  },
  {
   "cell_type": "code",
   "execution_count": 35,
   "id": "63d5e96d",
   "metadata": {
    "ExecuteTime": {
     "end_time": "2023-01-24T16:01:02.039243Z",
     "start_time": "2023-01-24T16:01:02.022543Z"
    }
   },
   "outputs": [
    {
     "data": {
      "text/plain": [
       "8.339472011957456"
      ]
     },
     "execution_count": 35,
     "metadata": {},
     "output_type": "execute_result"
    }
   ],
   "source": [
    "mape_expo = MAPE(pred_expo, Test['Sales'])\n",
    "mape_expo"
   ]
  },
  {
   "cell_type": "markdown",
   "id": "df6ab8a9",
   "metadata": {},
   "source": [
    "### Quadratic Model"
   ]
  },
  {
   "cell_type": "code",
   "execution_count": 36,
   "id": "a9c93e9c",
   "metadata": {
    "ExecuteTime": {
     "end_time": "2023-01-24T16:01:23.277298Z",
     "start_time": "2023-01-24T16:01:23.244731Z"
    }
   },
   "outputs": [
    {
     "data": {
      "text/plain": [
       "38    4669.104172\n",
       "39    4817.733869\n",
       "40    4970.391551\n",
       "41    5127.077217\n",
       "dtype: float64"
      ]
     },
     "execution_count": 36,
     "metadata": {},
     "output_type": "execute_result"
    }
   ],
   "source": [
    "model_quad = smf.ols(\"Sales~t+t_squared\", data=Train).fit()\n",
    "pred_quad = pd.Series(model_quad.predict(pd.DataFrame(Test[[\"t\",\"t_squared\"]])))\n",
    "pred_quad"
   ]
  },
  {
   "cell_type": "code",
   "execution_count": 37,
   "id": "1e421f7b",
   "metadata": {
    "ExecuteTime": {
     "end_time": "2023-01-24T16:01:32.306339Z",
     "start_time": "2023-01-24T16:01:32.292370Z"
    }
   },
   "outputs": [
    {
     "data": {
      "text/plain": [
       "475.5618351982128"
      ]
     },
     "execution_count": 37,
     "metadata": {},
     "output_type": "execute_result"
    }
   ],
   "source": [
    "rmse_quad = RMSE(pred_quad, Test['Sales'])\n",
    "rmse_quad"
   ]
  },
  {
   "cell_type": "code",
   "execution_count": 38,
   "id": "a43f86d3",
   "metadata": {
    "ExecuteTime": {
     "end_time": "2023-01-24T16:01:41.605937Z",
     "start_time": "2023-01-24T16:01:41.581430Z"
    }
   },
   "outputs": [
    {
     "data": {
      "text/plain": [
       "9.177743216720835"
      ]
     },
     "execution_count": 38,
     "metadata": {},
     "output_type": "execute_result"
    }
   ],
   "source": [
    "mape_quad = MAPE(pred_quad, Test['Sales'])\n",
    "mape_quad"
   ]
  },
  {
   "cell_type": "markdown",
   "id": "5e46f8f1",
   "metadata": {},
   "source": [
    "### Additive Seasonality"
   ]
  },
  {
   "cell_type": "code",
   "execution_count": 39,
   "id": "ef954961",
   "metadata": {
    "ExecuteTime": {
     "end_time": "2023-01-24T16:02:13.083021Z",
     "start_time": "2023-01-24T16:02:13.034331Z"
    }
   },
   "outputs": [
    {
     "data": {
      "text/plain": [
       "38    2938.434220\n",
       "39    2712.930886\n",
       "40    2472.555199\n",
       "41    3150.000098\n",
       "dtype: float64"
      ]
     },
     "execution_count": 39,
     "metadata": {},
     "output_type": "execute_result"
    }
   ],
   "source": [
    "model_add_seas = smf.ols(\"Sales~Apr+Jan+Jul+Oct\",data=Train).fit()\n",
    "pred_add_seas = pd. Series(model_add_seas.predict(pd.DataFrame(Test[['Apr', 'Jan','Jul', 'Oct']])))\n",
    "pred_add_seas"
   ]
  },
  {
   "cell_type": "code",
   "execution_count": 40,
   "id": "73a3ed39",
   "metadata": {
    "ExecuteTime": {
     "end_time": "2023-01-24T16:02:21.241360Z",
     "start_time": "2023-01-24T16:02:21.217638Z"
    }
   },
   "outputs": [
    {
     "data": {
      "text/plain": [
       "1860.0238154374445"
      ]
     },
     "execution_count": 40,
     "metadata": {},
     "output_type": "execute_result"
    }
   ],
   "source": [
    "rmse_add_seas = RMSE(pred_add_seas, Test['Sales'])\n",
    "rmse_add_seas"
   ]
  },
  {
   "cell_type": "code",
   "execution_count": 41,
   "id": "bc578121",
   "metadata": {
    "ExecuteTime": {
     "end_time": "2023-01-24T16:02:30.096458Z",
     "start_time": "2023-01-24T16:02:30.073462Z"
    }
   },
   "outputs": [
    {
     "data": {
      "text/plain": [
       "39.609867065940406"
      ]
     },
     "execution_count": 41,
     "metadata": {},
     "output_type": "execute_result"
    }
   ],
   "source": [
    "mape_add_seas = MAPE(pred_add_seas, Test['Sales'])\n",
    "mape_add_seas"
   ]
  },
  {
   "cell_type": "markdown",
   "id": "d6f265fc",
   "metadata": {},
   "source": [
    "### Additive Seasonality with Quadratic trend"
   ]
  },
  {
   "cell_type": "code",
   "execution_count": 42,
   "id": "2360f527",
   "metadata": {
    "ExecuteTime": {
     "end_time": "2023-01-24T16:02:56.237696Z",
     "start_time": "2023-01-24T16:02:56.188334Z"
    }
   },
   "outputs": [
    {
     "data": {
      "text/plain": [
       "38    4852.677797\n",
       "39    4709.186074\n",
       "40    4638.364982\n",
       "41    5406.022652\n",
       "dtype: float64"
      ]
     },
     "execution_count": 42,
     "metadata": {},
     "output_type": "execute_result"
    }
   ],
   "source": [
    "model_add_seas_quad = smf.ols(\"Sales~t+t_squared+Apr+Jan+Jul+Oct\", data=Train).fit()\n",
    "pred_add_seas_quad = pd.Series(model_add_seas_quad.predict(pd.DataFrame(Test[[\"t\",\"t_squared\",'Apr', 'Jan','Jul', 'Oct']])))\n",
    "pred_add_seas_quad"
   ]
  },
  {
   "cell_type": "code",
   "execution_count": 43,
   "id": "b10803c5",
   "metadata": {
    "ExecuteTime": {
     "end_time": "2023-01-24T16:03:09.585001Z",
     "start_time": "2023-01-24T16:03:09.570078Z"
    }
   },
   "outputs": [
    {
     "data": {
      "text/plain": [
       "301.7380072145682"
      ]
     },
     "execution_count": 43,
     "metadata": {},
     "output_type": "execute_result"
    }
   ],
   "source": [
    "rmse_add_seas_quad = RMSE(pred_add_seas_quad, Test['Sales'])\n",
    "rmse_add_seas_quad"
   ]
  },
  {
   "cell_type": "code",
   "execution_count": 44,
   "id": "24c61455",
   "metadata": {
    "ExecuteTime": {
     "end_time": "2023-01-24T16:03:17.462045Z",
     "start_time": "2023-01-24T16:03:17.449320Z"
    }
   },
   "outputs": [
    {
     "data": {
      "text/plain": [
       "5.763698215175805"
      ]
     },
     "execution_count": 44,
     "metadata": {},
     "output_type": "execute_result"
    }
   ],
   "source": [
    "mape_add_seas_quad = MAPE(pred_add_seas_quad, Test['Sales'])\n",
    "mape_add_seas_quad"
   ]
  },
  {
   "cell_type": "markdown",
   "id": "a8a23d3c",
   "metadata": {},
   "source": [
    "### Multiplicative Seasonality"
   ]
  },
  {
   "cell_type": "code",
   "execution_count": 45,
   "id": "a14f58aa",
   "metadata": {
    "ExecuteTime": {
     "end_time": "2023-01-24T16:03:41.666244Z",
     "start_time": "2023-01-24T16:03:41.633582Z"
    }
   },
   "outputs": [
    {
     "data": {
      "text/plain": [
       "38    2841.058902\n",
       "39    2634.665177\n",
       "40    2370.087030\n",
       "41    3019.186717\n",
       "dtype: float64"
      ]
     },
     "execution_count": 45,
     "metadata": {},
     "output_type": "execute_result"
    }
   ],
   "source": [
    "model_mul_seas = smf.ols(\"log_Sales~Apr+Jan+Jul+Oct\",data=Train).fit()\n",
    "pred_mul_seas = pd. Series(model_mul_seas.predict(pd.DataFrame(Test[['Apr', 'Jan','Jul', 'Oct']])))\n",
    "pred_mul_seas = np.exp(pred_mul_seas)\n",
    "pred_mul_seas"
   ]
  },
  {
   "cell_type": "code",
   "execution_count": 46,
   "id": "e05b99f5",
   "metadata": {
    "ExecuteTime": {
     "end_time": "2023-01-24T16:03:50.280806Z",
     "start_time": "2023-01-24T16:03:50.256500Z"
    }
   },
   "outputs": [
    {
     "data": {
      "text/plain": [
       "1963.389640056338"
      ]
     },
     "execution_count": 46,
     "metadata": {},
     "output_type": "execute_result"
    }
   ],
   "source": [
    "rmse_mul_seas = RMSE(pred_mul_seas, Test['Sales'])\n",
    "rmse_mul_seas"
   ]
  },
  {
   "cell_type": "code",
   "execution_count": 47,
   "id": "3675ea2a",
   "metadata": {
    "ExecuteTime": {
     "end_time": "2023-01-24T16:04:10.024185Z",
     "start_time": "2023-01-24T16:04:09.999925Z"
    }
   },
   "outputs": [
    {
     "data": {
      "text/plain": [
       "41.792122323837745"
      ]
     },
     "execution_count": 47,
     "metadata": {},
     "output_type": "execute_result"
    }
   ],
   "source": [
    "mape_mul_seas = MAPE(pred_mul_seas, Test['Sales'])\n",
    "mape_mul_seas"
   ]
  },
  {
   "cell_type": "markdown",
   "id": "a70f1bbc",
   "metadata": {},
   "source": [
    "### Multiplicative Additive Seasonality"
   ]
  },
  {
   "cell_type": "code",
   "execution_count": 48,
   "id": "281674e4",
   "metadata": {
    "ExecuteTime": {
     "end_time": "2023-01-24T16:04:48.836396Z",
     "start_time": "2023-01-24T16:04:48.797912Z"
    }
   },
   "outputs": [
    {
     "data": {
      "text/plain": [
       "38    4555.076459\n",
       "39    4224.164912\n",
       "40    3983.650878\n",
       "41    5074.659987\n",
       "dtype: float64"
      ]
     },
     "execution_count": 48,
     "metadata": {},
     "output_type": "execute_result"
    }
   ],
   "source": [
    "model_mul_add_seas = smf.ols(\"log_Sales~t+Apr+Jan+Jul+Oct\",data=Train).fit()\n",
    "pred_mul_add_seas = pd.Series(model_mul_add_seas.predict(pd.DataFrame(Test[[\"t\", 'Apr', 'Jan','Jul', 'Oct']])))\n",
    "pred_mul_add_seas = np.exp(pred_mul_add_seas)\n",
    "pred_mul_add_seas"
   ]
  },
  {
   "cell_type": "code",
   "execution_count": 49,
   "id": "957ae539",
   "metadata": {
    "ExecuteTime": {
     "end_time": "2023-01-24T16:05:17.725151Z",
     "start_time": "2023-01-24T16:05:17.702454Z"
    }
   },
   "outputs": [
    {
     "data": {
      "text/plain": [
       "225.5243905616964"
      ]
     },
     "execution_count": 49,
     "metadata": {},
     "output_type": "execute_result"
    }
   ],
   "source": [
    "rmse_mul_add_seas = RMSE(pred_mul_add_seas, Test['Sales'])\n",
    "rmse_mul_add_seas"
   ]
  },
  {
   "cell_type": "code",
   "execution_count": 50,
   "id": "7d927d4b",
   "metadata": {
    "ExecuteTime": {
     "end_time": "2023-01-24T16:05:26.409998Z",
     "start_time": "2023-01-24T16:05:26.386797Z"
    }
   },
   "outputs": [
    {
     "data": {
      "text/plain": [
       "4.46664082557404"
      ]
     },
     "execution_count": 50,
     "metadata": {},
     "output_type": "execute_result"
    }
   ],
   "source": [
    "mape_mul_add_seas = MAPE(pred_mul_add_seas, Test['Sales'])\n",
    "mape_mul_add_seas"
   ]
  },
  {
   "cell_type": "markdown",
   "id": "e3a6eab2",
   "metadata": {},
   "source": [
    "### Building models using Exponential Smoothing"
   ]
  },
  {
   "cell_type": "code",
   "execution_count": 51,
   "id": "1a6d7682",
   "metadata": {
    "ExecuteTime": {
     "end_time": "2023-01-24T16:05:54.136457Z",
     "start_time": "2023-01-24T16:05:53.982415Z"
    }
   },
   "outputs": [],
   "source": [
    "from statsmodels.tsa.holtwinters import SimpleExpSmoothing\n",
    "from statsmodels.tsa.holtwinters import Holt\n",
    "from statsmodels.tsa.holtwinters import ExponentialSmoothing"
   ]
  },
  {
   "cell_type": "markdown",
   "id": "892d0e48",
   "metadata": {},
   "source": [
    "### Simple Exponential method"
   ]
  },
  {
   "cell_type": "code",
   "execution_count": 52,
   "id": "02f1a10c",
   "metadata": {
    "ExecuteTime": {
     "end_time": "2023-01-24T16:06:41.440724Z",
     "start_time": "2023-01-24T16:06:41.416582Z"
    }
   },
   "outputs": [
    {
     "data": {
      "text/plain": [
       "38    4020.476392\n",
       "39    4020.476392\n",
       "40    4020.476392\n",
       "41    4020.476392\n",
       "dtype: float64"
      ]
     },
     "execution_count": 52,
     "metadata": {},
     "output_type": "execute_result"
    }
   ],
   "source": [
    "model_simple_expo = SimpleExpSmoothing(Train[\"Sales\"]).fit(smoothing_level=0.2)\n",
    "pred_simple_expo = model_simple_expo.predict(start=Test.index[0], end=Test.index[-1])\n",
    "pred_simple_expo"
   ]
  },
  {
   "cell_type": "code",
   "execution_count": 53,
   "id": "50c5634c",
   "metadata": {
    "ExecuteTime": {
     "end_time": "2023-01-24T16:07:02.074089Z",
     "start_time": "2023-01-24T16:07:02.058073Z"
    }
   },
   "outputs": [
    {
     "data": {
      "text/plain": [
       "776.4804297702906"
      ]
     },
     "execution_count": 53,
     "metadata": {},
     "output_type": "execute_result"
    }
   ],
   "source": [
    "rmse_simple_expo = RMSE(pred_simple_expo, Test['Sales'])\n",
    "rmse_simple_expo"
   ]
  },
  {
   "cell_type": "code",
   "execution_count": 54,
   "id": "3ce5a29f",
   "metadata": {
    "ExecuteTime": {
     "end_time": "2023-01-24T16:07:17.254708Z",
     "start_time": "2023-01-24T16:07:17.238243Z"
    }
   },
   "outputs": [
    {
     "data": {
      "text/plain": [
       "13.169736636848459"
      ]
     },
     "execution_count": 54,
     "metadata": {},
     "output_type": "execute_result"
    }
   ],
   "source": [
    "mape_simple_expo = MAPE(pred_simple_expo, Test['Sales'])\n",
    "mape_simple_expo"
   ]
  },
  {
   "cell_type": "markdown",
   "id": "616bf29f",
   "metadata": {},
   "source": [
    "### Holt method"
   ]
  },
  {
   "cell_type": "code",
   "execution_count": 55,
   "id": "a6d5e8dd",
   "metadata": {
    "ExecuteTime": {
     "end_time": "2023-01-24T16:07:42.538188Z",
     "start_time": "2023-01-24T16:07:42.508279Z"
    }
   },
   "outputs": [
    {
     "data": {
      "text/plain": [
       "38    4812.432088\n",
       "39    4978.272302\n",
       "40    5144.112516\n",
       "41    5309.952730\n",
       "dtype: float64"
      ]
     },
     "execution_count": 55,
     "metadata": {},
     "output_type": "execute_result"
    }
   ],
   "source": [
    "model_holt = Holt(Train[\"Sales\"]).fit(smoothing_trend=0.2)\n",
    "pred_holt = model_holt.predict(start=Test.index[0], end=Test.index[-1])\n",
    "pred_holt"
   ]
  },
  {
   "cell_type": "code",
   "execution_count": 56,
   "id": "905e0589",
   "metadata": {
    "ExecuteTime": {
     "end_time": "2023-01-24T16:07:51.631928Z",
     "start_time": "2023-01-24T16:07:51.615435Z"
    }
   },
   "outputs": [
    {
     "data": {
      "text/plain": [
       "576.4441015746713"
      ]
     },
     "execution_count": 56,
     "metadata": {},
     "output_type": "execute_result"
    }
   ],
   "source": [
    "rmse_holt = RMSE(pred_holt, Test['Sales'])\n",
    "rmse_holt"
   ]
  },
  {
   "cell_type": "code",
   "execution_count": 57,
   "id": "ae9df88c",
   "metadata": {
    "ExecuteTime": {
     "end_time": "2023-01-24T16:08:01.419681Z",
     "start_time": "2023-01-24T16:08:01.408167Z"
    }
   },
   "outputs": [
    {
     "data": {
      "text/plain": [
       "10.079277338100669"
      ]
     },
     "execution_count": 57,
     "metadata": {},
     "output_type": "execute_result"
    }
   ],
   "source": [
    "mape_holt = MAPE(pred_holt, Test['Sales'])\n",
    "mape_holt"
   ]
  },
  {
   "cell_type": "markdown",
   "id": "a4973f05",
   "metadata": {},
   "source": [
    "#### Holts winter exponential smoothing with multiplicative seasonality and additive trend"
   ]
  },
  {
   "cell_type": "code",
   "execution_count": 58,
   "id": "4809a279",
   "metadata": {
    "ExecuteTime": {
     "end_time": "2023-01-24T16:08:32.293635Z",
     "start_time": "2023-01-24T16:08:32.131619Z"
    }
   },
   "outputs": [
    {
     "data": {
      "text/plain": [
       "38    4949.446603\n",
       "39    4505.531816\n",
       "40    4016.556359\n",
       "41    5139.110049\n",
       "dtype: float64"
      ]
     },
     "execution_count": 58,
     "metadata": {},
     "output_type": "execute_result"
    }
   ],
   "source": [
    "model_holt_expo = ExponentialSmoothing(Train[\"Sales\"], seasonal=\"mul\", trend=\"add\", seasonal_periods=12).fit()\n",
    "pred_holt_expo = model_holt_expo.predict(start=Test.index[0], end=Test.index[-1])\n",
    "pred_holt_expo"
   ]
  },
  {
   "cell_type": "code",
   "execution_count": 59,
   "id": "7afd2a07",
   "metadata": {
    "ExecuteTime": {
     "end_time": "2023-01-24T16:09:21.749574Z",
     "start_time": "2023-01-24T16:09:21.735407Z"
    }
   },
   "outputs": [
    {
     "data": {
      "text/plain": [
       "138.91438630105972"
      ]
     },
     "execution_count": 59,
     "metadata": {},
     "output_type": "execute_result"
    }
   ],
   "source": [
    "rmse_holt_expo = RMSE(pred_holt_expo, Test['Sales'])\n",
    "rmse_holt_expo"
   ]
  },
  {
   "cell_type": "code",
   "execution_count": 60,
   "id": "79217e9d",
   "metadata": {
    "ExecuteTime": {
     "end_time": "2023-01-24T16:09:31.141589Z",
     "start_time": "2023-01-24T16:09:31.118269Z"
    }
   },
   "outputs": [
    {
     "data": {
      "text/plain": [
       "2.8732715281561667"
      ]
     },
     "execution_count": 60,
     "metadata": {},
     "output_type": "execute_result"
    }
   ],
   "source": [
    "mape_holt_expo = MAPE(pred_holt_expo, Test['Sales'])\n",
    "mape_holt_expo"
   ]
  },
  {
   "cell_type": "markdown",
   "id": "7388704b",
   "metadata": {},
   "source": [
    "### ARIMA model"
   ]
  },
  {
   "cell_type": "code",
   "execution_count": 61,
   "id": "781b6d8a",
   "metadata": {
    "ExecuteTime": {
     "end_time": "2023-01-24T16:09:58.128301Z",
     "start_time": "2023-01-24T16:09:57.477440Z"
    }
   },
   "outputs": [],
   "source": [
    "from math import sqrt\n",
    "from pandas import read_csv\n",
    "from sklearn.metrics import mean_squared_error\n",
    "from statsmodels.tsa.arima_model import ARIMA"
   ]
  },
  {
   "cell_type": "markdown",
   "id": "3dd76cef",
   "metadata": {},
   "source": [
    "### Making Data Stationary"
   ]
  },
  {
   "cell_type": "code",
   "execution_count": 62,
   "id": "42269075",
   "metadata": {
    "ExecuteTime": {
     "end_time": "2023-01-24T16:10:20.520934Z",
     "start_time": "2023-01-24T16:10:20.479552Z"
    }
   },
   "outputs": [
    {
     "data": {
      "text/html": [
       "<div>\n",
       "<style scoped>\n",
       "    .dataframe tbody tr th:only-of-type {\n",
       "        vertical-align: middle;\n",
       "    }\n",
       "\n",
       "    .dataframe tbody tr th {\n",
       "        vertical-align: top;\n",
       "    }\n",
       "\n",
       "    .dataframe thead th {\n",
       "        text-align: right;\n",
       "    }\n",
       "</style>\n",
       "<table border=\"1\" class=\"dataframe\">\n",
       "  <thead>\n",
       "    <tr style=\"text-align: right;\">\n",
       "      <th></th>\n",
       "      <th>Sales</th>\n",
       "    </tr>\n",
       "    <tr>\n",
       "      <th>Date</th>\n",
       "      <th></th>\n",
       "    </tr>\n",
       "  </thead>\n",
       "  <tbody>\n",
       "    <tr>\n",
       "      <th>1986-01-01</th>\n",
       "      <td>1734.827000</td>\n",
       "    </tr>\n",
       "    <tr>\n",
       "      <th>1986-04-01</th>\n",
       "      <td>2244.960999</td>\n",
       "    </tr>\n",
       "    <tr>\n",
       "      <th>1986-07-01</th>\n",
       "      <td>2533.804993</td>\n",
       "    </tr>\n",
       "    <tr>\n",
       "      <th>1986-10-01</th>\n",
       "      <td>2154.962997</td>\n",
       "    </tr>\n",
       "    <tr>\n",
       "      <th>1987-01-01</th>\n",
       "      <td>1547.818996</td>\n",
       "    </tr>\n",
       "  </tbody>\n",
       "</table>\n",
       "</div>"
      ],
      "text/plain": [
       "                  Sales\n",
       "Date                   \n",
       "1986-01-01  1734.827000\n",
       "1986-04-01  2244.960999\n",
       "1986-07-01  2533.804993\n",
       "1986-10-01  2154.962997\n",
       "1987-01-01  1547.818996"
      ]
     },
     "execution_count": 62,
     "metadata": {},
     "output_type": "execute_result"
    }
   ],
   "source": [
    "data2 = data1[[\"Date\", \"Sales\"]]\n",
    "data2.to_csv(\"data3.csv\", index=False)\n",
    "series = read_csv(\"data3.csv\", index_col=0)\n",
    "series.head()"
   ]
  },
  {
   "cell_type": "code",
   "execution_count": 63,
   "id": "e4b49462",
   "metadata": {
    "ExecuteTime": {
     "end_time": "2023-01-24T16:10:28.843150Z",
     "start_time": "2023-01-24T16:10:28.655234Z"
    }
   },
   "outputs": [
    {
     "data": {
      "text/plain": [
       "<AxesSubplot: xlabel='Date'>"
      ]
     },
     "execution_count": 63,
     "metadata": {},
     "output_type": "execute_result"
    },
    {
     "data": {
      "image/png": "[encoded data removed]",
      "text/plain": [
       "<Figure size 640x480 with 1 Axes>"
      ]
     },
     "metadata": {},
     "output_type": "display_data"
    }
   ],
   "source": [
    "series.plot()"
   ]
  },
  {
   "cell_type": "markdown",
   "id": "e78f6551",
   "metadata": {},
   "source": [
    "### Evaluation of Stationary Data"
   ]
  },
  {
   "cell_type": "code",
   "execution_count": 64,
   "id": "e64acd78",
   "metadata": {
    "ExecuteTime": {
     "end_time": "2023-01-24T16:10:58.758626Z",
     "start_time": "2023-01-24T16:10:58.743121Z"
    }
   },
   "outputs": [],
   "source": [
    "from statsmodels.tsa.stattools import adfuller\n",
    "test_result=adfuller(series['Sales'])"
   ]
  },
  {
   "cell_type": "markdown",
   "id": "0f4d562a",
   "metadata": {},
   "source": [
    "#### Ho: It is non stationary.\n",
    "\n",
    "H1: It is stationary."
   ]
  },
  {
   "cell_type": "code",
   "execution_count": 65,
   "id": "088e0283",
   "metadata": {
    "ExecuteTime": {
     "end_time": "2023-01-24T16:11:35.812310Z",
     "start_time": "2023-01-24T16:11:35.796120Z"
    }
   },
   "outputs": [],
   "source": [
    "def adfuller_test(Sales):\n",
    "    result=adfuller(Sales)\n",
    "    labels = ['ADF Test Statistic','p-value','#Lags Used','Number of Observations Used']\n",
    "    for value,label in zip(result,labels):\n",
    "        print(label+' : '+str(value) )\n",
    "    if result[1] <= 0.05:\n",
    "        print(\"strong evidence against the null hypothesis(Ho), reject the null hypothesis. Data has no unit root and is stationary\")\n",
    "    else:\n",
    "        print(\"weak evidence against null hypothesis, time series has a unit root, indicating it is non-stationary \")"
   ]
  },
  {
   "cell_type": "code",
   "execution_count": 66,
   "id": "aa01d8a8",
   "metadata": {
    "ExecuteTime": {
     "end_time": "2023-01-24T16:11:45.684758Z",
     "start_time": "2023-01-24T16:11:45.652347Z"
    }
   },
   "outputs": [
    {
     "name": "stdout",
     "output_type": "stream",
     "text": [
      "ADF Test Statistic : 1.309421018061353\n",
      "p-value : 0.9966611674081021\n",
      "#Lags Used : 7\n",
      "Number of Observations Used : 34\n",
      "weak evidence against null hypothesis, time series has a unit root, indicating it is non-stationary \n"
     ]
    }
   ],
   "source": [
    "adfuller_test(series['Sales'])"
   ]
  },
  {
   "cell_type": "markdown",
   "id": "70fce60e",
   "metadata": {},
   "source": [
    "### Log Transform"
   ]
  },
  {
   "cell_type": "code",
   "execution_count": 67,
   "id": "6fc11faf",
   "metadata": {
    "ExecuteTime": {
     "end_time": "2023-01-24T16:12:08.747780Z",
     "start_time": "2023-01-24T16:12:08.730158Z"
    }
   },
   "outputs": [
    {
     "data": {
      "text/html": [
       "<div>\n",
       "<style scoped>\n",
       "    .dataframe tbody tr th:only-of-type {\n",
       "        vertical-align: middle;\n",
       "    }\n",
       "\n",
       "    .dataframe tbody tr th {\n",
       "        vertical-align: top;\n",
       "    }\n",
       "\n",
       "    .dataframe thead th {\n",
       "        text-align: right;\n",
       "    }\n",
       "</style>\n",
       "<table border=\"1\" class=\"dataframe\">\n",
       "  <thead>\n",
       "    <tr style=\"text-align: right;\">\n",
       "      <th></th>\n",
       "      <th>Sales</th>\n",
       "      <th>log_Sales</th>\n",
       "    </tr>\n",
       "    <tr>\n",
       "      <th>Date</th>\n",
       "      <th></th>\n",
       "      <th></th>\n",
       "    </tr>\n",
       "  </thead>\n",
       "  <tbody>\n",
       "    <tr>\n",
       "      <th>1986-01-01</th>\n",
       "      <td>1734.827000</td>\n",
       "      <td>7.458663</td>\n",
       "    </tr>\n",
       "    <tr>\n",
       "      <th>1986-04-01</th>\n",
       "      <td>2244.960999</td>\n",
       "      <td>7.716443</td>\n",
       "    </tr>\n",
       "    <tr>\n",
       "      <th>1986-07-01</th>\n",
       "      <td>2533.804993</td>\n",
       "      <td>7.837477</td>\n",
       "    </tr>\n",
       "    <tr>\n",
       "      <th>1986-10-01</th>\n",
       "      <td>2154.962997</td>\n",
       "      <td>7.675529</td>\n",
       "    </tr>\n",
       "    <tr>\n",
       "      <th>1987-01-01</th>\n",
       "      <td>1547.818996</td>\n",
       "      <td>7.344602</td>\n",
       "    </tr>\n",
       "  </tbody>\n",
       "</table>\n",
       "</div>"
      ],
      "text/plain": [
       "                  Sales  log_Sales\n",
       "Date                              \n",
       "1986-01-01  1734.827000   7.458663\n",
       "1986-04-01  2244.960999   7.716443\n",
       "1986-07-01  2533.804993   7.837477\n",
       "1986-10-01  2154.962997   7.675529\n",
       "1987-01-01  1547.818996   7.344602"
      ]
     },
     "execution_count": 67,
     "metadata": {},
     "output_type": "execute_result"
    }
   ],
   "source": [
    "series['log_Sales'] = np.log(series['Sales'])\n",
    "series.head()"
   ]
  },
  {
   "cell_type": "code",
   "execution_count": 68,
   "id": "f5b7143f",
   "metadata": {
    "ExecuteTime": {
     "end_time": "2023-01-24T16:12:17.542943Z",
     "start_time": "2023-01-24T16:12:17.518912Z"
    }
   },
   "outputs": [
    {
     "name": "stdout",
     "output_type": "stream",
     "text": [
      "ADF Test Statistic : 0.19282044038831356\n",
      "p-value : 0.9718560272326249\n",
      "#Lags Used : 6\n",
      "Number of Observations Used : 35\n",
      "weak evidence against null hypothesis, time series has a unit root, indicating it is non-stationary \n"
     ]
    }
   ],
   "source": [
    "adfuller_test(series['log_Sales'])"
   ]
  },
  {
   "cell_type": "markdown",
   "id": "3f83e0e7",
   "metadata": {},
   "source": [
    "### Square Root Transform"
   ]
  },
  {
   "cell_type": "code",
   "execution_count": 69,
   "id": "e5d7bd66",
   "metadata": {
    "ExecuteTime": {
     "end_time": "2023-01-24T16:12:54.580485Z",
     "start_time": "2023-01-24T16:12:54.556050Z"
    }
   },
   "outputs": [
    {
     "data": {
      "text/html": [
       "<div>\n",
       "<style scoped>\n",
       "    .dataframe tbody tr th:only-of-type {\n",
       "        vertical-align: middle;\n",
       "    }\n",
       "\n",
       "    .dataframe tbody tr th {\n",
       "        vertical-align: top;\n",
       "    }\n",
       "\n",
       "    .dataframe thead th {\n",
       "        text-align: right;\n",
       "    }\n",
       "</style>\n",
       "<table border=\"1\" class=\"dataframe\">\n",
       "  <thead>\n",
       "    <tr style=\"text-align: right;\">\n",
       "      <th></th>\n",
       "      <th>Sales</th>\n",
       "      <th>log_Sales</th>\n",
       "      <th>sqrt_Sales</th>\n",
       "    </tr>\n",
       "    <tr>\n",
       "      <th>Date</th>\n",
       "      <th></th>\n",
       "      <th></th>\n",
       "      <th></th>\n",
       "    </tr>\n",
       "  </thead>\n",
       "  <tbody>\n",
       "    <tr>\n",
       "      <th>1986-01-01</th>\n",
       "      <td>1734.827000</td>\n",
       "      <td>7.458663</td>\n",
       "      <td>41.651254</td>\n",
       "    </tr>\n",
       "    <tr>\n",
       "      <th>1986-04-01</th>\n",
       "      <td>2244.960999</td>\n",
       "      <td>7.716443</td>\n",
       "      <td>47.381019</td>\n",
       "    </tr>\n",
       "    <tr>\n",
       "      <th>1986-07-01</th>\n",
       "      <td>2533.804993</td>\n",
       "      <td>7.837477</td>\n",
       "      <td>50.336915</td>\n",
       "    </tr>\n",
       "    <tr>\n",
       "      <th>1986-10-01</th>\n",
       "      <td>2154.962997</td>\n",
       "      <td>7.675529</td>\n",
       "      <td>46.421579</td>\n",
       "    </tr>\n",
       "    <tr>\n",
       "      <th>1987-01-01</th>\n",
       "      <td>1547.818996</td>\n",
       "      <td>7.344602</td>\n",
       "      <td>39.342331</td>\n",
       "    </tr>\n",
       "  </tbody>\n",
       "</table>\n",
       "</div>"
      ],
      "text/plain": [
       "                  Sales  log_Sales  sqrt_Sales\n",
       "Date                                          \n",
       "1986-01-01  1734.827000   7.458663   41.651254\n",
       "1986-04-01  2244.960999   7.716443   47.381019\n",
       "1986-07-01  2533.804993   7.837477   50.336915\n",
       "1986-10-01  2154.962997   7.675529   46.421579\n",
       "1987-01-01  1547.818996   7.344602   39.342331"
      ]
     },
     "execution_count": 69,
     "metadata": {},
     "output_type": "execute_result"
    }
   ],
   "source": [
    "series['sqrt_Sales'] = np.sqrt(series['Sales'])\n",
    "series.head()"
   ]
  },
  {
   "cell_type": "code",
   "execution_count": 70,
   "id": "0303fb52",
   "metadata": {
    "ExecuteTime": {
     "end_time": "2023-01-24T16:13:07.586442Z",
     "start_time": "2023-01-24T16:13:07.557150Z"
    }
   },
   "outputs": [
    {
     "name": "stdout",
     "output_type": "stream",
     "text": [
      "ADF Test Statistic : 0.8285941170578776\n",
      "p-value : 0.9920839872020732\n",
      "#Lags Used : 6\n",
      "Number of Observations Used : 35\n",
      "weak evidence against null hypothesis, time series has a unit root, indicating it is non-stationary \n"
     ]
    }
   ],
   "source": [
    "adfuller_test(series['sqrt_Sales'])"
   ]
  },
  {
   "cell_type": "markdown",
   "id": "030c801b",
   "metadata": {},
   "source": [
    "### Combination of SQRT and LOG Transform"
   ]
  },
  {
   "cell_type": "code",
   "execution_count": 71,
   "id": "4a3399d0",
   "metadata": {
    "ExecuteTime": {
     "end_time": "2023-01-24T16:13:30.738127Z",
     "start_time": "2023-01-24T16:13:30.726164Z"
    }
   },
   "outputs": [
    {
     "data": {
      "text/html": [
       "<div>\n",
       "<style scoped>\n",
       "    .dataframe tbody tr th:only-of-type {\n",
       "        vertical-align: middle;\n",
       "    }\n",
       "\n",
       "    .dataframe tbody tr th {\n",
       "        vertical-align: top;\n",
       "    }\n",
       "\n",
       "    .dataframe thead th {\n",
       "        text-align: right;\n",
       "    }\n",
       "</style>\n",
       "<table border=\"1\" class=\"dataframe\">\n",
       "  <thead>\n",
       "    <tr style=\"text-align: right;\">\n",
       "      <th></th>\n",
       "      <th>Sales</th>\n",
       "      <th>log_Sales</th>\n",
       "      <th>sqrt_Sales</th>\n",
       "      <th>comb_Sales</th>\n",
       "    </tr>\n",
       "    <tr>\n",
       "      <th>Date</th>\n",
       "      <th></th>\n",
       "      <th></th>\n",
       "      <th></th>\n",
       "      <th></th>\n",
       "    </tr>\n",
       "  </thead>\n",
       "  <tbody>\n",
       "    <tr>\n",
       "      <th>1986-01-01</th>\n",
       "      <td>1734.827000</td>\n",
       "      <td>7.458663</td>\n",
       "      <td>41.651254</td>\n",
       "      <td>2.731055</td>\n",
       "    </tr>\n",
       "    <tr>\n",
       "      <th>1986-04-01</th>\n",
       "      <td>2244.960999</td>\n",
       "      <td>7.716443</td>\n",
       "      <td>47.381019</td>\n",
       "      <td>2.777849</td>\n",
       "    </tr>\n",
       "    <tr>\n",
       "      <th>1986-07-01</th>\n",
       "      <td>2533.804993</td>\n",
       "      <td>7.837477</td>\n",
       "      <td>50.336915</td>\n",
       "      <td>2.799549</td>\n",
       "    </tr>\n",
       "    <tr>\n",
       "      <th>1986-10-01</th>\n",
       "      <td>2154.962997</td>\n",
       "      <td>7.675529</td>\n",
       "      <td>46.421579</td>\n",
       "      <td>2.770474</td>\n",
       "    </tr>\n",
       "    <tr>\n",
       "      <th>1987-01-01</th>\n",
       "      <td>1547.818996</td>\n",
       "      <td>7.344602</td>\n",
       "      <td>39.342331</td>\n",
       "      <td>2.710093</td>\n",
       "    </tr>\n",
       "  </tbody>\n",
       "</table>\n",
       "</div>"
      ],
      "text/plain": [
       "                  Sales  log_Sales  sqrt_Sales  comb_Sales\n",
       "Date                                                      \n",
       "1986-01-01  1734.827000   7.458663   41.651254    2.731055\n",
       "1986-04-01  2244.960999   7.716443   47.381019    2.777849\n",
       "1986-07-01  2533.804993   7.837477   50.336915    2.799549\n",
       "1986-10-01  2154.962997   7.675529   46.421579    2.770474\n",
       "1987-01-01  1547.818996   7.344602   39.342331    2.710093"
      ]
     },
     "execution_count": 71,
     "metadata": {},
     "output_type": "execute_result"
    }
   ],
   "source": [
    "from numpy import sqrt\n",
    "from numpy import log\n",
    "\n",
    "series['comb_Sales'] = sqrt(log(series['Sales']))\n",
    "series.head()"
   ]
  },
  {
   "cell_type": "code",
   "execution_count": 72,
   "id": "850a599c",
   "metadata": {
    "ExecuteTime": {
     "end_time": "2023-01-24T16:13:40.307538Z",
     "start_time": "2023-01-24T16:13:40.275427Z"
    }
   },
   "outputs": [
    {
     "name": "stdout",
     "output_type": "stream",
     "text": [
      "ADF Test Statistic : 0.10566372750551814\n",
      "p-value : 0.9664456623872839\n",
      "#Lags Used : 6\n",
      "Number of Observations Used : 35\n",
      "weak evidence against null hypothesis, time series has a unit root, indicating it is non-stationary \n"
     ]
    }
   ],
   "source": [
    "adfuller_test(series['comb_Sales'])"
   ]
  },
  {
   "cell_type": "markdown",
   "id": "0b9a7302",
   "metadata": {},
   "source": [
    "### Differencing"
   ]
  },
  {
   "cell_type": "code",
   "execution_count": 73,
   "id": "f2f3c27f",
   "metadata": {
    "ExecuteTime": {
     "end_time": "2023-01-24T16:14:01.700182Z",
     "start_time": "2023-01-24T16:14:01.677874Z"
    }
   },
   "outputs": [
    {
     "data": {
      "text/html": [
       "<div>\n",
       "<style scoped>\n",
       "    .dataframe tbody tr th:only-of-type {\n",
       "        vertical-align: middle;\n",
       "    }\n",
       "\n",
       "    .dataframe tbody tr th {\n",
       "        vertical-align: top;\n",
       "    }\n",
       "\n",
       "    .dataframe thead th {\n",
       "        text-align: right;\n",
       "    }\n",
       "</style>\n",
       "<table border=\"1\" class=\"dataframe\">\n",
       "  <thead>\n",
       "    <tr style=\"text-align: right;\">\n",
       "      <th></th>\n",
       "      <th>Sales</th>\n",
       "      <th>log_Sales</th>\n",
       "      <th>sqrt_Sales</th>\n",
       "      <th>comb_Sales</th>\n",
       "      <th>Seasonal_Difference</th>\n",
       "    </tr>\n",
       "    <tr>\n",
       "      <th>Date</th>\n",
       "      <th></th>\n",
       "      <th></th>\n",
       "      <th></th>\n",
       "      <th></th>\n",
       "      <th></th>\n",
       "    </tr>\n",
       "  </thead>\n",
       "  <tbody>\n",
       "    <tr>\n",
       "      <th>1986-01-01</th>\n",
       "      <td>1734.827000</td>\n",
       "      <td>7.458663</td>\n",
       "      <td>41.651254</td>\n",
       "      <td>2.731055</td>\n",
       "      <td>NaN</td>\n",
       "    </tr>\n",
       "    <tr>\n",
       "      <th>1986-04-01</th>\n",
       "      <td>2244.960999</td>\n",
       "      <td>7.716443</td>\n",
       "      <td>47.381019</td>\n",
       "      <td>2.777849</td>\n",
       "      <td>NaN</td>\n",
       "    </tr>\n",
       "    <tr>\n",
       "      <th>1986-07-01</th>\n",
       "      <td>2533.804993</td>\n",
       "      <td>7.837477</td>\n",
       "      <td>50.336915</td>\n",
       "      <td>2.799549</td>\n",
       "      <td>NaN</td>\n",
       "    </tr>\n",
       "    <tr>\n",
       "      <th>1986-10-01</th>\n",
       "      <td>2154.962997</td>\n",
       "      <td>7.675529</td>\n",
       "      <td>46.421579</td>\n",
       "      <td>2.770474</td>\n",
       "      <td>NaN</td>\n",
       "    </tr>\n",
       "    <tr>\n",
       "      <th>1987-01-01</th>\n",
       "      <td>1547.818996</td>\n",
       "      <td>7.344602</td>\n",
       "      <td>39.342331</td>\n",
       "      <td>2.710093</td>\n",
       "      <td>-187.008004</td>\n",
       "    </tr>\n",
       "    <tr>\n",
       "      <th>1987-04-01</th>\n",
       "      <td>2104.411995</td>\n",
       "      <td>7.651791</td>\n",
       "      <td>45.873871</td>\n",
       "      <td>2.766187</td>\n",
       "      <td>-140.549004</td>\n",
       "    </tr>\n",
       "  </tbody>\n",
       "</table>\n",
       "</div>"
      ],
      "text/plain": [
       "                  Sales  log_Sales  sqrt_Sales  comb_Sales  \\\n",
       "Date                                                         \n",
       "1986-01-01  1734.827000   7.458663   41.651254    2.731055   \n",
       "1986-04-01  2244.960999   7.716443   47.381019    2.777849   \n",
       "1986-07-01  2533.804993   7.837477   50.336915    2.799549   \n",
       "1986-10-01  2154.962997   7.675529   46.421579    2.770474   \n",
       "1987-01-01  1547.818996   7.344602   39.342331    2.710093   \n",
       "1987-04-01  2104.411995   7.651791   45.873871    2.766187   \n",
       "\n",
       "            Seasonal_Difference  \n",
       "Date                             \n",
       "1986-01-01                  NaN  \n",
       "1986-04-01                  NaN  \n",
       "1986-07-01                  NaN  \n",
       "1986-10-01                  NaN  \n",
       "1987-01-01          -187.008004  \n",
       "1987-04-01          -140.549004  "
      ]
     },
     "execution_count": 73,
     "metadata": {},
     "output_type": "execute_result"
    }
   ],
   "source": [
    "series['Seasonal_Difference']=series['Sales']-series['Sales'].shift(4)\n",
    "series.head(6)"
   ]
  },
  {
   "cell_type": "code",
   "execution_count": 74,
   "id": "16e0b6ad",
   "metadata": {
    "ExecuteTime": {
     "end_time": "2023-01-24T16:14:11.048822Z",
     "start_time": "2023-01-24T16:14:11.016537Z"
    }
   },
   "outputs": [
    {
     "name": "stdout",
     "output_type": "stream",
     "text": [
      "ADF Test Statistic : -2.610111750134367\n",
      "p-value : 0.09092533175538114\n",
      "#Lags Used : 0\n",
      "Number of Observations Used : 37\n",
      "weak evidence against null hypothesis, time series has a unit root, indicating it is non-stationary \n"
     ]
    }
   ],
   "source": [
    "adfuller_test(series['Seasonal_Difference'].dropna())"
   ]
  },
  {
   "cell_type": "markdown",
   "id": "3d28b196",
   "metadata": {},
   "source": [
    "### Combination of Log Transform with Differencing"
   ]
  },
  {
   "cell_type": "code",
   "execution_count": 75,
   "id": "8c01bcbe",
   "metadata": {
    "ExecuteTime": {
     "end_time": "2023-01-24T16:14:41.986281Z",
     "start_time": "2023-01-24T16:14:41.953789Z"
    }
   },
   "outputs": [
    {
     "data": {
      "text/html": [
       "<div>\n",
       "<style scoped>\n",
       "    .dataframe tbody tr th:only-of-type {\n",
       "        vertical-align: middle;\n",
       "    }\n",
       "\n",
       "    .dataframe tbody tr th {\n",
       "        vertical-align: top;\n",
       "    }\n",
       "\n",
       "    .dataframe thead th {\n",
       "        text-align: right;\n",
       "    }\n",
       "</style>\n",
       "<table border=\"1\" class=\"dataframe\">\n",
       "  <thead>\n",
       "    <tr style=\"text-align: right;\">\n",
       "      <th></th>\n",
       "      <th>Sales</th>\n",
       "      <th>log_Sales</th>\n",
       "      <th>sqrt_Sales</th>\n",
       "      <th>comb_Sales</th>\n",
       "      <th>Seasonal_Difference</th>\n",
       "      <th>log_Sales_Difference</th>\n",
       "    </tr>\n",
       "    <tr>\n",
       "      <th>Date</th>\n",
       "      <th></th>\n",
       "      <th></th>\n",
       "      <th></th>\n",
       "      <th></th>\n",
       "      <th></th>\n",
       "      <th></th>\n",
       "    </tr>\n",
       "  </thead>\n",
       "  <tbody>\n",
       "    <tr>\n",
       "      <th>1986-01-01</th>\n",
       "      <td>1734.827000</td>\n",
       "      <td>7.458663</td>\n",
       "      <td>41.651254</td>\n",
       "      <td>2.731055</td>\n",
       "      <td>NaN</td>\n",
       "      <td>NaN</td>\n",
       "    </tr>\n",
       "    <tr>\n",
       "      <th>1986-04-01</th>\n",
       "      <td>2244.960999</td>\n",
       "      <td>7.716443</td>\n",
       "      <td>47.381019</td>\n",
       "      <td>2.777849</td>\n",
       "      <td>NaN</td>\n",
       "      <td>NaN</td>\n",
       "    </tr>\n",
       "    <tr>\n",
       "      <th>1986-07-01</th>\n",
       "      <td>2533.804993</td>\n",
       "      <td>7.837477</td>\n",
       "      <td>50.336915</td>\n",
       "      <td>2.799549</td>\n",
       "      <td>NaN</td>\n",
       "      <td>NaN</td>\n",
       "    </tr>\n",
       "    <tr>\n",
       "      <th>1986-10-01</th>\n",
       "      <td>2154.962997</td>\n",
       "      <td>7.675529</td>\n",
       "      <td>46.421579</td>\n",
       "      <td>2.770474</td>\n",
       "      <td>NaN</td>\n",
       "      <td>NaN</td>\n",
       "    </tr>\n",
       "    <tr>\n",
       "      <th>1987-01-01</th>\n",
       "      <td>1547.818996</td>\n",
       "      <td>7.344602</td>\n",
       "      <td>39.342331</td>\n",
       "      <td>2.710093</td>\n",
       "      <td>-187.008004</td>\n",
       "      <td>-0.114061</td>\n",
       "    </tr>\n",
       "    <tr>\n",
       "      <th>1987-04-01</th>\n",
       "      <td>2104.411995</td>\n",
       "      <td>7.651791</td>\n",
       "      <td>45.873871</td>\n",
       "      <td>2.766187</td>\n",
       "      <td>-140.549004</td>\n",
       "      <td>-0.064652</td>\n",
       "    </tr>\n",
       "  </tbody>\n",
       "</table>\n",
       "</div>"
      ],
      "text/plain": [
       "                  Sales  log_Sales  sqrt_Sales  comb_Sales  \\\n",
       "Date                                                         \n",
       "1986-01-01  1734.827000   7.458663   41.651254    2.731055   \n",
       "1986-04-01  2244.960999   7.716443   47.381019    2.777849   \n",
       "1986-07-01  2533.804993   7.837477   50.336915    2.799549   \n",
       "1986-10-01  2154.962997   7.675529   46.421579    2.770474   \n",
       "1987-01-01  1547.818996   7.344602   39.342331    2.710093   \n",
       "1987-04-01  2104.411995   7.651791   45.873871    2.766187   \n",
       "\n",
       "            Seasonal_Difference  log_Sales_Difference  \n",
       "Date                                                   \n",
       "1986-01-01                  NaN                   NaN  \n",
       "1986-04-01                  NaN                   NaN  \n",
       "1986-07-01                  NaN                   NaN  \n",
       "1986-10-01                  NaN                   NaN  \n",
       "1987-01-01          -187.008004             -0.114061  \n",
       "1987-04-01          -140.549004             -0.064652  "
      ]
     },
     "execution_count": 75,
     "metadata": {},
     "output_type": "execute_result"
    }
   ],
   "source": [
    "series['log_Sales_Difference']=series['log_Sales']-series['log_Sales'].shift(4)\n",
    "series.head(6)"
   ]
  },
  {
   "cell_type": "code",
   "execution_count": 76,
   "id": "1eea48af",
   "metadata": {
    "ExecuteTime": {
     "end_time": "2023-01-24T16:14:55.186268Z",
     "start_time": "2023-01-24T16:14:55.153638Z"
    }
   },
   "outputs": [
    {
     "name": "stdout",
     "output_type": "stream",
     "text": [
      "ADF Test Statistic : -5.23854570022284\n",
      "p-value : 7.331185974954785e-06\n",
      "#Lags Used : 2\n",
      "Number of Observations Used : 35\n",
      "strong evidence against the null hypothesis(Ho), reject the null hypothesis. Data has no unit root and is stationary\n"
     ]
    }
   ],
   "source": [
    "adfuller_test(series['log_Sales_Difference'].dropna())"
   ]
  },
  {
   "cell_type": "code",
   "execution_count": 77,
   "id": "c85a1be3",
   "metadata": {
    "ExecuteTime": {
     "end_time": "2023-01-24T16:15:04.931986Z",
     "start_time": "2023-01-24T16:15:04.183243Z"
    }
   },
   "outputs": [
    {
     "data": {
      "image/png": "[encoded data removed]",
      "text/plain": [
       "<Figure size 640x480 with 1 Axes>"
      ]
     },
     "metadata": {},
     "output_type": "display_data"
    }
   ],
   "source": [
    "plt.plot(series['log_Sales_Difference'])\n",
    "plt.show()"
   ]
  },
  {
   "cell_type": "markdown",
   "id": "f1d00a1a",
   "metadata": {},
   "source": [
    "### Splitting Data"
   ]
  },
  {
   "cell_type": "code",
   "execution_count": 78,
   "id": "b615be08",
   "metadata": {
    "ExecuteTime": {
     "end_time": "2023-01-24T16:15:29.907906Z",
     "start_time": "2023-01-24T16:15:29.886844Z"
    }
   },
   "outputs": [
    {
     "name": "stdout",
     "output_type": "stream",
     "text": [
      "dataset 38, validation 4\n"
     ]
    }
   ],
   "source": [
    "series1 = read_csv(\"data3.csv\", index_col=0)\n",
    "split_point = len(series1)-4\n",
    "dataset, validation = series1[0:split_point], series1[split_point:]\n",
    "print(\"dataset %d, validation %d\" % (len(dataset), len(validation)))"
   ]
  },
  {
   "cell_type": "code",
   "execution_count": 79,
   "id": "3d11345f",
   "metadata": {
    "ExecuteTime": {
     "end_time": "2023-01-24T16:15:38.632625Z",
     "start_time": "2023-01-24T16:15:38.617250Z"
    }
   },
   "outputs": [],
   "source": [
    "dataset.to_csv(\"dataset.csv\", header=False)\n",
    "validation.to_csv(\"validation.csv\", header=False)"
   ]
  },
  {
   "cell_type": "markdown",
   "id": "0b648107",
   "metadata": {},
   "source": [
    "### Persistence/ Base model"
   ]
  },
  {
   "cell_type": "code",
   "execution_count": 80,
   "id": "81ec8070",
   "metadata": {
    "ExecuteTime": {
     "end_time": "2023-01-24T16:16:03.346688Z",
     "start_time": "2023-01-24T16:16:03.323338Z"
    }
   },
   "outputs": [],
   "source": [
    "train = read_csv(\"dataset.csv\", header=None, index_col=0, parse_dates=True, squeeze=True)\n",
    "\n",
    "X = train.values\n",
    "X = X.astype(\"float32\")\n",
    "train_size = int(len(X) * 0.50)\n",
    "train, test = X[0:train_size], X[train_size:]"
   ]
  },
  {
   "cell_type": "code",
   "execution_count": 81,
   "id": "faf9cec3",
   "metadata": {
    "ExecuteTime": {
     "end_time": "2023-01-24T16:16:11.018778Z",
     "start_time": "2023-01-24T16:16:11.002131Z"
    }
   },
   "outputs": [
    {
     "name": "stdout",
     "output_type": "stream",
     "text": [
      ">Predicted=2792.754, Expected=2556.010\n",
      ">Predicted=2556.010, Expected=2480.974\n",
      ">Predicted=2480.974, Expected=3039.523\n",
      ">Predicted=3039.523, Expected=3172.116\n",
      ">Predicted=3172.116, Expected=2879.001\n",
      ">Predicted=2879.001, Expected=2772.000\n",
      ">Predicted=2772.000, Expected=3550.000\n",
      ">Predicted=3550.000, Expected=3508.000\n",
      ">Predicted=3508.000, Expected=3243.860\n",
      ">Predicted=3243.860, Expected=3056.000\n",
      ">Predicted=3056.000, Expected=3899.000\n",
      ">Predicted=3899.000, Expected=3629.000\n",
      ">Predicted=3629.000, Expected=3373.000\n",
      ">Predicted=3373.000, Expected=3352.000\n",
      ">Predicted=3352.000, Expected=4342.000\n",
      ">Predicted=4342.000, Expected=4461.000\n",
      ">Predicted=4461.000, Expected=4017.000\n",
      ">Predicted=4017.000, Expected=3854.000\n",
      ">Predicted=3854.000, Expected=4936.000\n",
      "RMSE: 483.351\n"
     ]
    }
   ],
   "source": [
    "history = [X for X in train]\n",
    "predictions = list()\n",
    "\n",
    "for i in range (len(test)):\n",
    "    yhat = history[-1]\n",
    "    predictions.append(yhat)\n",
    "    \n",
    "    obs = test[i]\n",
    "    history.append(obs) \n",
    "    print(\">Predicted=%.3f, Expected=%.3f\" % (yhat, obs))\n",
    "        \n",
    "rmse = sqrt(mean_squared_error(test, predictions))\n",
    "print(\"RMSE: %.3f\" % rmse)"
   ]
  },
  {
   "cell_type": "markdown",
   "id": "1d7c4e06",
   "metadata": {},
   "source": [
    "### ARIMA Hyperparameters"
   ]
  },
  {
   "cell_type": "code",
   "execution_count": 82,
   "id": "6f467806",
   "metadata": {
    "ExecuteTime": {
     "end_time": "2023-01-24T16:16:34.759132Z",
     "start_time": "2023-01-24T16:16:34.747458Z"
    }
   },
   "outputs": [],
   "source": [
    "def evaluate_arima_model(X, arima_order):\n",
    "    X = X.astype(\"float32\")\n",
    "    train_size = int(len(X) * 0.50)\n",
    "    train, test = X[0:train_size], X[train_size:]\n",
    "    \n",
    "    history = [X for X in train]\n",
    "    predictions = list()\n",
    "    \n",
    "    for t in range(len(test)):\n",
    "        model = ARIMA(history, order=arima_order)\n",
    "        model_fit = model.fit(disp=0)\n",
    "        yhat = model_fit.forecast()[0]\n",
    "        predictions.append(yhat)\n",
    "        history.append(test[t])\n",
    "    rmse = sqrt(mean_squared_error(test, predictions))\n",
    "    return rmse"
   ]
  },
  {
   "cell_type": "markdown",
   "id": "7a2be7b7",
   "metadata": {},
   "source": [
    "### Grid search for p,d,q values"
   ]
  },
  {
   "cell_type": "code",
   "execution_count": 83,
   "id": "b9ee553f",
   "metadata": {
    "ExecuteTime": {
     "end_time": "2023-01-24T16:16:56.464835Z",
     "start_time": "2023-01-24T16:16:56.451403Z"
    }
   },
   "outputs": [],
   "source": [
    "def evaluate_models(dataset, p_values, d_values, q_values):\n",
    "    dataset = dataset.astype(\"float32\")\n",
    "    best_score, best_cfg = float(\"inf\"), None\n",
    "    for p in p_values:\n",
    "        for d in d_values:\n",
    "            for q in q_values:\n",
    "                order = (p, d, q)\n",
    "                try:\n",
    "                    rmse = evaluate_arima_model(train, order)\n",
    "                    if rmse < best_score:\n",
    "                        best_score, best_cfg = rmse, order\n",
    "                    print(\"ARIMA%S RMSE=%.3f\" % (order, rmse))\n",
    "                except:\n",
    "                    continue\n",
    "    print(\"Best ARIMA%s RMSE=%.3f\" % (best_cfg, best_score))"
   ]
  },
  {
   "cell_type": "code",
   "execution_count": 84,
   "id": "7d9cc0b4",
   "metadata": {
    "ExecuteTime": {
     "end_time": "2023-01-24T16:17:05.395671Z",
     "start_time": "2023-01-24T16:17:05.340127Z"
    }
   },
   "outputs": [
    {
     "name": "stdout",
     "output_type": "stream",
     "text": [
      "Best ARIMANone RMSE=inf\n"
     ]
    }
   ],
   "source": [
    "train = read_csv('dataset.csv', header=None, index_col=0, parse_dates=True, squeeze=True)\n",
    "p_values = range(0, 5)\n",
    "d_values = range(0, 5)\n",
    "q_values = range(0, 5)\n",
    "evaluate_models(train.values, p_values, d_values, q_values)"
   ]
  },
  {
   "cell_type": "markdown",
   "id": "24af5045",
   "metadata": {},
   "source": [
    "### Build Model based on the optimized values"
   ]
  },
  {
   "cell_type": "code",
   "execution_count": 85,
   "id": "cf78e7d8",
   "metadata": {
    "ExecuteTime": {
     "end_time": "2023-01-24T16:17:37.889099Z",
     "start_time": "2023-01-24T16:17:37.855530Z"
    }
   },
   "outputs": [],
   "source": [
    "train = read_csv('dataset.csv', header=None, index_col=0, parse_dates=True, squeeze=True)\n",
    "X = train.values\n",
    "X = X.astype(\"float32\")\n",
    "test = read_csv('validation.csv', header=None, index_col=0, parse_dates=True, squeeze=True)"
   ]
  },
  {
   "cell_type": "code",
   "execution_count": 87,
   "id": "ddbe3dac",
   "metadata": {
    "ExecuteTime": {
     "end_time": "2023-01-24T16:18:13.610313Z",
     "start_time": "2023-01-24T16:18:13.424759Z"
    }
   },
   "outputs": [
    {
     "data": {
      "text/plain": [
       "4991.13158939394"
      ]
     },
     "execution_count": 87,
     "metadata": {},
     "output_type": "execute_result"
    }
   ],
   "source": [
    "from statsmodels.tsa.arima.model import ARIMA\n",
    "model_arima = ARIMA(X, order=(4, 1, 0)).fit()\n",
    "forecast = model_arima.forecast(steps=4)[0]\n",
    "forecast"
   ]
  },
  {
   "cell_type": "code",
   "execution_count": 88,
   "id": "0a7d4cd3",
   "metadata": {
    "ExecuteTime": {
     "end_time": "2023-01-24T16:18:24.293276Z",
     "start_time": "2023-01-24T16:18:24.269001Z"
    }
   },
   "outputs": [
    {
     "data": {
      "text/plain": [
       "658.13158939394"
      ]
     },
     "execution_count": 88,
     "metadata": {},
     "output_type": "execute_result"
    }
   ],
   "source": [
    "rmse_arima = RMSE(forecast, test[1])\n",
    "rmse_arima"
   ]
  },
  {
   "cell_type": "code",
   "execution_count": 89,
   "id": "d97f468c",
   "metadata": {
    "ExecuteTime": {
     "end_time": "2023-01-24T16:18:32.877131Z",
     "start_time": "2023-01-24T16:18:32.862618Z"
    }
   },
   "outputs": [
    {
     "data": {
      "text/plain": [
       "15.188820433739672"
      ]
     },
     "execution_count": 89,
     "metadata": {},
     "output_type": "execute_result"
    }
   ],
   "source": [
    "mape_arima = MAPE(forecast, test[1])\n",
    "mape_arima"
   ]
  },
  {
   "cell_type": "markdown",
   "id": "3c1317d4",
   "metadata": {},
   "source": [
    "### Conclusion"
   ]
  },
  {
   "cell_type": "code",
   "execution_count": 90,
   "id": "4f9d8e81",
   "metadata": {
    "ExecuteTime": {
     "end_time": "2023-01-24T16:19:14.005638Z",
     "start_time": "2023-01-24T16:19:13.989718Z"
    }
   },
   "outputs": [],
   "source": [
    "output = pd.DataFrame({\"Models\": pd.Series([\"model_linear\", \"model_expo\", \"model_quad\", \"model_add_seas\", \"model_add_seas_quad\", \"model_mul_seas\", \"model_mul_add_seas\", \"model_simple_expo\", \"model_holt\", \"model_holt_expo\", \"model_arima\"]),\n",
    "                      \"RMSE_values\": pd.Series([rmse_linear, rmse_expo, rmse_quad, rmse_add_seas, rmse_add_seas_quad, rmse_mul_seas, rmse_mul_add_seas, rmse_simple_expo, rmse_holt, rmse_holt_expo, rmse_arima]),\n",
    "                      \"MAPE_values\": pd.Series([mape_linear, mape_expo, mape_quad, mape_add_seas, mape_add_seas_quad, mape_mul_seas, mape_mul_add_seas, mape_simple_expo, mape_holt, mape_holt_expo, mape_arima])})"
   ]
  },
  {
   "cell_type": "code",
   "execution_count": 91,
   "id": "66eef7cf",
   "metadata": {
    "ExecuteTime": {
     "end_time": "2023-01-24T16:19:22.412167Z",
     "start_time": "2023-01-24T16:19:22.380701Z"
    }
   },
   "outputs": [
    {
     "data": {
      "text/html": [
       "<div>\n",
       "<style scoped>\n",
       "    .dataframe tbody tr th:only-of-type {\n",
       "        vertical-align: middle;\n",
       "    }\n",
       "\n",
       "    .dataframe tbody tr th {\n",
       "        vertical-align: top;\n",
       "    }\n",
       "\n",
       "    .dataframe thead th {\n",
       "        text-align: right;\n",
       "    }\n",
       "</style>\n",
       "<table border=\"1\" class=\"dataframe\">\n",
       "  <thead>\n",
       "    <tr style=\"text-align: right;\">\n",
       "      <th></th>\n",
       "      <th>Models</th>\n",
       "      <th>RMSE_values</th>\n",
       "      <th>MAPE_values</th>\n",
       "    </tr>\n",
       "  </thead>\n",
       "  <tbody>\n",
       "    <tr>\n",
       "      <th>9</th>\n",
       "      <td>model_holt_expo</td>\n",
       "      <td>138.914386</td>\n",
       "      <td>2.873272</td>\n",
       "    </tr>\n",
       "    <tr>\n",
       "      <th>6</th>\n",
       "      <td>model_mul_add_seas</td>\n",
       "      <td>225.524391</td>\n",
       "      <td>4.466641</td>\n",
       "    </tr>\n",
       "    <tr>\n",
       "      <th>4</th>\n",
       "      <td>model_add_seas_quad</td>\n",
       "      <td>301.738007</td>\n",
       "      <td>5.763698</td>\n",
       "    </tr>\n",
       "    <tr>\n",
       "      <th>1</th>\n",
       "      <td>model_expo</td>\n",
       "      <td>466.247973</td>\n",
       "      <td>8.339472</td>\n",
       "    </tr>\n",
       "    <tr>\n",
       "      <th>2</th>\n",
       "      <td>model_quad</td>\n",
       "      <td>475.561835</td>\n",
       "      <td>9.177743</td>\n",
       "    </tr>\n",
       "    <tr>\n",
       "      <th>8</th>\n",
       "      <td>model_holt</td>\n",
       "      <td>576.444102</td>\n",
       "      <td>10.079277</td>\n",
       "    </tr>\n",
       "    <tr>\n",
       "      <th>0</th>\n",
       "      <td>model_linear</td>\n",
       "      <td>591.553296</td>\n",
       "      <td>9.338622</td>\n",
       "    </tr>\n",
       "    <tr>\n",
       "      <th>10</th>\n",
       "      <td>model_arima</td>\n",
       "      <td>658.131589</td>\n",
       "      <td>15.188820</td>\n",
       "    </tr>\n",
       "    <tr>\n",
       "      <th>7</th>\n",
       "      <td>model_simple_expo</td>\n",
       "      <td>776.480430</td>\n",
       "      <td>13.169737</td>\n",
       "    </tr>\n",
       "    <tr>\n",
       "      <th>3</th>\n",
       "      <td>model_add_seas</td>\n",
       "      <td>1860.023815</td>\n",
       "      <td>39.609867</td>\n",
       "    </tr>\n",
       "    <tr>\n",
       "      <th>5</th>\n",
       "      <td>model_mul_seas</td>\n",
       "      <td>1963.389640</td>\n",
       "      <td>41.792122</td>\n",
       "    </tr>\n",
       "  </tbody>\n",
       "</table>\n",
       "</div>"
      ],
      "text/plain": [
       "                 Models  RMSE_values  MAPE_values\n",
       "9       model_holt_expo   138.914386     2.873272\n",
       "6    model_mul_add_seas   225.524391     4.466641\n",
       "4   model_add_seas_quad   301.738007     5.763698\n",
       "1            model_expo   466.247973     8.339472\n",
       "2            model_quad   475.561835     9.177743\n",
       "8            model_holt   576.444102    10.079277\n",
       "0          model_linear   591.553296     9.338622\n",
       "10          model_arima   658.131589    15.188820\n",
       "7     model_simple_expo   776.480430    13.169737\n",
       "3        model_add_seas  1860.023815    39.609867\n",
       "5        model_mul_seas  1963.389640    41.792122"
      ]
     },
     "execution_count": 91,
     "metadata": {},
     "output_type": "execute_result"
    }
   ],
   "source": [
    "output.sort_values([\"RMSE_values\"])"
   ]
  },
  {
   "cell_type": "markdown",
   "id": "e34aced5",
   "metadata": {},
   "source": [
    "#### Observation:\n",
    "Model no 9 - 'model_holt_expo' built with 'Holts winter exponential smoothing' method gives the best RMSE and MAPE values, hence this is the best model for Forecasting of CocaCola Sales dataset."
   ]
  }
 ],
 "metadata": {
  "kernelspec": {
   "display_name": "Python 3 (ipykernel)",
   "language": "python",
   "name": "python3"
  },
  "language_info": {
   "codemirror_mode": {
    "name": "ipython",
    "version": 3
   },
   "file_extension": ".py",
   "mimetype": "text/x-python",
   "name": "python",
   "nbconvert_exporter": "python",
   "pygments_lexer": "ipython3",
   "version": "3.9.16"
  }
 },
 "nbformat": 4,
 "nbformat_minor": 5
}
